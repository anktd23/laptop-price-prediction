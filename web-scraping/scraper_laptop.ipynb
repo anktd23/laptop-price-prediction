{
 "cells": [
  {
   "cell_type": "code",
   "execution_count": 1,
   "id": "9c2c4b29",
   "metadata": {},
   "outputs": [],
   "source": [
    "with open('laptop.html','r',encoding='utf-8') as f:\n",
    "    html = f.read()"
   ]
  },
  {
   "cell_type": "code",
   "execution_count": 2,
   "id": "1ff31419",
   "metadata": {},
   "outputs": [],
   "source": [
    "from bs4 import BeautifulSoup\n",
    "import numpy as np\n",
    "import pandas as pd"
   ]
  },
  {
   "cell_type": "code",
   "execution_count": 3,
   "id": "4bcb7521",
   "metadata": {},
   "outputs": [],
   "source": [
    "soup = BeautifulSoup(html,'lxml')"
   ]
  },
  {
   "cell_type": "code",
   "execution_count": 4,
   "id": "33b07f59",
   "metadata": {},
   "outputs": [],
   "source": [
    "containers = soup.find_all('div',{'class':'sm-product has-tag has-features has-actions'})"
   ]
  },
  {
   "cell_type": "code",
   "execution_count": 5,
   "id": "27839cc7",
   "metadata": {},
   "outputs": [
    {
     "data": {
      "text/plain": [
       "1020"
      ]
     },
     "execution_count": 5,
     "metadata": {},
     "output_type": "execute_result"
    }
   ],
   "source": [
    "len(containers)"
   ]
  },
  {
   "cell_type": "code",
   "execution_count": 6,
   "id": "fe4c61c1",
   "metadata": {},
   "outputs": [
    {
     "name": "stdout",
     "output_type": "stream",
     "text": [
      "<div class=\"sm-product has-tag has-features has-actions\" data-way=\"\"><div class=\"sm-img-wrap\"><img alt=\"Infinix Zero Book Ultra Laptop (12th Gen Core i9/ 32GB/ 1TB SSD/ Win 11 Home)\" class=\"sm-img\" src=\"https://cdn1.smartprix.com/rx-iOC80ziMG-w280-h280/infinix-zero-book-ul.webp\"/></div><a class=\"name clamp-2\" data-target=\"_blank\" data-way=\"\" href=\"/laptops/infinix-zero-book-ultra-laptop-12th-gen-core-ppd1re52yexw\"><h2>Infinix Zero Book Ultra Laptop (12th Gen Core i9/ 32GB/ 1TB SSD/ Win 11 Home)</h2></a><span class=\"price\">₹84,490</span><!-- --><!-- --><div class=\"rating\"><span class=\"sm-rating\" style=\"--rating:4.2;\"><!-- --><i></i></span><!-- --></div><ul class=\"sm-feat specs\"><!--[--><li class=\"\">12th Gen Intel Core i9 12900H</li><li class=\"\">14 Cores (6P + 8E), 20 Threads</li><li class=\"\">32 GB LPDDR5 RAM</li><li class=\"\">1 TB SSD</li><li class=\"\">15.6 inches, 1920 x 1080 pixels</li><li class=\"\">Windows 11 OS</li><li class=\"\">1 Year Warranty</li><li class=\"\">Backlit Keyboard</li><!--]--></ul><div class=\"tags\"><div class=\"score rank-2-bg\"><b>65</b><small>Spec Score</small></div><!-- --></div><div class=\"sm-product-actions\"><!--[--><button><svg class=\"icon\" style=\"--s:20px;fill:dodgerblue;\" viewbox=\"0 0 24 24\"><path d=\"M17,13H13V17H11V13H7V11H11V7H13V11H17M12,2A10,10 0 0,0 2,12A10,10 0 0,0 12,22A10,10 0 0,0 22,12A10,10 0 0,0 12,2Z\"></path></svg><small>Compare</small></button><button class=\"like\"><svg class=\"icon\" style=\"--s:20px;fill:hotpink;\" viewbox=\"0 0 24 24\"><path d=\"M12.1,18.55L12,18.65L11.89,18.55C7.14,14.24 4,11.39 4,8.5C4,6.5 5.5,5 7.5,5C9.04,5 10.54,6 11.07,7.36H12.93C13.46,6 14.96,5 16.5,5C18.5,5 20,6.5 20,8.5C20,11.39 16.86,14.24 12.1,18.55M16.5,3C14.76,3 13.09,3.81 12,5.08C10.91,3.81 9.24,3 7.5,3C4.42,3 2,5.41 2,8.5C2,12.27 5.4,15.36 10.55,20.03L12,21.35L13.45,20.03C18.6,15.36 22,12.27 22,8.5C22,5.41 19.58,3 16.5,3Z\"></path></svg><small>Like</small></button><a class=\"store\" href=\"https://l.smartprix.com/l?k=12_IwbPnYFeeVo6xiWZ93t.-hrhAgTYBOr3Uh7YugYuYDcya3sc6ssOcCTU3rcFa3YaFcTrBUsBcYuUaTcAs3acYlc5oUtcWaucZocW6c5cU6cFFic8Yuis8Fc55ctsnacyT5oc6CFYuaFFh-hDh8XgHGrb64raPAbhmBYihkwkp7pxVGJS4v.Gf1hrhhaFhrhrhhacBrWahrhrBi53a4oIaD8hrFB5ofmAFl4XsyTd\" rel=\"nofollow noopener\" target=\"_blank\"><img alt=\"flipkart\" class=\"sm-img\" loading=\"lazy\" src=\"https://cdn1.smartprix.com/rx-i1jV84HS1-w32-h32/flipkart.webp\"/><small>Search →</small></a><!--]--></div><div class=\"tag\">UPCOMING</div></div>\n"
     ]
    }
   ],
   "source": [
    "for i in containers:\n",
    "    print(i)\n",
    "    break\n",
    "       "
   ]
  },
  {
   "cell_type": "code",
   "execution_count": 7,
   "id": "20b54793",
   "metadata": {},
   "outputs": [],
   "source": [
    "names = []\n",
    "prices = []\n",
    "scores = []\n",
    "processor = []\n",
    "no_of_cores = []\n",
    "ram = []\n",
    "graphics = []\n",
    "storage = []\n",
    "display = []\n",
    "os = []\n",
    "warranty = []\n",
    "for i in containers:\n",
    "    try:\n",
    "        names.append(i.find('h2').text)\n",
    "    except:\n",
    "        names.append(np.nan)\n",
    "    try:\n",
    "        prices.append(i.find('span',{'class':'price'}).text)\n",
    "    except:\n",
    "        prices.append(np.nan)\n",
    "    try:\n",
    "        scores.append(i.find('div',{'class':'score rank-2-bg'}).find('b').text)\n",
    "    except:\n",
    "        scores.append(np.nan)    \n",
    "    try:\n",
    "        x = i.find('ul',{'class':'sm-feat specs'}).find_all('li')\n",
    "        processor.append(x[0].text)\n",
    "    except:\n",
    "        processor.append(np.nan)\n",
    "\n",
    "    try:\n",
    "        x = i.find('ul',{'class':'sm-feat specs'}).find_all('li')\n",
    "        no_of_cores.append(x[1].text)\n",
    "    except:\n",
    "        no_of_cores.append(np.nan)\n",
    "    try:\n",
    "        x = i.find('ul',{'class':'sm-feat specs'}).find_all('li')\n",
    "        ram.append(x[2].text)\n",
    "    except:\n",
    "        ram.append(np.nan)\n",
    "    try:\n",
    "        x = i.find('ul',{'class':'sm-feat specs'}).find_all('li')\n",
    "        storage.append(x[3].text)\n",
    "    except:\n",
    "        storage.append(np.nan)\n",
    "    try:\n",
    "        x = i.find('ul',{'class':'sm-feat specs'}).find_all('li')\n",
    "        graphics.append(x[4].text)\n",
    "    except:\n",
    "        graphics.append(np.nan)\n",
    "    try:\n",
    "        x = i.find('ul',{'class':'sm-feat specs'}).find_all('li')\n",
    "        display.append(x[5].text)\n",
    "    except:\n",
    "        display.append(np.nan)\n",
    "    try:\n",
    "        x = i.find('ul',{'class':'sm-feat specs'}).find_all('li')\n",
    "        os.append(x[6].text)\n",
    "    except:\n",
    "        os.append(np.nan)\n",
    "    try:\n",
    "        x = i.find('ul',{'class':'sm-feat specs'}).find_all('li')\n",
    "        warranty.append(x[7].text)\n",
    "    except:\n",
    "        warranty.append(np.nan)"
   ]
  },
  {
   "cell_type": "code",
   "execution_count": 8,
   "id": "e6c0d496",
   "metadata": {},
   "outputs": [
    {
     "data": {
      "text/plain": [
       "1020"
      ]
     },
     "execution_count": 8,
     "metadata": {},
     "output_type": "execute_result"
    }
   ],
   "source": [
    "len(names)"
   ]
  },
  {
   "cell_type": "code",
   "execution_count": 9,
   "id": "05fb4caf",
   "metadata": {},
   "outputs": [
    {
     "data": {
      "text/plain": [
       "1020"
      ]
     },
     "execution_count": 9,
     "metadata": {},
     "output_type": "execute_result"
    }
   ],
   "source": [
    "len(prices)"
   ]
  },
  {
   "cell_type": "code",
   "execution_count": 10,
   "id": "c923a097",
   "metadata": {},
   "outputs": [
    {
     "data": {
      "text/plain": [
       "1020"
      ]
     },
     "execution_count": 10,
     "metadata": {},
     "output_type": "execute_result"
    }
   ],
   "source": [
    "len(warranty)"
   ]
  },
  {
   "cell_type": "code",
   "execution_count": 11,
   "id": "d89eea5c",
   "metadata": {},
   "outputs": [],
   "source": [
    "df = pd.DataFrame({\n",
    "    'model':names,\n",
    "    'price':prices,\n",
    "    'score':scores,\n",
    "    'processor':processor,\n",
    "    'no of cores':no_of_cores,\n",
    "    'storage':storage,\n",
    "    'ram':ram,\n",
    "    'display':display,\n",
    "    'os':os,\n",
    "    'warranty':warranty\n",
    "})"
   ]
  },
  {
   "cell_type": "code",
   "execution_count": 12,
   "id": "bcf04385",
   "metadata": {},
   "outputs": [
    {
     "name": "stdout",
     "output_type": "stream",
     "text": [
      "<class 'pandas.core.frame.DataFrame'>\n",
      "RangeIndex: 1020 entries, 0 to 1019\n",
      "Data columns (total 10 columns):\n",
      " #   Column       Non-Null Count  Dtype \n",
      "---  ------       --------------  ----- \n",
      " 0   model        1020 non-null   object\n",
      " 1   price        1020 non-null   object\n",
      " 2   score        596 non-null    object\n",
      " 3   processor    1019 non-null   object\n",
      " 4   no of cores  1019 non-null   object\n",
      " 5   storage      1019 non-null   object\n",
      " 6   ram          1019 non-null   object\n",
      " 7   display      1018 non-null   object\n",
      " 8   os           1018 non-null   object\n",
      " 9   warranty     1011 non-null   object\n",
      "dtypes: object(10)\n",
      "memory usage: 79.8+ KB\n"
     ]
    }
   ],
   "source": [
    "df.info()"
   ]
  },
  {
   "cell_type": "code",
   "execution_count": 14,
   "id": "746e254f",
   "metadata": {},
   "outputs": [
    {
     "data": {
      "text/html": [
       "<div>\n",
       "<style scoped>\n",
       "    .dataframe tbody tr th:only-of-type {\n",
       "        vertical-align: middle;\n",
       "    }\n",
       "\n",
       "    .dataframe tbody tr th {\n",
       "        vertical-align: top;\n",
       "    }\n",
       "\n",
       "    .dataframe thead th {\n",
       "        text-align: right;\n",
       "    }\n",
       "</style>\n",
       "<table border=\"1\" class=\"dataframe\">\n",
       "  <thead>\n",
       "    <tr style=\"text-align: right;\">\n",
       "      <th></th>\n",
       "      <th>model</th>\n",
       "      <th>price</th>\n",
       "      <th>score</th>\n",
       "      <th>processor</th>\n",
       "      <th>no of cores</th>\n",
       "      <th>storage</th>\n",
       "      <th>ram</th>\n",
       "      <th>display</th>\n",
       "      <th>os</th>\n",
       "      <th>warranty</th>\n",
       "    </tr>\n",
       "  </thead>\n",
       "  <tbody>\n",
       "    <tr>\n",
       "      <th>0</th>\n",
       "      <td>Infinix Zero Book Ultra Laptop (12th Gen Core ...</td>\n",
       "      <td>₹84,490</td>\n",
       "      <td>65</td>\n",
       "      <td>12th Gen Intel Core i9 12900H</td>\n",
       "      <td>14 Cores (6P + 8E), 20 Threads</td>\n",
       "      <td>1 TB SSD</td>\n",
       "      <td>32 GB LPDDR5 RAM</td>\n",
       "      <td>Windows 11 OS</td>\n",
       "      <td>1 Year Warranty</td>\n",
       "      <td>Backlit Keyboard</td>\n",
       "    </tr>\n",
       "    <tr>\n",
       "      <th>1</th>\n",
       "      <td>HP Pavilion 15-ec2004AX Gaming Laptop (AMD Ryz...</td>\n",
       "      <td>₹52,990</td>\n",
       "      <td>63</td>\n",
       "      <td>5th Gen AMD Ryzen 5  5600H</td>\n",
       "      <td>Hexa Core, 12 Threads</td>\n",
       "      <td>512 GB SSD</td>\n",
       "      <td>8 GB DDR4 RAM</td>\n",
       "      <td>15.6 inches, 1920 x 1080 pixels</td>\n",
       "      <td>Windows 10 OS</td>\n",
       "      <td>1 Year Warranty</td>\n",
       "    </tr>\n",
       "    <tr>\n",
       "      <th>2</th>\n",
       "      <td>Dell Inspiron 3520 Laptop (12th Gen Core i3/ 8...</td>\n",
       "      <td>₹45,200</td>\n",
       "      <td>NaN</td>\n",
       "      <td>12th Gen Intel Core i3 1215U</td>\n",
       "      <td>Hexa Core (2P + 4E), 8 Threads</td>\n",
       "      <td>512 GB SSD</td>\n",
       "      <td>8 GB DDR4 RAM</td>\n",
       "      <td>15.6 inches, 1920 x 1080 pixels</td>\n",
       "      <td>Windows 11 OS</td>\n",
       "      <td>1 Year Warranty</td>\n",
       "    </tr>\n",
       "    <tr>\n",
       "      <th>3</th>\n",
       "      <td>HP 15s-fr4000TU Laptop (11th Gen Core i5/ 8GB/...</td>\n",
       "      <td>₹52,990</td>\n",
       "      <td>63</td>\n",
       "      <td>11th Gen Intel Core i5 1155G7</td>\n",
       "      <td>Quad Core, 8 Threads</td>\n",
       "      <td>512 GB SSD</td>\n",
       "      <td>8 GB DDR4 RAM</td>\n",
       "      <td>15.6 inches, 1920 x 1080 pixels</td>\n",
       "      <td>Windows 11 OS</td>\n",
       "      <td>1 Year Warranty</td>\n",
       "    </tr>\n",
       "    <tr>\n",
       "      <th>4</th>\n",
       "      <td>HP Victus 15-fa0070TX Laptop (12th Gen Core i5...</td>\n",
       "      <td>₹67,990</td>\n",
       "      <td>71</td>\n",
       "      <td>12th Gen Intel Core i5 12450H</td>\n",
       "      <td>Octa Core (4P + 4E), 12 Threads</td>\n",
       "      <td>512 GB SSD</td>\n",
       "      <td>8 GB DDR4 RAM</td>\n",
       "      <td>15.6 inches, 1920 x 1080 pixels</td>\n",
       "      <td>Windows 11 OS</td>\n",
       "      <td>1 Year Warranty</td>\n",
       "    </tr>\n",
       "  </tbody>\n",
       "</table>\n",
       "</div>"
      ],
      "text/plain": [
       "                                               model    price score  \\\n",
       "0  Infinix Zero Book Ultra Laptop (12th Gen Core ...  ₹84,490    65   \n",
       "1  HP Pavilion 15-ec2004AX Gaming Laptop (AMD Ryz...  ₹52,990    63   \n",
       "2  Dell Inspiron 3520 Laptop (12th Gen Core i3/ 8...  ₹45,200   NaN   \n",
       "3  HP 15s-fr4000TU Laptop (11th Gen Core i5/ 8GB/...  ₹52,990    63   \n",
       "4  HP Victus 15-fa0070TX Laptop (12th Gen Core i5...  ₹67,990    71   \n",
       "\n",
       "                       processor                      no of cores     storage  \\\n",
       "0  12th Gen Intel Core i9 12900H   14 Cores (6P + 8E), 20 Threads    1 TB SSD   \n",
       "1     5th Gen AMD Ryzen 5  5600H            Hexa Core, 12 Threads  512 GB SSD   \n",
       "2   12th Gen Intel Core i3 1215U   Hexa Core (2P + 4E), 8 Threads  512 GB SSD   \n",
       "3  11th Gen Intel Core i5 1155G7             Quad Core, 8 Threads  512 GB SSD   \n",
       "4  12th Gen Intel Core i5 12450H  Octa Core (4P + 4E), 12 Threads  512 GB SSD   \n",
       "\n",
       "                ram                          display               os  \\\n",
       "0  32 GB LPDDR5 RAM                    Windows 11 OS  1 Year Warranty   \n",
       "1     8 GB DDR4 RAM  15.6 inches, 1920 x 1080 pixels    Windows 10 OS   \n",
       "2     8 GB DDR4 RAM  15.6 inches, 1920 x 1080 pixels    Windows 11 OS   \n",
       "3     8 GB DDR4 RAM  15.6 inches, 1920 x 1080 pixels    Windows 11 OS   \n",
       "4     8 GB DDR4 RAM  15.6 inches, 1920 x 1080 pixels    Windows 11 OS   \n",
       "\n",
       "           warranty  \n",
       "0  Backlit Keyboard  \n",
       "1   1 Year Warranty  \n",
       "2   1 Year Warranty  \n",
       "3   1 Year Warranty  \n",
       "4   1 Year Warranty  "
      ]
     },
     "execution_count": 14,
     "metadata": {},
     "output_type": "execute_result"
    }
   ],
   "source": [
    "df.head()"
   ]
  },
  {
   "cell_type": "code",
   "execution_count": 15,
   "id": "0975e3c7",
   "metadata": {},
   "outputs": [],
   "source": [
    "df.to_csv('laptop_data.csv')"
   ]
  },
  {
   "cell_type": "code",
   "execution_count": null,
   "id": "7c44c455",
   "metadata": {},
   "outputs": [],
   "source": []
  }
 ],
 "metadata": {
  "kernelspec": {
   "display_name": "web-scrapper",
   "language": "python",
   "name": "python3"
  },
  "language_info": {
   "codemirror_mode": {
    "name": "ipython",
    "version": 3
   },
   "file_extension": ".py",
   "mimetype": "text/x-python",
   "name": "python",
   "nbconvert_exporter": "python",
   "pygments_lexer": "ipython3",
   "version": "3.7.16"
  },
  "vscode": {
   "interpreter": {
    "hash": "0645534d119aeddbae49456311b82a64ea6911f24b5710e6f9aedd0b13a6599c"
   }
  }
 },
 "nbformat": 4,
 "nbformat_minor": 5
}
