{
 "cells": [
  {
   "cell_type": "markdown",
   "id": "5490313b",
   "metadata": {},
   "source": [
    "## Model training and Evaluation"
   ]
  },
  {
   "cell_type": "code",
   "execution_count": 7,
   "id": "d9c9cb37",
   "metadata": {},
   "outputs": [],
   "source": [
    "# import necessory packages\n",
    "import pandas as pd\n",
    "import numpy as np\n",
    "import matplotlib.pyplot as plt\n",
    "import seaborn as sns\n",
    "import scipy\n",
    "from scipy import stats\n",
    "\n",
    "\n",
    "from sklearn.linear_model import LinearRegression,Lasso,Ridge\n",
    "from sklearn.ensemble import RandomForestRegressor, AdaBoostRegressor, GradientBoostingRegressor\n",
    "from sklearn.neighbors import KNeighborsRegressor\n",
    "from sklearn.tree import DecisionTreeRegressor\n",
    "from sklearn.svm import SVR\n",
    "from xgboost import XGBRegressor\n",
    "from sklearn import metrics\n",
    "from sklearn.metrics import r2_score,mean_absolute_error,mean_squared_error,accuracy_score\n",
    "from sklearn.decomposition import PCA\n",
    "\n",
    " \n",
    "from sklearn.model_selection import  train_test_split, cross_val_score,RepeatedStratifiedKFold\n",
    "from sklearn.preprocessing import OneHotEncoder, StandardScaler, MinMaxScaler,RobustScaler\n",
    "from sklearn.impute import SimpleImputer, KNNImputer\n",
    "from sklearn.pipeline import Pipeline\n",
    "from kneed import KneeLocator\n",
    "from sklearn.model_selection import GridSearchCV\n",
    "\n",
    "import warnings\n",
    "warnings.filterwarnings(\"ignore\")\n",
    "%matplotlib inline"
   ]
  },
  {
   "cell_type": "code",
   "execution_count": 8,
   "id": "784d86c1",
   "metadata": {},
   "outputs": [],
   "source": [
    "# import cleaned data\n",
    "data = pd.read_csv('preprocessed_data.csv')"
   ]
  },
  {
   "cell_type": "code",
   "execution_count": 9,
   "id": "61270bb2",
   "metadata": {},
   "outputs": [],
   "source": [
    "pd.set_option('display.max_columns',None)\n",
    "pd.set_option('display.max_rows',None)"
   ]
  },
  {
   "cell_type": "code",
   "execution_count": 10,
   "id": "e34c4246",
   "metadata": {},
   "outputs": [
    {
     "data": {
      "text/html": [
       "<div>\n",
       "<style scoped>\n",
       "    .dataframe tbody tr th:only-of-type {\n",
       "        vertical-align: middle;\n",
       "    }\n",
       "\n",
       "    .dataframe tbody tr th {\n",
       "        vertical-align: top;\n",
       "    }\n",
       "\n",
       "    .dataframe thead th {\n",
       "        text-align: right;\n",
       "    }\n",
       "</style>\n",
       "<table border=\"1\" class=\"dataframe\">\n",
       "  <thead>\n",
       "    <tr style=\"text-align: right;\">\n",
       "      <th></th>\n",
       "      <th>Unnamed: 0</th>\n",
       "      <th>price</th>\n",
       "      <th>score</th>\n",
       "      <th>processor gen</th>\n",
       "      <th>type of core</th>\n",
       "      <th>no of threads</th>\n",
       "      <th>Ram</th>\n",
       "      <th>storage capacity</th>\n",
       "      <th>ppi</th>\n",
       "      <th>Warranty</th>\n",
       "      <th>brand_names_apple</th>\n",
       "      <th>brand_names_asus</th>\n",
       "      <th>brand_names_dell</th>\n",
       "      <th>brand_names_hp</th>\n",
       "      <th>brand_names_lenovo</th>\n",
       "      <th>brand_names_msi</th>\n",
       "      <th>brand_names_others</th>\n",
       "      <th>processor brand_Apple</th>\n",
       "      <th>processor brand_Intel</th>\n",
       "      <th>processor brand_others</th>\n",
       "      <th>processor type_celeron</th>\n",
       "      <th>processor type_i3</th>\n",
       "      <th>processor type_i5</th>\n",
       "      <th>processor type_i7</th>\n",
       "      <th>processor type_i9</th>\n",
       "      <th>processor type_m1</th>\n",
       "      <th>processor type_m2</th>\n",
       "      <th>processor type_others</th>\n",
       "      <th>processor type_pentium</th>\n",
       "      <th>processor type_ryzen</th>\n",
       "      <th>ram type_ddr4</th>\n",
       "      <th>ram type_ddr5</th>\n",
       "      <th>ram type_lpddr3</th>\n",
       "      <th>ram type_lpddr4</th>\n",
       "      <th>ram type_lpddr4x</th>\n",
       "      <th>ram type_lpddr5</th>\n",
       "      <th>ram type_ram</th>\n",
       "      <th>ram type_unified</th>\n",
       "      <th>storage type_SSD</th>\n",
       "      <th>OS_DOS</th>\n",
       "      <th>OS_Mac</th>\n",
       "      <th>OS_Windows</th>\n",
       "      <th>OS_Windows 10</th>\n",
       "      <th>OS_Windows 11</th>\n",
       "      <th>OS_others</th>\n",
       "    </tr>\n",
       "  </thead>\n",
       "  <tbody>\n",
       "    <tr>\n",
       "      <th>0</th>\n",
       "      <td>0</td>\n",
       "      <td>84490</td>\n",
       "      <td>65.0</td>\n",
       "      <td>12.0</td>\n",
       "      <td>14.0</td>\n",
       "      <td>32.0</td>\n",
       "      <td>32</td>\n",
       "      <td>1024.0</td>\n",
       "      <td>NaN</td>\n",
       "      <td>NaN</td>\n",
       "      <td>0</td>\n",
       "      <td>0</td>\n",
       "      <td>0</td>\n",
       "      <td>0</td>\n",
       "      <td>0</td>\n",
       "      <td>0</td>\n",
       "      <td>1</td>\n",
       "      <td>0</td>\n",
       "      <td>1</td>\n",
       "      <td>0</td>\n",
       "      <td>0</td>\n",
       "      <td>0</td>\n",
       "      <td>0</td>\n",
       "      <td>0</td>\n",
       "      <td>1</td>\n",
       "      <td>0</td>\n",
       "      <td>0</td>\n",
       "      <td>0</td>\n",
       "      <td>0</td>\n",
       "      <td>0</td>\n",
       "      <td>0</td>\n",
       "      <td>0</td>\n",
       "      <td>0</td>\n",
       "      <td>0</td>\n",
       "      <td>0</td>\n",
       "      <td>1</td>\n",
       "      <td>0</td>\n",
       "      <td>0</td>\n",
       "      <td>1</td>\n",
       "      <td>0</td>\n",
       "      <td>0</td>\n",
       "      <td>0</td>\n",
       "      <td>0</td>\n",
       "      <td>1</td>\n",
       "      <td>0</td>\n",
       "    </tr>\n",
       "  </tbody>\n",
       "</table>\n",
       "</div>"
      ],
      "text/plain": [
       "   Unnamed: 0  price  score  processor gen  type of core  no of threads  Ram  \\\n",
       "0           0  84490   65.0           12.0          14.0           32.0   32   \n",
       "\n",
       "   storage capacity  ppi  Warranty  brand_names_apple  brand_names_asus  \\\n",
       "0            1024.0  NaN       NaN                  0                 0   \n",
       "\n",
       "   brand_names_dell  brand_names_hp  brand_names_lenovo  brand_names_msi  \\\n",
       "0                 0               0                   0                0   \n",
       "\n",
       "   brand_names_others  processor brand_Apple  processor brand_Intel  \\\n",
       "0                   1                      0                      1   \n",
       "\n",
       "   processor brand_others  processor type_celeron  processor type_i3  \\\n",
       "0                       0                       0                  0   \n",
       "\n",
       "   processor type_i5  processor type_i7  processor type_i9  processor type_m1  \\\n",
       "0                  0                  0                  1                  0   \n",
       "\n",
       "   processor type_m2  processor type_others  processor type_pentium  \\\n",
       "0                  0                      0                       0   \n",
       "\n",
       "   processor type_ryzen  ram type_ddr4  ram type_ddr5  ram type_lpddr3  \\\n",
       "0                     0              0              0                0   \n",
       "\n",
       "   ram type_lpddr4  ram type_lpddr4x  ram type_lpddr5  ram type_ram  \\\n",
       "0                0                 0                1             0   \n",
       "\n",
       "   ram type_unified  storage type_SSD  OS_DOS  OS_Mac  OS_Windows  \\\n",
       "0                 0                 1       0       0           0   \n",
       "\n",
       "   OS_Windows 10  OS_Windows 11  OS_others  \n",
       "0              0              1          0  "
      ]
     },
     "execution_count": 10,
     "metadata": {},
     "output_type": "execute_result"
    }
   ],
   "source": [
    "data.head(1)"
   ]
  },
  {
   "cell_type": "code",
   "execution_count": 11,
   "id": "a91fe534",
   "metadata": {},
   "outputs": [
    {
     "data": {
      "text/plain": [
       "(1016, 45)"
      ]
     },
     "execution_count": 11,
     "metadata": {},
     "output_type": "execute_result"
    }
   ],
   "source": [
    "# checking shape of dataset\n",
    "data.shape"
   ]
  },
  {
   "cell_type": "code",
   "execution_count": 12,
   "id": "68f323d3",
   "metadata": {},
   "outputs": [],
   "source": [
    "# dropping column 'Unnmaed:0'\n",
    "data.drop('Unnamed: 0',inplace=True,axis=1)"
   ]
  },
  {
   "cell_type": "code",
   "execution_count": 13,
   "id": "4c547478",
   "metadata": {},
   "outputs": [
    {
     "data": {
      "text/html": [
       "<div>\n",
       "<style scoped>\n",
       "    .dataframe tbody tr th:only-of-type {\n",
       "        vertical-align: middle;\n",
       "    }\n",
       "\n",
       "    .dataframe tbody tr th {\n",
       "        vertical-align: top;\n",
       "    }\n",
       "\n",
       "    .dataframe thead th {\n",
       "        text-align: right;\n",
       "    }\n",
       "</style>\n",
       "<table border=\"1\" class=\"dataframe\">\n",
       "  <thead>\n",
       "    <tr style=\"text-align: right;\">\n",
       "      <th></th>\n",
       "      <th>price</th>\n",
       "      <th>score</th>\n",
       "      <th>processor gen</th>\n",
       "      <th>type of core</th>\n",
       "      <th>no of threads</th>\n",
       "      <th>Ram</th>\n",
       "      <th>storage capacity</th>\n",
       "      <th>ppi</th>\n",
       "      <th>Warranty</th>\n",
       "      <th>brand_names_apple</th>\n",
       "      <th>brand_names_asus</th>\n",
       "      <th>brand_names_dell</th>\n",
       "      <th>brand_names_hp</th>\n",
       "      <th>brand_names_lenovo</th>\n",
       "      <th>brand_names_msi</th>\n",
       "      <th>brand_names_others</th>\n",
       "      <th>processor brand_Apple</th>\n",
       "      <th>processor brand_Intel</th>\n",
       "      <th>processor brand_others</th>\n",
       "      <th>processor type_celeron</th>\n",
       "      <th>processor type_i3</th>\n",
       "      <th>processor type_i5</th>\n",
       "      <th>processor type_i7</th>\n",
       "      <th>processor type_i9</th>\n",
       "      <th>processor type_m1</th>\n",
       "      <th>processor type_m2</th>\n",
       "      <th>processor type_others</th>\n",
       "      <th>processor type_pentium</th>\n",
       "      <th>processor type_ryzen</th>\n",
       "      <th>ram type_ddr4</th>\n",
       "      <th>ram type_ddr5</th>\n",
       "      <th>ram type_lpddr3</th>\n",
       "      <th>ram type_lpddr4</th>\n",
       "      <th>ram type_lpddr4x</th>\n",
       "      <th>ram type_lpddr5</th>\n",
       "      <th>ram type_ram</th>\n",
       "      <th>ram type_unified</th>\n",
       "      <th>storage type_SSD</th>\n",
       "      <th>OS_DOS</th>\n",
       "      <th>OS_Mac</th>\n",
       "      <th>OS_Windows</th>\n",
       "      <th>OS_Windows 10</th>\n",
       "      <th>OS_Windows 11</th>\n",
       "      <th>OS_others</th>\n",
       "    </tr>\n",
       "  </thead>\n",
       "  <tbody>\n",
       "    <tr>\n",
       "      <th>0</th>\n",
       "      <td>84490</td>\n",
       "      <td>65.0</td>\n",
       "      <td>12.0</td>\n",
       "      <td>14.0</td>\n",
       "      <td>32.0</td>\n",
       "      <td>32</td>\n",
       "      <td>1024.0</td>\n",
       "      <td>NaN</td>\n",
       "      <td>NaN</td>\n",
       "      <td>0</td>\n",
       "      <td>0</td>\n",
       "      <td>0</td>\n",
       "      <td>0</td>\n",
       "      <td>0</td>\n",
       "      <td>0</td>\n",
       "      <td>1</td>\n",
       "      <td>0</td>\n",
       "      <td>1</td>\n",
       "      <td>0</td>\n",
       "      <td>0</td>\n",
       "      <td>0</td>\n",
       "      <td>0</td>\n",
       "      <td>0</td>\n",
       "      <td>1</td>\n",
       "      <td>0</td>\n",
       "      <td>0</td>\n",
       "      <td>0</td>\n",
       "      <td>0</td>\n",
       "      <td>0</td>\n",
       "      <td>0</td>\n",
       "      <td>0</td>\n",
       "      <td>0</td>\n",
       "      <td>0</td>\n",
       "      <td>0</td>\n",
       "      <td>1</td>\n",
       "      <td>0</td>\n",
       "      <td>0</td>\n",
       "      <td>1</td>\n",
       "      <td>0</td>\n",
       "      <td>0</td>\n",
       "      <td>0</td>\n",
       "      <td>0</td>\n",
       "      <td>1</td>\n",
       "      <td>0</td>\n",
       "    </tr>\n",
       "  </tbody>\n",
       "</table>\n",
       "</div>"
      ],
      "text/plain": [
       "   price  score  processor gen  type of core  no of threads  Ram  \\\n",
       "0  84490   65.0           12.0          14.0           32.0   32   \n",
       "\n",
       "   storage capacity  ppi  Warranty  brand_names_apple  brand_names_asus  \\\n",
       "0            1024.0  NaN       NaN                  0                 0   \n",
       "\n",
       "   brand_names_dell  brand_names_hp  brand_names_lenovo  brand_names_msi  \\\n",
       "0                 0               0                   0                0   \n",
       "\n",
       "   brand_names_others  processor brand_Apple  processor brand_Intel  \\\n",
       "0                   1                      0                      1   \n",
       "\n",
       "   processor brand_others  processor type_celeron  processor type_i3  \\\n",
       "0                       0                       0                  0   \n",
       "\n",
       "   processor type_i5  processor type_i7  processor type_i9  processor type_m1  \\\n",
       "0                  0                  0                  1                  0   \n",
       "\n",
       "   processor type_m2  processor type_others  processor type_pentium  \\\n",
       "0                  0                      0                       0   \n",
       "\n",
       "   processor type_ryzen  ram type_ddr4  ram type_ddr5  ram type_lpddr3  \\\n",
       "0                     0              0              0                0   \n",
       "\n",
       "   ram type_lpddr4  ram type_lpddr4x  ram type_lpddr5  ram type_ram  \\\n",
       "0                0                 0                1             0   \n",
       "\n",
       "   ram type_unified  storage type_SSD  OS_DOS  OS_Mac  OS_Windows  \\\n",
       "0                 0                 1       0       0           0   \n",
       "\n",
       "   OS_Windows 10  OS_Windows 11  OS_others  \n",
       "0              0              1          0  "
      ]
     },
     "execution_count": 13,
     "metadata": {},
     "output_type": "execute_result"
    }
   ],
   "source": [
    "data.head(1)"
   ]
  },
  {
   "cell_type": "code",
   "execution_count": 14,
   "id": "95f779c1",
   "metadata": {},
   "outputs": [],
   "source": [
    "# Splitting X and y for all Experiments\n",
    "X= data.drop('price', axis=1)\n",
    "y = data['price']"
   ]
  },
  {
   "cell_type": "markdown",
   "id": "6a7733eb",
   "metadata": {},
   "source": [
    "### Create function for model training and model evaluation"
   ]
  },
  {
   "cell_type": "code",
   "execution_count": 15,
   "id": "0ea07b5c",
   "metadata": {},
   "outputs": [],
   "source": [
    "def evaluate_reg(y_true, y_pred):\n",
    "    '''\n",
    "    This function takes in true values and predicted values\n",
    "    Returns: r2_score,RMSE\n",
    "    '''\n",
    "    score = r2_score(y_true, y_pred) # Calculate Accuracy\n",
    "    rmse = mean_squared_error(y_true, y_pred, squared=False) #Calculate Root mean sqaured error\n",
    "    return score,rmse"
   ]
  },
  {
   "cell_type": "code",
   "execution_count": 16,
   "id": "b8b5f2e6",
   "metadata": {},
   "outputs": [],
   "source": [
    "# Create a function which can evaluate models and return a report \n",
    "def evaluate_models(X, y, models):\n",
    "    '''\n",
    "    This function takes in X and y and models dictionary as input\n",
    "    It splits the data into Train Test split\n",
    "    Iterates through the given model dictionary and evaluates the metrics\n",
    "    Returns: Dataframe which contains report of all models metrics with cost\n",
    "    '''\n",
    "    # separate dataset into train and test\n",
    "    X_train, X_test, y_train, y_test = train_test_split(X,y,test_size=0.15,random_state=10)\n",
    "    \n",
    "    models_list = []\n",
    "    accuracy_list_train = []\n",
    "    accuracy_list_test = []\n",
    "    train_rmse = []\n",
    "    test_rmse = []\n",
    "    retraining = []\n",
    "\n",
    "    \n",
    "    for i in range(len(list(models))):\n",
    "        model = list(models.values())[i]\n",
    "        # Train model\n",
    "        model.fit(X_train, y_train) \n",
    "\n",
    "        # Make predictions\n",
    "        y_train_pred = model.predict(X_train)\n",
    "        y_test_pred = model.predict(X_test)\n",
    "\n",
    "        # Training set performance\n",
    "        model_train_accuracy,model_train_rmse=evaluate_reg(y_train ,y_train_pred)\n",
    "\n",
    "        # Test set performance\n",
    "        model_test_accuracy,model_test_rmse=evaluate_reg(y_test ,y_test_pred)\n",
    "        \n",
    "        # Accuracy Threshold 0.1\n",
    "        diff = model_train_accuracy - model_test_accuracy\n",
    "    \n",
    "        print(list(models.keys())[i])\n",
    "        \n",
    "        models_list.append(list(models.keys())[i])\n",
    "        accuracy_list_train.append(model_train_accuracy)\n",
    "        accuracy_list_test.append(model_test_accuracy)\n",
    "        train_rmse.append(model_train_rmse)\n",
    "        test_rmse.append(model_test_rmse)\n",
    "        \n",
    "        if (diff <=0.1 ) or (diff <= -0.1):\n",
    "            retraining.append('accepted')\n",
    "        elif diff > 0.1:\n",
    "            retraining.append('Overfitting')\n",
    "        else:\n",
    "            retraining.append('Underfitting')\n",
    "            \n",
    "\n",
    "        print('Model performance for Training set')\n",
    "        print(\"- Accuracy: {}\".format(model_train_accuracy))\n",
    "        print(\"- RMSE: {}\".format(model_train_rmse)) \n",
    "\n",
    "        print('----------------------------------')\n",
    "\n",
    "        print('Model performance for Test set')\n",
    "        print(\"- Accuracy: {}\".format(model_test_accuracy))\n",
    "        print(\"- RMSE: {}\".format(model_test_rmse))\n",
    "        \n",
    "        print('='*35)\n",
    "        print('\\n')\n",
    "        \n",
    "    report=pd.DataFrame(list(zip(models_list, accuracy_list_train,accuracy_list_test,train_rmse,test_rmse,retraining)), columns=['Model Name', 'train_accuracy','test_accuracy','train_rmse','test_rmse','retraining']).sort_values(by=[\"test_accuracy\"],ascending=False)\n",
    "        \n",
    "    return report"
   ]
  },
  {
   "cell_type": "markdown",
   "id": "dee72b90",
   "metadata": {},
   "source": [
    "### Experiment: 1 = KNN Imputer for Null values"
   ]
  },
  {
   "cell_type": "markdown",
   "id": "f08bad42",
   "metadata": {},
   "source": [
    "**Why Robust scaler and not Standard scaler?**\n",
    "- Scaling the data using Robust scaler\n",
    "- Since most of the independent variables are not normally distributed we cannot use Standardscaler"
   ]
  },
  {
   "cell_type": "markdown",
   "id": "24b40187",
   "metadata": {},
   "source": [
    "**Why Robust Scaler and not Minmax?** \n",
    "- because most of the feature has outliers. So Minmax will scale data according to Max values which is outlier.\n",
    "- This Scaler removes the median and scales the data according to the quantile range (defaults to IQR: Interquartile Range). The IQR is the range between the 1st quartile (25th quantile) and the 3rd quartile (75th quantile)."
   ]
  },
  {
   "cell_type": "code",
   "execution_count": 17,
   "id": "66a8d580",
   "metadata": {},
   "outputs": [],
   "source": [
    "# Fit with robust scaler for KNN best K-selection experminet\n",
    "#robustscaler = RobustScaler()\n",
    "#X1 = robustscaler.fit_transform(X)"
   ]
  },
  {
   "cell_type": "markdown",
   "id": "123f7ef2",
   "metadata": {},
   "source": [
    "**Why KNN Imputer**?\n",
    "- KNNImputer by scikit-learn is a widely used method to impute missing values. It is widely being observed as a replacement for traditional imputation techniques.\n",
    "- KNNImputer helps to impute missing values present in the observations by finding the nearest neighbors with the Euclidean distance matrix.\n",
    "- Here we Iterates through different K values and get accuracy and choose best K values."
   ]
  },
  {
   "cell_type": "markdown",
   "id": "0a8c935c",
   "metadata": {},
   "source": [
    "**Finding the optimal n_neighbour value for KNN imputer**"
   ]
  },
  {
   "cell_type": "raw",
   "id": "0fc0ba73",
   "metadata": {},
   "source": [
    "results=[]\n",
    "# define imputer\n",
    "imputer = KNNImputer(n_neighbors=5, weights='uniform', metric='nan_euclidean')\n",
    "strategies = [str(i) for i in [1,3,5,7,9]]\n",
    "for s in strategies:\n",
    "    pipeline = Pipeline(steps=[('i', KNNImputer(n_neighbors=int(s))), ('m', LinearRegression())])\n",
    "    scores = cross_val_score(pipeline, X1, y, scoring='accuracy', cv=2, n_jobs=-1)\n",
    "    results.append(scores)\n",
    "    print('n_neighbors= %s || accuracy (%.4f)' % (s , mean(scores)))"
   ]
  },
  {
   "cell_type": "markdown",
   "id": "20324fc5",
   "metadata": {},
   "source": [
    "#### Pipeline for KNN imputer"
   ]
  },
  {
   "cell_type": "code",
   "execution_count": 18,
   "id": "1b4d795f",
   "metadata": {},
   "outputs": [],
   "source": [
    "num_features = X.select_dtypes(exclude=\"object\").columns\n",
    "\n",
    "# Fit the KNN imputer with selected K-value\n",
    "knn_pipeline = Pipeline(steps=[\n",
    "    ('imputer', KNNImputer(n_neighbors=3)),\n",
    "    ('RobustScaler', RobustScaler())\n",
    "])"
   ]
  },
  {
   "cell_type": "code",
   "execution_count": 19,
   "id": "e60fc86c",
   "metadata": {},
   "outputs": [],
   "source": [
    "X_knn =knn_pipeline.fit_transform(X)"
   ]
  },
  {
   "cell_type": "markdown",
   "id": "1a5f6bae",
   "metadata": {},
   "source": [
    "#### Initialize Default Models in a dictionary"
   ]
  },
  {
   "cell_type": "code",
   "execution_count": 20,
   "id": "563d0581",
   "metadata": {},
   "outputs": [],
   "source": [
    "# Dictionary which contains models for experiment\n",
    "models = {\n",
    "    \"Linear Regression\":LinearRegression(),\n",
    "    \"Lasso Regression\" :Lasso(),\n",
    "    \"Ridge Regression\" : Ridge(),\n",
    "    \"Decision Tree\": DecisionTreeRegressor(),\n",
    "    \"Random Forest\": RandomForestRegressor(),\n",
    "    \"Gradient Boosting\": GradientBoostingRegressor(),\n",
    "    \"K-Neighbors Regressor\": KNeighborsRegressor(),\n",
    "    \"XGBRegressor\": XGBRegressor(), \n",
    "    \"AdaBoost Regressor\": AdaBoostRegressor(),\n",
    "    \"SVR\" : SVR()\n",
    "}"
   ]
  },
  {
   "cell_type": "markdown",
   "id": "7b0a5f69",
   "metadata": {},
   "source": [
    "#### Fit KNN imputed data for models in dictionary"
   ]
  },
  {
   "cell_type": "code",
   "execution_count": 21,
   "id": "6a0a6cf0",
   "metadata": {},
   "outputs": [
    {
     "name": "stdout",
     "output_type": "stream",
     "text": [
      "Linear Regression\n",
      "Model performance for Training set\n",
      "- Accuracy: 0.7939705641021749\n",
      "- RMSE: 28285.18096401419\n",
      "----------------------------------\n",
      "Model performance for Test set\n",
      "- Accuracy: 0.7897528726124006\n",
      "- RMSE: 20820.47609553487\n",
      "===================================\n",
      "\n",
      "\n",
      "Lasso Regression\n",
      "Model performance for Training set\n",
      "- Accuracy: 0.7939689686033866\n",
      "- RMSE: 28285.290484492147\n",
      "----------------------------------\n",
      "Model performance for Test set\n",
      "- Accuracy: 0.7899375589729234\n",
      "- RMSE: 20811.32947171145\n",
      "===================================\n",
      "\n",
      "\n",
      "Ridge Regression\n",
      "Model performance for Training set\n",
      "- Accuracy: 0.7935242635692364\n",
      "- RMSE: 28315.800041148763\n",
      "----------------------------------\n",
      "Model performance for Test set\n",
      "- Accuracy: 0.79509993822024\n",
      "- RMSE: 20554.014826886098\n",
      "===================================\n",
      "\n",
      "\n",
      "Decision Tree\n",
      "Model performance for Training set\n",
      "- Accuracy: 0.9893544537460365\n",
      "- RMSE: 6429.5162831614625\n",
      "----------------------------------\n",
      "Model performance for Test set\n",
      "- Accuracy: 0.6880937255191362\n",
      "- RMSE: 25359.324236144705\n",
      "===================================\n",
      "\n",
      "\n",
      "Random Forest\n",
      "Model performance for Training set\n",
      "- Accuracy: 0.9620784920772376\n",
      "- RMSE: 12134.92577136145\n",
      "----------------------------------\n",
      "Model performance for Test set\n",
      "- Accuracy: 0.8524204550206407\n",
      "- RMSE: 17443.70382803199\n",
      "===================================\n",
      "\n",
      "\n",
      "Gradient Boosting\n",
      "Model performance for Training set\n",
      "- Accuracy: 0.9013428003486041\n",
      "- RMSE: 19573.05952697718\n",
      "----------------------------------\n",
      "Model performance for Test set\n",
      "- Accuracy: 0.8571874152446296\n",
      "- RMSE: 17159.66719202489\n",
      "===================================\n",
      "\n",
      "\n",
      "K-Neighbors Regressor\n",
      "Model performance for Training set\n",
      "- Accuracy: 0.8302129900936972\n",
      "- RMSE: 25677.134438904148\n",
      "----------------------------------\n",
      "Model performance for Test set\n",
      "- Accuracy: 0.8192568517125108\n",
      "- RMSE: 19304.410416336286\n",
      "===================================\n",
      "\n",
      "\n",
      "XGBRegressor\n",
      "Model performance for Training set\n",
      "- Accuracy: 0.9874807940049856\n",
      "- RMSE: 6972.406798210715\n",
      "----------------------------------\n",
      "Model performance for Test set\n",
      "- Accuracy: 0.8374893763155306\n",
      "- RMSE: 18304.86369582169\n",
      "===================================\n",
      "\n",
      "\n",
      "AdaBoost Regressor\n",
      "Model performance for Training set\n",
      "- Accuracy: 0.65093369719359\n",
      "- RMSE: 36816.99071309702\n",
      "----------------------------------\n",
      "Model performance for Test set\n",
      "- Accuracy: 0.463693634841744\n",
      "- RMSE: 33253.09679552066\n",
      "===================================\n",
      "\n",
      "\n",
      "SVR\n",
      "Model performance for Training set\n",
      "- Accuracy: -0.08258673506862624\n",
      "- RMSE: 64837.41260251287\n",
      "----------------------------------\n",
      "Model performance for Test set\n",
      "- Accuracy: -0.05684978354847847\n",
      "- RMSE: 46680.15099743439\n",
      "===================================\n",
      "\n",
      "\n"
     ]
    }
   ],
   "source": [
    "report_knn = evaluate_models(X_knn, y, models)"
   ]
  },
  {
   "cell_type": "markdown",
   "id": "cadea18f",
   "metadata": {},
   "source": [
    "### Report for KNN imputed data"
   ]
  },
  {
   "cell_type": "code",
   "execution_count": 22,
   "id": "9e3864c8",
   "metadata": {},
   "outputs": [
    {
     "data": {
      "text/html": [
       "<div>\n",
       "<style scoped>\n",
       "    .dataframe tbody tr th:only-of-type {\n",
       "        vertical-align: middle;\n",
       "    }\n",
       "\n",
       "    .dataframe tbody tr th {\n",
       "        vertical-align: top;\n",
       "    }\n",
       "\n",
       "    .dataframe thead th {\n",
       "        text-align: right;\n",
       "    }\n",
       "</style>\n",
       "<table border=\"1\" class=\"dataframe\">\n",
       "  <thead>\n",
       "    <tr style=\"text-align: right;\">\n",
       "      <th></th>\n",
       "      <th>Model Name</th>\n",
       "      <th>train_accuracy</th>\n",
       "      <th>test_accuracy</th>\n",
       "      <th>train_rmse</th>\n",
       "      <th>test_rmse</th>\n",
       "      <th>retraining</th>\n",
       "    </tr>\n",
       "  </thead>\n",
       "  <tbody>\n",
       "    <tr>\n",
       "      <th>5</th>\n",
       "      <td>Gradient Boosting</td>\n",
       "      <td>0.901343</td>\n",
       "      <td>0.857187</td>\n",
       "      <td>19573.059527</td>\n",
       "      <td>17159.667192</td>\n",
       "      <td>accepted</td>\n",
       "    </tr>\n",
       "    <tr>\n",
       "      <th>4</th>\n",
       "      <td>Random Forest</td>\n",
       "      <td>0.962078</td>\n",
       "      <td>0.852420</td>\n",
       "      <td>12134.925771</td>\n",
       "      <td>17443.703828</td>\n",
       "      <td>Overfitting</td>\n",
       "    </tr>\n",
       "    <tr>\n",
       "      <th>7</th>\n",
       "      <td>XGBRegressor</td>\n",
       "      <td>0.987481</td>\n",
       "      <td>0.837489</td>\n",
       "      <td>6972.406798</td>\n",
       "      <td>18304.863696</td>\n",
       "      <td>Overfitting</td>\n",
       "    </tr>\n",
       "    <tr>\n",
       "      <th>6</th>\n",
       "      <td>K-Neighbors Regressor</td>\n",
       "      <td>0.830213</td>\n",
       "      <td>0.819257</td>\n",
       "      <td>25677.134439</td>\n",
       "      <td>19304.410416</td>\n",
       "      <td>accepted</td>\n",
       "    </tr>\n",
       "    <tr>\n",
       "      <th>2</th>\n",
       "      <td>Ridge Regression</td>\n",
       "      <td>0.793524</td>\n",
       "      <td>0.795100</td>\n",
       "      <td>28315.800041</td>\n",
       "      <td>20554.014827</td>\n",
       "      <td>accepted</td>\n",
       "    </tr>\n",
       "    <tr>\n",
       "      <th>1</th>\n",
       "      <td>Lasso Regression</td>\n",
       "      <td>0.793969</td>\n",
       "      <td>0.789938</td>\n",
       "      <td>28285.290484</td>\n",
       "      <td>20811.329472</td>\n",
       "      <td>accepted</td>\n",
       "    </tr>\n",
       "    <tr>\n",
       "      <th>0</th>\n",
       "      <td>Linear Regression</td>\n",
       "      <td>0.793971</td>\n",
       "      <td>0.789753</td>\n",
       "      <td>28285.180964</td>\n",
       "      <td>20820.476096</td>\n",
       "      <td>accepted</td>\n",
       "    </tr>\n",
       "    <tr>\n",
       "      <th>3</th>\n",
       "      <td>Decision Tree</td>\n",
       "      <td>0.989354</td>\n",
       "      <td>0.688094</td>\n",
       "      <td>6429.516283</td>\n",
       "      <td>25359.324236</td>\n",
       "      <td>Overfitting</td>\n",
       "    </tr>\n",
       "    <tr>\n",
       "      <th>8</th>\n",
       "      <td>AdaBoost Regressor</td>\n",
       "      <td>0.650934</td>\n",
       "      <td>0.463694</td>\n",
       "      <td>36816.990713</td>\n",
       "      <td>33253.096796</td>\n",
       "      <td>Overfitting</td>\n",
       "    </tr>\n",
       "    <tr>\n",
       "      <th>9</th>\n",
       "      <td>SVR</td>\n",
       "      <td>-0.082587</td>\n",
       "      <td>-0.056850</td>\n",
       "      <td>64837.412603</td>\n",
       "      <td>46680.150997</td>\n",
       "      <td>accepted</td>\n",
       "    </tr>\n",
       "  </tbody>\n",
       "</table>\n",
       "</div>"
      ],
      "text/plain": [
       "              Model Name  train_accuracy  test_accuracy    train_rmse  \\\n",
       "5      Gradient Boosting        0.901343       0.857187  19573.059527   \n",
       "4          Random Forest        0.962078       0.852420  12134.925771   \n",
       "7           XGBRegressor        0.987481       0.837489   6972.406798   \n",
       "6  K-Neighbors Regressor        0.830213       0.819257  25677.134439   \n",
       "2       Ridge Regression        0.793524       0.795100  28315.800041   \n",
       "1       Lasso Regression        0.793969       0.789938  28285.290484   \n",
       "0      Linear Regression        0.793971       0.789753  28285.180964   \n",
       "3          Decision Tree        0.989354       0.688094   6429.516283   \n",
       "8     AdaBoost Regressor        0.650934       0.463694  36816.990713   \n",
       "9                    SVR       -0.082587      -0.056850  64837.412603   \n",
       "\n",
       "      test_rmse   retraining  \n",
       "5  17159.667192     accepted  \n",
       "4  17443.703828  Overfitting  \n",
       "7  18304.863696  Overfitting  \n",
       "6  19304.410416     accepted  \n",
       "2  20554.014827     accepted  \n",
       "1  20811.329472     accepted  \n",
       "0  20820.476096     accepted  \n",
       "3  25359.324236  Overfitting  \n",
       "8  33253.096796  Overfitting  \n",
       "9  46680.150997     accepted  "
      ]
     },
     "execution_count": 22,
     "metadata": {},
     "output_type": "execute_result"
    }
   ],
   "source": [
    "report_knn"
   ]
  },
  {
   "cell_type": "markdown",
   "id": "fb592a22",
   "metadata": {},
   "source": [
    "### Hyperparameter tuning"
   ]
  },
  {
   "cell_type": "code",
   "execution_count": 28,
   "id": "611ec139",
   "metadata": {},
   "outputs": [],
   "source": [
    "# splitting dataset into train and test\n",
    "X_train, X_test, y_train, y_test = train_test_split(X_knn,y,test_size=0.15,random_state=10)"
   ]
  },
  {
   "cell_type": "code",
   "execution_count": 30,
   "id": "3e56949c",
   "metadata": {},
   "outputs": [],
   "source": [
    "# Random Forest"
   ]
  },
  {
   "cell_type": "code",
   "execution_count": 69,
   "id": "a8596348",
   "metadata": {},
   "outputs": [
    {
     "data": {
      "text/plain": [
       "GridSearchCV(cv=5, estimator=RandomForestRegressor(),\n",
       "             param_grid={'max_depth': [5, 10, 15],\n",
       "                         'max_features': [0.25, 0.5, 0.75, 1],\n",
       "                         'max_samples': [0.1, 0.2, 0.5, 1],\n",
       "                         'n_estimators': [20, 40, 75, 100],\n",
       "                         'random_state': [1, 5, 10]})"
      ]
     },
     "execution_count": 69,
     "metadata": {},
     "output_type": "execute_result"
    }
   ],
   "source": [
    "rf = RandomForestRegressor()\n",
    "grid_param_rf = {\n",
    "                    \"n_estimators\":[20,40,75,100],\n",
    "                    \"random_state\":[1,5,10],\n",
    "                    \"max_samples\":[0.1,0.2,0.5,1],\n",
    "                    \"max_features\":[0.25,0.50,0.75,1],\n",
    "                    \"max_depth\":[5,10,15]\n",
    "                }\n",
    "grid_search_rf=GridSearchCV(estimator=rf,param_grid=grid_param_rf,cv=5)\n",
    "grid_search_rf.fit(X_train,y_train)"
   ]
  },
  {
   "cell_type": "code",
   "execution_count": 70,
   "id": "54b4cbe7",
   "metadata": {},
   "outputs": [
    {
     "data": {
      "text/plain": [
       "{'max_depth': 15,\n",
       " 'max_features': 0.25,\n",
       " 'max_samples': 0.5,\n",
       " 'n_estimators': 75,\n",
       " 'random_state': 1}"
      ]
     },
     "execution_count": 70,
     "metadata": {},
     "output_type": "execute_result"
    }
   ],
   "source": [
    "grid_search_rf.best_params_"
   ]
  },
  {
   "cell_type": "code",
   "execution_count": null,
   "id": "2fe7102f",
   "metadata": {},
   "outputs": [],
   "source": [
    "# Gradient Boosting"
   ]
  },
  {
   "cell_type": "code",
   "execution_count": 64,
   "id": "820c12ea",
   "metadata": {},
   "outputs": [
    {
     "data": {
      "text/plain": [
       "GridSearchCV(cv=5, estimator=GradientBoostingRegressor(),\n",
       "             param_grid={'learning_rate': [0.1, 0.5, 1],\n",
       "                         'max_depth': [2, 5, 10],\n",
       "                         'max_features': ['auto', 'sqrt', 'log2'],\n",
       "                         'n_estimators': [50, 75, 100],\n",
       "                         'random_state': [1, 5, 10]})"
      ]
     },
     "execution_count": 64,
     "metadata": {},
     "output_type": "execute_result"
    }
   ],
   "source": [
    "gb = GradientBoostingRegressor()\n",
    "grid_param_gb = {\n",
    "                    \"learning_rate\":[0.1,0.5,1],\n",
    "                    \"n_estimators\":[50,75,100],\n",
    "                    \"max_depth\":[2,5,10],\n",
    "                    \"random_state\":[1,5,10],\n",
    "                    \"max_features\":['auto', 'sqrt', 'log2']\n",
    "                }\n",
    "\n",
    "grid_search_gb=GridSearchCV(estimator=gb,param_grid=grid_param_gb,cv=5)\n",
    "grid_search_gb.fit(X_train,y_train)"
   ]
  },
  {
   "cell_type": "code",
   "execution_count": 65,
   "id": "e3ce89fc",
   "metadata": {},
   "outputs": [
    {
     "data": {
      "text/plain": [
       "{'learning_rate': 0.1,\n",
       " 'max_depth': 5,\n",
       " 'max_features': 'log2',\n",
       " 'n_estimators': 100,\n",
       " 'random_state': 5}"
      ]
     },
     "execution_count": 65,
     "metadata": {},
     "output_type": "execute_result"
    }
   ],
   "source": [
    "grid_search_gb.best_params_"
   ]
  },
  {
   "cell_type": "code",
   "execution_count": null,
   "id": "3987531a",
   "metadata": {},
   "outputs": [],
   "source": [
    "# XGB"
   ]
  },
  {
   "cell_type": "code",
   "execution_count": 84,
   "id": "df0d343b",
   "metadata": {},
   "outputs": [
    {
     "data": {
      "text/plain": [
       "GridSearchCV(cv=5,\n",
       "             estimator=XGBRegressor(base_score=None, booster=None,\n",
       "                                    callbacks=None, colsample_bylevel=None,\n",
       "                                    colsample_bynode=None,\n",
       "                                    colsample_bytree=None,\n",
       "                                    early_stopping_rounds=None,\n",
       "                                    enable_categorical=False, eval_metric=None,\n",
       "                                    feature_types=None, gamma=None, gpu_id=None,\n",
       "                                    grow_policy=None, importance_type=None,\n",
       "                                    interaction_constraints=None,\n",
       "                                    learning_rate=None, max_bin=None,\n",
       "                                    max_cat_threshold=None,\n",
       "                                    max_cat_to_onehot=None, max_delta_step=None,\n",
       "                                    max_depth=None, max_leaves=None,\n",
       "                                    min_child_weight=None, missing=nan,\n",
       "                                    monotone_constraints=None, n_estimators=100,\n",
       "                                    n_jobs=None, num_parallel_tree=None,\n",
       "                                    predictor=None, random_state=None, ...),\n",
       "             param_grid={'max_depth': [2, 4, 10],\n",
       "                         'n_estimators': [30, 50, 75, 100]})"
      ]
     },
     "execution_count": 84,
     "metadata": {},
     "output_type": "execute_result"
    }
   ],
   "source": [
    "xgb = XGBRegressor()\n",
    "grid_param_xgb = {\n",
    "                    \"n_estimators\":[30,50,75,100],\n",
    "                    \"max_depth\":[2,4,10]\n",
    "                }\n",
    "grid_search_xgb=GridSearchCV(estimator=xgb,param_grid=grid_param_xgb,cv=5)\n",
    "grid_search_xgb.fit(X_train,y_train)"
   ]
  },
  {
   "cell_type": "code",
   "execution_count": 85,
   "id": "0f7f37c6",
   "metadata": {},
   "outputs": [
    {
     "data": {
      "text/plain": [
       "{'max_depth': 2, 'n_estimators': 100}"
      ]
     },
     "execution_count": 85,
     "metadata": {},
     "output_type": "execute_result"
    }
   ],
   "source": [
    "grid_search_xgb.best_params_"
   ]
  },
  {
   "cell_type": "code",
   "execution_count": 201,
   "id": "908a5503",
   "metadata": {},
   "outputs": [],
   "source": [
    "# Dictionary which contains models for experiment\n",
    "models_new = {\n",
    "                \"Random Forest\": RandomForestRegressor(n_estimators = 75,\n",
    "                                                random_state = 1,\n",
    "                                                max_samples = 0.5,\n",
    "                                                max_features = 0.25,\n",
    "                                                max_depth =15),\n",
    "                \"Gradient Boosting\": GradientBoostingRegressor(learning_rate=0.1,\n",
    "                                                     max_depth=8,\n",
    "                                                     max_features='log2',\n",
    "                                                     n_estimators=100,\n",
    "                                                     random_state= 5 ),\n",
    "                \"XGBRegressor\": XGBRegressor(max_depth=2,\n",
    "                                       n_estimators=100)\n",
    "             }"
   ]
  },
  {
   "cell_type": "code",
   "execution_count": 202,
   "id": "a61576ea",
   "metadata": {},
   "outputs": [
    {
     "name": "stdout",
     "output_type": "stream",
     "text": [
      "Random Forest\n",
      "Model performance for Training set\n",
      "- Accuracy: 0.9141682769180258\n",
      "- RMSE: 18256.5302242726\n",
      "----------------------------------\n",
      "Model performance for Test set\n",
      "- Accuracy: 0.8930046945598926\n",
      "- RMSE: 14852.78800009065\n",
      "===================================\n",
      "\n",
      "\n",
      "Gradient Boosting\n",
      "Model performance for Training set\n",
      "- Accuracy: 0.9837184578842966\n",
      "- RMSE: 7951.372389113826\n",
      "----------------------------------\n",
      "Model performance for Test set\n",
      "- Accuracy: 0.9135811236848191\n",
      "- RMSE: 13348.422006449387\n",
      "===================================\n",
      "\n",
      "\n",
      "XGBRegressor\n",
      "Model performance for Training set\n",
      "- Accuracy: 0.8935794174946201\n",
      "- RMSE: 20328.58456831878\n",
      "----------------------------------\n",
      "Model performance for Test set\n",
      "- Accuracy: 0.867623832557601\n",
      "- RMSE: 16520.779029514444\n",
      "===================================\n",
      "\n",
      "\n"
     ]
    }
   ],
   "source": [
    "report_knn_new = evaluate_models(X_knn, y, models_new)"
   ]
  },
  {
   "cell_type": "code",
   "execution_count": 203,
   "id": "74b0ff89",
   "metadata": {},
   "outputs": [
    {
     "data": {
      "text/html": [
       "<div>\n",
       "<style scoped>\n",
       "    .dataframe tbody tr th:only-of-type {\n",
       "        vertical-align: middle;\n",
       "    }\n",
       "\n",
       "    .dataframe tbody tr th {\n",
       "        vertical-align: top;\n",
       "    }\n",
       "\n",
       "    .dataframe thead th {\n",
       "        text-align: right;\n",
       "    }\n",
       "</style>\n",
       "<table border=\"1\" class=\"dataframe\">\n",
       "  <thead>\n",
       "    <tr style=\"text-align: right;\">\n",
       "      <th></th>\n",
       "      <th>Model Name</th>\n",
       "      <th>train_accuracy</th>\n",
       "      <th>test_accuracy</th>\n",
       "      <th>train_rmse</th>\n",
       "      <th>test_rmse</th>\n",
       "      <th>retraining</th>\n",
       "    </tr>\n",
       "  </thead>\n",
       "  <tbody>\n",
       "    <tr>\n",
       "      <th>1</th>\n",
       "      <td>Gradient Boosting</td>\n",
       "      <td>0.983718</td>\n",
       "      <td>0.913581</td>\n",
       "      <td>7951.372389</td>\n",
       "      <td>13348.422006</td>\n",
       "      <td>accepted</td>\n",
       "    </tr>\n",
       "    <tr>\n",
       "      <th>0</th>\n",
       "      <td>Random Forest</td>\n",
       "      <td>0.914168</td>\n",
       "      <td>0.893005</td>\n",
       "      <td>18256.530224</td>\n",
       "      <td>14852.788000</td>\n",
       "      <td>accepted</td>\n",
       "    </tr>\n",
       "    <tr>\n",
       "      <th>2</th>\n",
       "      <td>XGBRegressor</td>\n",
       "      <td>0.893579</td>\n",
       "      <td>0.867624</td>\n",
       "      <td>20328.584568</td>\n",
       "      <td>16520.779030</td>\n",
       "      <td>accepted</td>\n",
       "    </tr>\n",
       "  </tbody>\n",
       "</table>\n",
       "</div>"
      ],
      "text/plain": [
       "          Model Name  train_accuracy  test_accuracy    train_rmse  \\\n",
       "1  Gradient Boosting        0.983718       0.913581   7951.372389   \n",
       "0      Random Forest        0.914168       0.893005  18256.530224   \n",
       "2       XGBRegressor        0.893579       0.867624  20328.584568   \n",
       "\n",
       "      test_rmse retraining  \n",
       "1  13348.422006   accepted  \n",
       "0  14852.788000   accepted  \n",
       "2  16520.779030   accepted  "
      ]
     },
     "execution_count": 203,
     "metadata": {},
     "output_type": "execute_result"
    }
   ],
   "source": [
    "report_knn_new"
   ]
  },
  {
   "cell_type": "markdown",
   "id": "b97e7b7d",
   "metadata": {},
   "source": [
    "### Experiment: 2 = Simple Imputer with Strategy Median "
   ]
  },
  {
   "cell_type": "markdown",
   "id": "05368559",
   "metadata": {},
   "source": [
    "- SimpleImputer is a class in the `sklearn.impute` module that can be used to replace missing values in a dataset, using a variety of input strategies.\n",
    "- Here we use SimpleImputer can also be used to impute multiple columns at once by passing in a list of column names. SimpleImputer will then replace missing values in all of the specified columns."
   ]
  },
  {
   "cell_type": "code",
   "execution_count": 94,
   "id": "6f6c8e00",
   "metadata": {},
   "outputs": [],
   "source": [
    "num_features = X.select_dtypes(exclude=\"object\").columns\n",
    "\n",
    "# Fit the Simple imputer with strategy median\n",
    "median_pipeline = Pipeline(steps=[\n",
    "    ('imputer', SimpleImputer(strategy='median')),\n",
    "    ('RobustScaler', RobustScaler())\n",
    "])"
   ]
  },
  {
   "cell_type": "code",
   "execution_count": 95,
   "id": "94f4ce1d",
   "metadata": {},
   "outputs": [],
   "source": [
    "# Fit X with median_pipeline\n",
    "X_median = median_pipeline.fit_transform(X)"
   ]
  },
  {
   "cell_type": "code",
   "execution_count": 96,
   "id": "8494e5e5",
   "metadata": {},
   "outputs": [
    {
     "name": "stdout",
     "output_type": "stream",
     "text": [
      "Linear Regression\n",
      "Model performance for Training set\n",
      "- Accuracy: 0.7897526923879298\n",
      "- RMSE: 28573.243774145565\n",
      "----------------------------------\n",
      "Model performance for Test set\n",
      "- Accuracy: 0.7859191015570722\n",
      "- RMSE: 21009.445010884745\n",
      "===================================\n",
      "\n",
      "\n",
      "Lasso Regression\n",
      "Model performance for Training set\n",
      "- Accuracy: 0.7897499851109545\n",
      "- RMSE: 28573.427737110036\n",
      "----------------------------------\n",
      "Model performance for Test set\n",
      "- Accuracy: 0.785815502090015\n",
      "- RMSE: 21014.527911930676\n",
      "===================================\n",
      "\n",
      "\n",
      "Ridge Regression\n",
      "Model performance for Training set\n",
      "- Accuracy: 0.7893045565410771\n",
      "- RMSE: 28603.679071980023\n",
      "----------------------------------\n",
      "Model performance for Test set\n",
      "- Accuracy: 0.7884229097385996\n",
      "- RMSE: 20886.22445569303\n",
      "===================================\n",
      "\n",
      "\n",
      "Decision Tree\n",
      "Model performance for Training set\n",
      "- Accuracy: 0.9890930247487971\n",
      "- RMSE: 6507.984182892419\n",
      "----------------------------------\n",
      "Model performance for Test set\n",
      "- Accuracy: 0.7804789228297565\n",
      "- RMSE: 21274.71413947689\n",
      "===================================\n",
      "\n",
      "\n",
      "Random Forest\n",
      "Model performance for Training set\n",
      "- Accuracy: 0.9601961190552083\n",
      "- RMSE: 12432.458957383686\n",
      "----------------------------------\n",
      "Model performance for Test set\n",
      "- Accuracy: 0.8403860979205338\n",
      "- RMSE: 18140.989763387737\n",
      "===================================\n",
      "\n",
      "\n",
      "Gradient Boosting\n",
      "Model performance for Training set\n",
      "- Accuracy: 0.9048358026405303\n",
      "- RMSE: 19223.440571049716\n",
      "----------------------------------\n",
      "Model performance for Test set\n",
      "- Accuracy: 0.8585131742689266\n",
      "- RMSE: 17079.833095292222\n",
      "===================================\n",
      "\n",
      "\n",
      "K-Neighbors Regressor\n",
      "Model performance for Training set\n",
      "- Accuracy: 0.8150886545867084\n",
      "- RMSE: 26796.378535870033\n",
      "----------------------------------\n",
      "Model performance for Test set\n",
      "- Accuracy: 0.7799091439567177\n",
      "- RMSE: 21302.306084731335\n",
      "===================================\n",
      "\n",
      "\n",
      "XGBRegressor\n",
      "Model performance for Training set\n",
      "- Accuracy: 0.9864887746841251\n",
      "- RMSE: 7243.3870632515\n",
      "----------------------------------\n",
      "Model performance for Test set\n",
      "- Accuracy: 0.8774047801492417\n",
      "- RMSE: 15898.728359833518\n",
      "===================================\n",
      "\n",
      "\n",
      "AdaBoost Regressor\n",
      "Model performance for Training set\n",
      "- Accuracy: 0.7082454369387421\n",
      "- RMSE: 33659.15069907591\n",
      "----------------------------------\n",
      "Model performance for Test set\n",
      "- Accuracy: 0.5817520433323627\n",
      "- RMSE: 29365.84720490426\n",
      "===================================\n",
      "\n",
      "\n",
      "SVR\n",
      "Model performance for Training set\n",
      "- Accuracy: -0.0825851466465628\n",
      "- RMSE: 64837.36503624813\n",
      "----------------------------------\n",
      "Model performance for Test set\n",
      "- Accuracy: -0.056900143539012404\n",
      "- RMSE: 46681.26316303965\n",
      "===================================\n",
      "\n",
      "\n"
     ]
    }
   ],
   "source": [
    "# Training the models\n",
    "report_median = evaluate_models(X_median, y, models)"
   ]
  },
  {
   "cell_type": "markdown",
   "id": "860929fb",
   "metadata": {},
   "source": [
    "### Report for Simple Imputer with median strategy"
   ]
  },
  {
   "cell_type": "code",
   "execution_count": 97,
   "id": "bd320efa",
   "metadata": {},
   "outputs": [
    {
     "data": {
      "text/html": [
       "<div>\n",
       "<style scoped>\n",
       "    .dataframe tbody tr th:only-of-type {\n",
       "        vertical-align: middle;\n",
       "    }\n",
       "\n",
       "    .dataframe tbody tr th {\n",
       "        vertical-align: top;\n",
       "    }\n",
       "\n",
       "    .dataframe thead th {\n",
       "        text-align: right;\n",
       "    }\n",
       "</style>\n",
       "<table border=\"1\" class=\"dataframe\">\n",
       "  <thead>\n",
       "    <tr style=\"text-align: right;\">\n",
       "      <th></th>\n",
       "      <th>Model Name</th>\n",
       "      <th>train_accuracy</th>\n",
       "      <th>test_accuracy</th>\n",
       "      <th>train_rmse</th>\n",
       "      <th>test_rmse</th>\n",
       "      <th>retraining</th>\n",
       "    </tr>\n",
       "  </thead>\n",
       "  <tbody>\n",
       "    <tr>\n",
       "      <th>7</th>\n",
       "      <td>XGBRegressor</td>\n",
       "      <td>0.986489</td>\n",
       "      <td>0.877405</td>\n",
       "      <td>7243.387063</td>\n",
       "      <td>15898.728360</td>\n",
       "      <td>Overfitting</td>\n",
       "    </tr>\n",
       "    <tr>\n",
       "      <th>5</th>\n",
       "      <td>Gradient Boosting</td>\n",
       "      <td>0.904836</td>\n",
       "      <td>0.858513</td>\n",
       "      <td>19223.440571</td>\n",
       "      <td>17079.833095</td>\n",
       "      <td>accepted</td>\n",
       "    </tr>\n",
       "    <tr>\n",
       "      <th>4</th>\n",
       "      <td>Random Forest</td>\n",
       "      <td>0.960196</td>\n",
       "      <td>0.840386</td>\n",
       "      <td>12432.458957</td>\n",
       "      <td>18140.989763</td>\n",
       "      <td>Overfitting</td>\n",
       "    </tr>\n",
       "    <tr>\n",
       "      <th>2</th>\n",
       "      <td>Ridge Regression</td>\n",
       "      <td>0.789305</td>\n",
       "      <td>0.788423</td>\n",
       "      <td>28603.679072</td>\n",
       "      <td>20886.224456</td>\n",
       "      <td>accepted</td>\n",
       "    </tr>\n",
       "    <tr>\n",
       "      <th>0</th>\n",
       "      <td>Linear Regression</td>\n",
       "      <td>0.789753</td>\n",
       "      <td>0.785919</td>\n",
       "      <td>28573.243774</td>\n",
       "      <td>21009.445011</td>\n",
       "      <td>accepted</td>\n",
       "    </tr>\n",
       "    <tr>\n",
       "      <th>1</th>\n",
       "      <td>Lasso Regression</td>\n",
       "      <td>0.789750</td>\n",
       "      <td>0.785816</td>\n",
       "      <td>28573.427737</td>\n",
       "      <td>21014.527912</td>\n",
       "      <td>accepted</td>\n",
       "    </tr>\n",
       "    <tr>\n",
       "      <th>3</th>\n",
       "      <td>Decision Tree</td>\n",
       "      <td>0.989093</td>\n",
       "      <td>0.780479</td>\n",
       "      <td>6507.984183</td>\n",
       "      <td>21274.714139</td>\n",
       "      <td>Overfitting</td>\n",
       "    </tr>\n",
       "    <tr>\n",
       "      <th>6</th>\n",
       "      <td>K-Neighbors Regressor</td>\n",
       "      <td>0.815089</td>\n",
       "      <td>0.779909</td>\n",
       "      <td>26796.378536</td>\n",
       "      <td>21302.306085</td>\n",
       "      <td>accepted</td>\n",
       "    </tr>\n",
       "    <tr>\n",
       "      <th>8</th>\n",
       "      <td>AdaBoost Regressor</td>\n",
       "      <td>0.708245</td>\n",
       "      <td>0.581752</td>\n",
       "      <td>33659.150699</td>\n",
       "      <td>29365.847205</td>\n",
       "      <td>Overfitting</td>\n",
       "    </tr>\n",
       "    <tr>\n",
       "      <th>9</th>\n",
       "      <td>SVR</td>\n",
       "      <td>-0.082585</td>\n",
       "      <td>-0.056900</td>\n",
       "      <td>64837.365036</td>\n",
       "      <td>46681.263163</td>\n",
       "      <td>accepted</td>\n",
       "    </tr>\n",
       "  </tbody>\n",
       "</table>\n",
       "</div>"
      ],
      "text/plain": [
       "              Model Name  train_accuracy  test_accuracy    train_rmse  \\\n",
       "7           XGBRegressor        0.986489       0.877405   7243.387063   \n",
       "5      Gradient Boosting        0.904836       0.858513  19223.440571   \n",
       "4          Random Forest        0.960196       0.840386  12432.458957   \n",
       "2       Ridge Regression        0.789305       0.788423  28603.679072   \n",
       "0      Linear Regression        0.789753       0.785919  28573.243774   \n",
       "1       Lasso Regression        0.789750       0.785816  28573.427737   \n",
       "3          Decision Tree        0.989093       0.780479   6507.984183   \n",
       "6  K-Neighbors Regressor        0.815089       0.779909  26796.378536   \n",
       "8     AdaBoost Regressor        0.708245       0.581752  33659.150699   \n",
       "9                    SVR       -0.082585      -0.056900  64837.365036   \n",
       "\n",
       "      test_rmse   retraining  \n",
       "7  15898.728360  Overfitting  \n",
       "5  17079.833095     accepted  \n",
       "4  18140.989763  Overfitting  \n",
       "2  20886.224456     accepted  \n",
       "0  21009.445011     accepted  \n",
       "1  21014.527912     accepted  \n",
       "3  21274.714139  Overfitting  \n",
       "6  21302.306085     accepted  \n",
       "8  29365.847205  Overfitting  \n",
       "9  46681.263163     accepted  "
      ]
     },
     "execution_count": 97,
     "metadata": {},
     "output_type": "execute_result"
    }
   ],
   "source": [
    "report_median"
   ]
  },
  {
   "cell_type": "markdown",
   "id": "3b4b6dce",
   "metadata": {},
   "source": [
    "### Hyper parameter tuning"
   ]
  },
  {
   "cell_type": "code",
   "execution_count": 99,
   "id": "88d25815",
   "metadata": {},
   "outputs": [],
   "source": [
    "# splitting dataset into train and test\n",
    "X_train, X_test, y_train, y_test = train_test_split(X_median,y,test_size=0.15,random_state=10)"
   ]
  },
  {
   "cell_type": "code",
   "execution_count": 98,
   "id": "9a5cf47f",
   "metadata": {},
   "outputs": [],
   "source": [
    "# Gradient Boosting"
   ]
  },
  {
   "cell_type": "code",
   "execution_count": 100,
   "id": "4b23d254",
   "metadata": {},
   "outputs": [
    {
     "data": {
      "text/plain": [
       "GridSearchCV(cv=5, estimator=GradientBoostingRegressor(),\n",
       "             param_grid={'learning_rate': [0.1, 0.5, 1],\n",
       "                         'max_depth': [2, 5, 10],\n",
       "                         'max_features': ['auto', 'sqrt', 'log2'],\n",
       "                         'n_estimators': [50, 75, 100],\n",
       "                         'random_state': [1, 5, 10]})"
      ]
     },
     "execution_count": 100,
     "metadata": {},
     "output_type": "execute_result"
    }
   ],
   "source": [
    "gb = GradientBoostingRegressor()\n",
    "grid_param_gb = {\n",
    "                    \"learning_rate\":[0.1,0.5,1],\n",
    "                    \"n_estimators\":[50,75,100],\n",
    "                    \"max_depth\":[2,5,10],\n",
    "                    \"random_state\":[1,5,10],\n",
    "                    \"max_features\":['auto', 'sqrt', 'log2']\n",
    "                }\n",
    "\n",
    "grid_search_gb=GridSearchCV(estimator=gb,param_grid=grid_param_gb,cv=5)\n",
    "grid_search_gb.fit(X_train,y_train)"
   ]
  },
  {
   "cell_type": "code",
   "execution_count": 101,
   "id": "f65d2eba",
   "metadata": {},
   "outputs": [
    {
     "data": {
      "text/plain": [
       "{'learning_rate': 0.1,\n",
       " 'max_depth': 5,\n",
       " 'max_features': 'log2',\n",
       " 'n_estimators': 100,\n",
       " 'random_state': 10}"
      ]
     },
     "execution_count": 101,
     "metadata": {},
     "output_type": "execute_result"
    }
   ],
   "source": [
    "grid_search_gb.best_params_"
   ]
  },
  {
   "cell_type": "code",
   "execution_count": 102,
   "id": "1e295ec7",
   "metadata": {},
   "outputs": [],
   "source": [
    "# XGB"
   ]
  },
  {
   "cell_type": "code",
   "execution_count": 103,
   "id": "12988fe4",
   "metadata": {},
   "outputs": [
    {
     "data": {
      "text/plain": [
       "GridSearchCV(cv=5,\n",
       "             estimator=XGBRegressor(base_score=None, booster=None,\n",
       "                                    callbacks=None, colsample_bylevel=None,\n",
       "                                    colsample_bynode=None,\n",
       "                                    colsample_bytree=None,\n",
       "                                    early_stopping_rounds=None,\n",
       "                                    enable_categorical=False, eval_metric=None,\n",
       "                                    feature_types=None, gamma=None, gpu_id=None,\n",
       "                                    grow_policy=None, importance_type=None,\n",
       "                                    interaction_constraints=None,\n",
       "                                    learning_rate=None, max_bin=None,\n",
       "                                    max_cat_threshold=None,\n",
       "                                    max_cat_to_onehot=None, max_delta_step=None,\n",
       "                                    max_depth=None, max_leaves=None,\n",
       "                                    min_child_weight=None, missing=nan,\n",
       "                                    monotone_constraints=None, n_estimators=100,\n",
       "                                    n_jobs=None, num_parallel_tree=None,\n",
       "                                    predictor=None, random_state=None, ...),\n",
       "             param_grid={'max_depth': [2, 4, 10],\n",
       "                         'n_estimators': [30, 50, 75, 100]})"
      ]
     },
     "execution_count": 103,
     "metadata": {},
     "output_type": "execute_result"
    }
   ],
   "source": [
    "xgb = XGBRegressor()\n",
    "grid_param_xgb = {\n",
    "                    \"n_estimators\":[30,50,75,100],\n",
    "                    \"max_depth\":[2,4,10]\n",
    "                }\n",
    "grid_search_xgb=GridSearchCV(estimator=xgb,param_grid=grid_param_xgb,cv=5)\n",
    "grid_search_xgb.fit(X_train,y_train)"
   ]
  },
  {
   "cell_type": "code",
   "execution_count": 105,
   "id": "aa56a9bd",
   "metadata": {},
   "outputs": [
    {
     "data": {
      "text/plain": [
       "{'max_depth': 2, 'n_estimators': 75}"
      ]
     },
     "execution_count": 105,
     "metadata": {},
     "output_type": "execute_result"
    }
   ],
   "source": [
    "grid_search_xgb.best_params_"
   ]
  },
  {
   "cell_type": "code",
   "execution_count": 104,
   "id": "d23eb930",
   "metadata": {},
   "outputs": [],
   "source": [
    "# RF"
   ]
  },
  {
   "cell_type": "code",
   "execution_count": 106,
   "id": "71bd53bc",
   "metadata": {},
   "outputs": [
    {
     "data": {
      "text/plain": [
       "GridSearchCV(cv=5, estimator=RandomForestRegressor(),\n",
       "             param_grid={'max_depth': [5, 10, 15],\n",
       "                         'max_features': [0.25, 0.5, 0.75, 1],\n",
       "                         'max_samples': [0.1, 0.2, 0.5, 1],\n",
       "                         'n_estimators': [20, 40, 75, 100],\n",
       "                         'random_state': [1, 5, 10]})"
      ]
     },
     "execution_count": 106,
     "metadata": {},
     "output_type": "execute_result"
    }
   ],
   "source": [
    "rf = RandomForestRegressor()\n",
    "grid_param_rf = {\n",
    "                    \"n_estimators\":[20,40,75,100],\n",
    "                    \"random_state\":[1,5,10],\n",
    "                    \"max_samples\":[0.1,0.2,0.5,1],\n",
    "                    \"max_features\":[0.25,0.50,0.75,1],\n",
    "                    \"max_depth\":[5,10,15]\n",
    "                }\n",
    "grid_search_rf=GridSearchCV(estimator=rf,param_grid=grid_param_rf,cv=5)\n",
    "grid_search_rf.fit(X_train,y_train)"
   ]
  },
  {
   "cell_type": "code",
   "execution_count": 108,
   "id": "7ca7a6ba",
   "metadata": {},
   "outputs": [
    {
     "data": {
      "text/plain": [
       "{'max_depth': 15,\n",
       " 'max_features': 0.75,\n",
       " 'max_samples': 0.5,\n",
       " 'n_estimators': 20,\n",
       " 'random_state': 5}"
      ]
     },
     "execution_count": 108,
     "metadata": {},
     "output_type": "execute_result"
    }
   ],
   "source": [
    "grid_search_rf.best_params_"
   ]
  },
  {
   "cell_type": "code",
   "execution_count": 109,
   "id": "23fe5208",
   "metadata": {},
   "outputs": [],
   "source": [
    "# Dictionary which contains models for experiment\n",
    "models_new = {\n",
    "                \"Random Forest\": RandomForestRegressor(n_estimators = 20,\n",
    "                                                random_state = 5,\n",
    "                                                max_samples = 0.5,\n",
    "                                                max_features = 0.75,\n",
    "                                                max_depth =15),\n",
    "                \"Gradient Boosting\": GradientBoostingRegressor(learning_rate=0.1,\n",
    "                                                     max_depth=5,\n",
    "                                                     max_features='log2',\n",
    "                                                     n_estimators=100,\n",
    "                                                     random_state= 10 ),\n",
    "                \"XGBRegressor\": XGBRegressor(max_depth=2,\n",
    "                                       n_estimators=75)\n",
    "             }"
   ]
  },
  {
   "cell_type": "code",
   "execution_count": 110,
   "id": "09aabacf",
   "metadata": {},
   "outputs": [
    {
     "name": "stdout",
     "output_type": "stream",
     "text": [
      "Random Forest\n",
      "Model performance for Training set\n",
      "- Accuracy: 0.909549441183816\n",
      "- RMSE: 18741.310331597277\n",
      "----------------------------------\n",
      "Model performance for Test set\n",
      "- Accuracy: 0.8445217157551723\n",
      "- RMSE: 17904.42962902975\n",
      "===================================\n",
      "\n",
      "\n",
      "Gradient Boosting\n",
      "Model performance for Training set\n",
      "- Accuracy: 0.9443276018618366\n",
      "- RMSE: 14703.282093301372\n",
      "----------------------------------\n",
      "Model performance for Test set\n",
      "- Accuracy: 0.8845526339012396\n",
      "- RMSE: 15428.284379277711\n",
      "===================================\n",
      "\n",
      "\n",
      "XGBRegressor\n",
      "Model performance for Training set\n",
      "- Accuracy: 0.8821101284566252\n",
      "- RMSE: 21395.999158631283\n",
      "----------------------------------\n",
      "Model performance for Test set\n",
      "- Accuracy: 0.8487630021761299\n",
      "- RMSE: 17658.533949175093\n",
      "===================================\n",
      "\n",
      "\n"
     ]
    }
   ],
   "source": [
    "report_median_new = evaluate_models(X_median, y, models_new)"
   ]
  },
  {
   "cell_type": "code",
   "execution_count": 111,
   "id": "a48f6b42",
   "metadata": {},
   "outputs": [
    {
     "data": {
      "text/html": [
       "<div>\n",
       "<style scoped>\n",
       "    .dataframe tbody tr th:only-of-type {\n",
       "        vertical-align: middle;\n",
       "    }\n",
       "\n",
       "    .dataframe tbody tr th {\n",
       "        vertical-align: top;\n",
       "    }\n",
       "\n",
       "    .dataframe thead th {\n",
       "        text-align: right;\n",
       "    }\n",
       "</style>\n",
       "<table border=\"1\" class=\"dataframe\">\n",
       "  <thead>\n",
       "    <tr style=\"text-align: right;\">\n",
       "      <th></th>\n",
       "      <th>Model Name</th>\n",
       "      <th>train_accuracy</th>\n",
       "      <th>test_accuracy</th>\n",
       "      <th>train_rmse</th>\n",
       "      <th>test_rmse</th>\n",
       "      <th>retraining</th>\n",
       "    </tr>\n",
       "  </thead>\n",
       "  <tbody>\n",
       "    <tr>\n",
       "      <th>1</th>\n",
       "      <td>Gradient Boosting</td>\n",
       "      <td>0.944328</td>\n",
       "      <td>0.884553</td>\n",
       "      <td>14703.282093</td>\n",
       "      <td>15428.284379</td>\n",
       "      <td>accepted</td>\n",
       "    </tr>\n",
       "    <tr>\n",
       "      <th>2</th>\n",
       "      <td>XGBRegressor</td>\n",
       "      <td>0.882110</td>\n",
       "      <td>0.848763</td>\n",
       "      <td>21395.999159</td>\n",
       "      <td>17658.533949</td>\n",
       "      <td>accepted</td>\n",
       "    </tr>\n",
       "    <tr>\n",
       "      <th>0</th>\n",
       "      <td>Random Forest</td>\n",
       "      <td>0.909549</td>\n",
       "      <td>0.844522</td>\n",
       "      <td>18741.310332</td>\n",
       "      <td>17904.429629</td>\n",
       "      <td>accepted</td>\n",
       "    </tr>\n",
       "  </tbody>\n",
       "</table>\n",
       "</div>"
      ],
      "text/plain": [
       "          Model Name  train_accuracy  test_accuracy    train_rmse  \\\n",
       "1  Gradient Boosting        0.944328       0.884553  14703.282093   \n",
       "2       XGBRegressor        0.882110       0.848763  21395.999159   \n",
       "0      Random Forest        0.909549       0.844522  18741.310332   \n",
       "\n",
       "      test_rmse retraining  \n",
       "1  15428.284379   accepted  \n",
       "2  17658.533949   accepted  \n",
       "0  17904.429629   accepted  "
      ]
     },
     "execution_count": 111,
     "metadata": {},
     "output_type": "execute_result"
    }
   ],
   "source": [
    "report_median_new"
   ]
  },
  {
   "cell_type": "markdown",
   "id": "7030a4e3",
   "metadata": {},
   "source": [
    "### Experiment: 3 = MICE for Imputing Null values"
   ]
  },
  {
   "cell_type": "markdown",
   "id": "972e6261",
   "metadata": {},
   "source": [
    "- MICE stands for Multivariate Imputation By Chained Equations algorithm\n",
    "- This technique by which we can effortlessly impute missing values in a dataset by looking at data from other columns and trying to estimate the best prediction for each missing value.\n",
    "- `ImputationKernel` Creates a kernel dataset. This dataset can perform MICE on itself, and impute new data from models obtained during MICE."
   ]
  },
  {
   "cell_type": "code",
   "execution_count": 114,
   "id": "c8ad8ef4",
   "metadata": {},
   "outputs": [],
   "source": [
    "import miceforest as mf\n",
    "\n",
    "X_mice = X.copy()\n",
    "kernel = mf.ImputationKernel(\n",
    "  X_mice,\n",
    "  save_all_iterations=True,\n",
    "  random_state=1989\n",
    ")# Run the MICE algorithm for 3 iterations kernel.mice(3)"
   ]
  },
  {
   "cell_type": "code",
   "execution_count": 115,
   "id": "5ecf8282",
   "metadata": {},
   "outputs": [],
   "source": [
    "X_mice = kernel.complete_data()"
   ]
  },
  {
   "cell_type": "code",
   "execution_count": 116,
   "id": "a6383830",
   "metadata": {},
   "outputs": [],
   "source": [
    "# fit robust scaler\n",
    "mice_pipeline = Pipeline(steps=[\n",
    "    ('RobustScaler', RobustScaler())\n",
    "])"
   ]
  },
  {
   "cell_type": "code",
   "execution_count": 117,
   "id": "3d400a28",
   "metadata": {},
   "outputs": [],
   "source": [
    "# Fit X with Mice imputer \n",
    "X_mice= mice_pipeline.fit_transform(X_mice)"
   ]
  },
  {
   "cell_type": "code",
   "execution_count": 118,
   "id": "06de9822",
   "metadata": {},
   "outputs": [
    {
     "name": "stdout",
     "output_type": "stream",
     "text": [
      "Linear Regression\n",
      "Model performance for Training set\n",
      "- Accuracy: 0.7908996222421034\n",
      "- RMSE: 28495.20158099919\n",
      "----------------------------------\n",
      "Model performance for Test set\n",
      "- Accuracy: 0.7803554790093328\n",
      "- RMSE: 21280.69502961638\n",
      "===================================\n",
      "\n",
      "\n",
      "Lasso Regression\n",
      "Model performance for Training set\n",
      "- Accuracy: 0.790898242035877\n",
      "- RMSE: 28495.295624802857\n",
      "----------------------------------\n",
      "Model performance for Test set\n",
      "- Accuracy: 0.7803432798262906\n",
      "- RMSE: 21281.285992432524\n",
      "===================================\n",
      "\n",
      "\n",
      "Ridge Regression\n",
      "Model performance for Training set\n",
      "- Accuracy: 0.7905220286588563\n",
      "- RMSE: 28520.918302176608\n",
      "----------------------------------\n",
      "Model performance for Test set\n",
      "- Accuracy: 0.7837174135795945\n",
      "- RMSE: 21117.20315596134\n",
      "===================================\n",
      "\n",
      "\n",
      "Decision Tree\n",
      "Model performance for Training set\n",
      "- Accuracy: 0.998977852736587\n",
      "- RMSE: 1992.2831415408755\n",
      "----------------------------------\n",
      "Model performance for Test set\n",
      "- Accuracy: 0.6475687832522824\n",
      "- RMSE: 26956.456687355163\n",
      "===================================\n",
      "\n",
      "\n",
      "Random Forest\n",
      "Model performance for Training set\n",
      "- Accuracy: 0.9672414113498413\n",
      "- RMSE: 11278.644712938341\n",
      "----------------------------------\n",
      "Model performance for Test set\n",
      "- Accuracy: 0.7944121071602694\n",
      "- RMSE: 20588.484911514468\n",
      "===================================\n",
      "\n",
      "\n",
      "Gradient Boosting\n",
      "Model performance for Training set\n",
      "- Accuracy: 0.890545159986559\n",
      "- RMSE: 20616.351501032597\n",
      "----------------------------------\n",
      "Model performance for Test set\n",
      "- Accuracy: 0.8560451671893712\n",
      "- RMSE: 17228.154013209958\n",
      "===================================\n",
      "\n",
      "\n",
      "K-Neighbors Regressor\n",
      "Model performance for Training set\n",
      "- Accuracy: 0.8303405409350462\n",
      "- RMSE: 25667.487777954142\n",
      "----------------------------------\n",
      "Model performance for Test set\n",
      "- Accuracy: 0.7800322747069792\n",
      "- RMSE: 21296.34641894134\n",
      "===================================\n",
      "\n",
      "\n",
      "XGBRegressor\n",
      "Model performance for Training set\n",
      "- Accuracy: 0.996729415399446\n",
      "- RMSE: 3563.748263362397\n",
      "----------------------------------\n",
      "Model performance for Test set\n",
      "- Accuracy: 0.7652804025979179\n",
      "- RMSE: 21998.866114286062\n",
      "===================================\n",
      "\n",
      "\n",
      "AdaBoost Regressor\n",
      "Model performance for Training set\n",
      "- Accuracy: 0.6712957009390578\n",
      "- RMSE: 35727.03841861895\n",
      "----------------------------------\n",
      "Model performance for Test set\n",
      "- Accuracy: 0.4610614523329192\n",
      "- RMSE: 33334.599730615984\n",
      "===================================\n",
      "\n",
      "\n",
      "SVR\n",
      "Model performance for Training set\n",
      "- Accuracy: -0.08261457006805006\n",
      "- RMSE: 64838.24613283584\n",
      "----------------------------------\n",
      "Model performance for Test set\n",
      "- Accuracy: -0.056924178929793845\n",
      "- RMSE: 46681.79395870197\n",
      "===================================\n",
      "\n",
      "\n"
     ]
    }
   ],
   "source": [
    "# Training the models\n",
    "report_mice = evaluate_models(X_mice, y, models)"
   ]
  },
  {
   "cell_type": "markdown",
   "id": "59fe4d8b",
   "metadata": {},
   "source": [
    "### Report for MICE Imputer algorithm"
   ]
  },
  {
   "cell_type": "code",
   "execution_count": 119,
   "id": "1c4ea098",
   "metadata": {},
   "outputs": [
    {
     "data": {
      "text/html": [
       "<div>\n",
       "<style scoped>\n",
       "    .dataframe tbody tr th:only-of-type {\n",
       "        vertical-align: middle;\n",
       "    }\n",
       "\n",
       "    .dataframe tbody tr th {\n",
       "        vertical-align: top;\n",
       "    }\n",
       "\n",
       "    .dataframe thead th {\n",
       "        text-align: right;\n",
       "    }\n",
       "</style>\n",
       "<table border=\"1\" class=\"dataframe\">\n",
       "  <thead>\n",
       "    <tr style=\"text-align: right;\">\n",
       "      <th></th>\n",
       "      <th>Model Name</th>\n",
       "      <th>train_accuracy</th>\n",
       "      <th>test_accuracy</th>\n",
       "      <th>train_rmse</th>\n",
       "      <th>test_rmse</th>\n",
       "      <th>retraining</th>\n",
       "    </tr>\n",
       "  </thead>\n",
       "  <tbody>\n",
       "    <tr>\n",
       "      <th>5</th>\n",
       "      <td>Gradient Boosting</td>\n",
       "      <td>0.890545</td>\n",
       "      <td>0.856045</td>\n",
       "      <td>20616.351501</td>\n",
       "      <td>17228.154013</td>\n",
       "      <td>accepted</td>\n",
       "    </tr>\n",
       "    <tr>\n",
       "      <th>4</th>\n",
       "      <td>Random Forest</td>\n",
       "      <td>0.967241</td>\n",
       "      <td>0.794412</td>\n",
       "      <td>11278.644713</td>\n",
       "      <td>20588.484912</td>\n",
       "      <td>Overfitting</td>\n",
       "    </tr>\n",
       "    <tr>\n",
       "      <th>2</th>\n",
       "      <td>Ridge Regression</td>\n",
       "      <td>0.790522</td>\n",
       "      <td>0.783717</td>\n",
       "      <td>28520.918302</td>\n",
       "      <td>21117.203156</td>\n",
       "      <td>accepted</td>\n",
       "    </tr>\n",
       "    <tr>\n",
       "      <th>0</th>\n",
       "      <td>Linear Regression</td>\n",
       "      <td>0.790900</td>\n",
       "      <td>0.780355</td>\n",
       "      <td>28495.201581</td>\n",
       "      <td>21280.695030</td>\n",
       "      <td>accepted</td>\n",
       "    </tr>\n",
       "    <tr>\n",
       "      <th>1</th>\n",
       "      <td>Lasso Regression</td>\n",
       "      <td>0.790898</td>\n",
       "      <td>0.780343</td>\n",
       "      <td>28495.295625</td>\n",
       "      <td>21281.285992</td>\n",
       "      <td>accepted</td>\n",
       "    </tr>\n",
       "    <tr>\n",
       "      <th>6</th>\n",
       "      <td>K-Neighbors Regressor</td>\n",
       "      <td>0.830341</td>\n",
       "      <td>0.780032</td>\n",
       "      <td>25667.487778</td>\n",
       "      <td>21296.346419</td>\n",
       "      <td>accepted</td>\n",
       "    </tr>\n",
       "    <tr>\n",
       "      <th>7</th>\n",
       "      <td>XGBRegressor</td>\n",
       "      <td>0.996729</td>\n",
       "      <td>0.765280</td>\n",
       "      <td>3563.748263</td>\n",
       "      <td>21998.866114</td>\n",
       "      <td>Overfitting</td>\n",
       "    </tr>\n",
       "    <tr>\n",
       "      <th>3</th>\n",
       "      <td>Decision Tree</td>\n",
       "      <td>0.998978</td>\n",
       "      <td>0.647569</td>\n",
       "      <td>1992.283142</td>\n",
       "      <td>26956.456687</td>\n",
       "      <td>Overfitting</td>\n",
       "    </tr>\n",
       "    <tr>\n",
       "      <th>8</th>\n",
       "      <td>AdaBoost Regressor</td>\n",
       "      <td>0.671296</td>\n",
       "      <td>0.461061</td>\n",
       "      <td>35727.038419</td>\n",
       "      <td>33334.599731</td>\n",
       "      <td>Overfitting</td>\n",
       "    </tr>\n",
       "    <tr>\n",
       "      <th>9</th>\n",
       "      <td>SVR</td>\n",
       "      <td>-0.082615</td>\n",
       "      <td>-0.056924</td>\n",
       "      <td>64838.246133</td>\n",
       "      <td>46681.793959</td>\n",
       "      <td>accepted</td>\n",
       "    </tr>\n",
       "  </tbody>\n",
       "</table>\n",
       "</div>"
      ],
      "text/plain": [
       "              Model Name  train_accuracy  test_accuracy    train_rmse  \\\n",
       "5      Gradient Boosting        0.890545       0.856045  20616.351501   \n",
       "4          Random Forest        0.967241       0.794412  11278.644713   \n",
       "2       Ridge Regression        0.790522       0.783717  28520.918302   \n",
       "0      Linear Regression        0.790900       0.780355  28495.201581   \n",
       "1       Lasso Regression        0.790898       0.780343  28495.295625   \n",
       "6  K-Neighbors Regressor        0.830341       0.780032  25667.487778   \n",
       "7           XGBRegressor        0.996729       0.765280   3563.748263   \n",
       "3          Decision Tree        0.998978       0.647569   1992.283142   \n",
       "8     AdaBoost Regressor        0.671296       0.461061  35727.038419   \n",
       "9                    SVR       -0.082615      -0.056924  64838.246133   \n",
       "\n",
       "      test_rmse   retraining  \n",
       "5  17228.154013     accepted  \n",
       "4  20588.484912  Overfitting  \n",
       "2  21117.203156     accepted  \n",
       "0  21280.695030     accepted  \n",
       "1  21281.285992     accepted  \n",
       "6  21296.346419     accepted  \n",
       "7  21998.866114  Overfitting  \n",
       "3  26956.456687  Overfitting  \n",
       "8  33334.599731  Overfitting  \n",
       "9  46681.793959     accepted  "
      ]
     },
     "execution_count": 119,
     "metadata": {},
     "output_type": "execute_result"
    }
   ],
   "source": [
    "report_mice"
   ]
  },
  {
   "cell_type": "code",
   "execution_count": 120,
   "id": "0ad7b3b5",
   "metadata": {},
   "outputs": [],
   "source": [
    "# splitting dataset into train and test\n",
    "X_train, X_test, y_train, y_test = train_test_split(X_mice,y,test_size=0.15,random_state=10)"
   ]
  },
  {
   "cell_type": "code",
   "execution_count": null,
   "id": "63613628",
   "metadata": {},
   "outputs": [],
   "source": [
    "# Gradient Boosting"
   ]
  },
  {
   "cell_type": "code",
   "execution_count": 121,
   "id": "856342bd",
   "metadata": {},
   "outputs": [
    {
     "data": {
      "text/plain": [
       "GridSearchCV(cv=5, estimator=GradientBoostingRegressor(),\n",
       "             param_grid={'learning_rate': [0.1, 0.5, 1],\n",
       "                         'max_depth': [2, 5, 10],\n",
       "                         'max_features': ['auto', 'sqrt', 'log2'],\n",
       "                         'n_estimators': [50, 75, 100],\n",
       "                         'random_state': [1, 5, 10]})"
      ]
     },
     "execution_count": 121,
     "metadata": {},
     "output_type": "execute_result"
    }
   ],
   "source": [
    "gb = GradientBoostingRegressor()\n",
    "grid_param_gb = {\n",
    "                    \"learning_rate\":[0.1,0.5,1],\n",
    "                    \"n_estimators\":[50,75,100],\n",
    "                    \"max_depth\":[2,5,10],\n",
    "                    \"random_state\":[1,5,10],\n",
    "                    \"max_features\":['auto', 'sqrt', 'log2']\n",
    "                }\n",
    "\n",
    "grid_search_gb=GridSearchCV(estimator=gb,param_grid=grid_param_gb,cv=5)\n",
    "grid_search_gb.fit(X_train,y_train)"
   ]
  },
  {
   "cell_type": "code",
   "execution_count": 124,
   "id": "78cb4b67",
   "metadata": {},
   "outputs": [
    {
     "data": {
      "text/plain": [
       "{'learning_rate': 0.1,\n",
       " 'max_depth': 5,\n",
       " 'max_features': 'log2',\n",
       " 'n_estimators': 100,\n",
       " 'random_state': 5}"
      ]
     },
     "execution_count": 124,
     "metadata": {},
     "output_type": "execute_result"
    }
   ],
   "source": [
    "grid_search_gb.best_params_"
   ]
  },
  {
   "cell_type": "code",
   "execution_count": null,
   "id": "457745c9",
   "metadata": {},
   "outputs": [],
   "source": [
    "# RF"
   ]
  },
  {
   "cell_type": "code",
   "execution_count": 122,
   "id": "fb323b7b",
   "metadata": {},
   "outputs": [
    {
     "data": {
      "text/plain": [
       "GridSearchCV(cv=5, estimator=RandomForestRegressor(),\n",
       "             param_grid={'max_depth': [5, 10, 15],\n",
       "                         'max_features': [0.25, 0.5, 0.75, 1],\n",
       "                         'max_samples': [0.1, 0.2, 0.5, 1],\n",
       "                         'n_estimators': [20, 40, 75, 100],\n",
       "                         'random_state': [1, 5, 10]})"
      ]
     },
     "execution_count": 122,
     "metadata": {},
     "output_type": "execute_result"
    }
   ],
   "source": [
    "rf = RandomForestRegressor()\n",
    "grid_param_rf = {\n",
    "                    \"n_estimators\":[20,40,75,100],\n",
    "                    \"random_state\":[1,5,10],\n",
    "                    \"max_samples\":[0.1,0.2,0.5,1],\n",
    "                    \"max_features\":[0.25,0.50,0.75,1],\n",
    "                    \"max_depth\":[5,10,15]\n",
    "                }\n",
    "grid_search_rf=GridSearchCV(estimator=rf,param_grid=grid_param_rf,cv=5)\n",
    "grid_search_rf.fit(X_train,y_train)"
   ]
  },
  {
   "cell_type": "code",
   "execution_count": 123,
   "id": "ef47adf0",
   "metadata": {},
   "outputs": [
    {
     "data": {
      "text/plain": [
       "{'max_depth': 10,\n",
       " 'max_features': 0.25,\n",
       " 'max_samples': 0.5,\n",
       " 'n_estimators': 100,\n",
       " 'random_state': 1}"
      ]
     },
     "execution_count": 123,
     "metadata": {},
     "output_type": "execute_result"
    }
   ],
   "source": [
    "grid_search_rf.best_params_"
   ]
  },
  {
   "cell_type": "code",
   "execution_count": null,
   "id": "b11708f3",
   "metadata": {},
   "outputs": [],
   "source": [
    "# Ridge"
   ]
  },
  {
   "cell_type": "code",
   "execution_count": 127,
   "id": "dadac0b8",
   "metadata": {},
   "outputs": [
    {
     "data": {
      "text/plain": [
       "GridSearchCV(cv=5, estimator=Ridge(),\n",
       "             param_grid={'alpha': [1, 2, 5, 10],\n",
       "                         'random_state': [1, 5, 10, 15]})"
      ]
     },
     "execution_count": 127,
     "metadata": {},
     "output_type": "execute_result"
    }
   ],
   "source": [
    "ridge = Ridge()\n",
    "grid_param_ridge = { \"alpha\" : [1,2,5,10],\n",
    "                     \"random_state\": [1,5,10,15]}\n",
    "grid_search_ridge=GridSearchCV(estimator=ridge,param_grid=grid_param_ridge,cv=5)\n",
    "grid_search_ridge.fit(X_train,y_train)"
   ]
  },
  {
   "cell_type": "code",
   "execution_count": 128,
   "id": "957b4121",
   "metadata": {},
   "outputs": [
    {
     "data": {
      "text/plain": [
       "{'alpha': 10, 'random_state': 1}"
      ]
     },
     "execution_count": 128,
     "metadata": {},
     "output_type": "execute_result"
    }
   ],
   "source": [
    "grid_search_ridge.best_params_"
   ]
  },
  {
   "cell_type": "code",
   "execution_count": 129,
   "id": "f307bdb5",
   "metadata": {},
   "outputs": [],
   "source": [
    "# Dictionary which contains models for experiment\n",
    "models_new = {\n",
    "                \"Random Forest\": RandomForestRegressor(n_estimators = 100,\n",
    "                                                random_state = 1,\n",
    "                                                max_samples = 0.5,\n",
    "                                                max_features = 0.25,\n",
    "                                                max_depth =10),\n",
    "                \"Gradient Boosting\": GradientBoostingRegressor(learning_rate=0.1,\n",
    "                                                     max_depth=5,\n",
    "                                                     max_features='log2',\n",
    "                                                     n_estimators=100,\n",
    "                                                     random_state= 5 ),\n",
    "                \"Ridge\": Ridge(alpha=10,random_state=1)\n",
    "             }"
   ]
  },
  {
   "cell_type": "code",
   "execution_count": 130,
   "id": "9946a802",
   "metadata": {},
   "outputs": [
    {
     "name": "stdout",
     "output_type": "stream",
     "text": [
      "Random Forest\n",
      "Model performance for Training set\n",
      "- Accuracy: 0.8993736786468474\n",
      "- RMSE: 19767.426061830894\n",
      "----------------------------------\n",
      "Model performance for Test set\n",
      "- Accuracy: 0.8762597082002639\n",
      "- RMSE: 15972.804963085444\n",
      "===================================\n",
      "\n",
      "\n",
      "Gradient Boosting\n",
      "Model performance for Training set\n",
      "- Accuracy: 0.9338922771320042\n",
      "- RMSE: 16022.136368568828\n",
      "----------------------------------\n",
      "Model performance for Test set\n",
      "- Accuracy: 0.8886582591132168\n",
      "- RMSE: 15151.464915741288\n",
      "===================================\n",
      "\n",
      "\n",
      "Ridge\n",
      "Model performance for Training set\n",
      "- Accuracy: 0.7851018791329282\n",
      "- RMSE: 28887.54492309451\n",
      "----------------------------------\n",
      "Model performance for Test set\n",
      "- Accuracy: 0.8007327059330607\n",
      "- RMSE: 20269.527847964644\n",
      "===================================\n",
      "\n",
      "\n"
     ]
    }
   ],
   "source": [
    "report_mice_new = evaluate_models(X_mice, y, models_new)"
   ]
  },
  {
   "cell_type": "code",
   "execution_count": 131,
   "id": "9153e885",
   "metadata": {},
   "outputs": [
    {
     "data": {
      "text/html": [
       "<div>\n",
       "<style scoped>\n",
       "    .dataframe tbody tr th:only-of-type {\n",
       "        vertical-align: middle;\n",
       "    }\n",
       "\n",
       "    .dataframe tbody tr th {\n",
       "        vertical-align: top;\n",
       "    }\n",
       "\n",
       "    .dataframe thead th {\n",
       "        text-align: right;\n",
       "    }\n",
       "</style>\n",
       "<table border=\"1\" class=\"dataframe\">\n",
       "  <thead>\n",
       "    <tr style=\"text-align: right;\">\n",
       "      <th></th>\n",
       "      <th>Model Name</th>\n",
       "      <th>train_accuracy</th>\n",
       "      <th>test_accuracy</th>\n",
       "      <th>train_rmse</th>\n",
       "      <th>test_rmse</th>\n",
       "      <th>retraining</th>\n",
       "    </tr>\n",
       "  </thead>\n",
       "  <tbody>\n",
       "    <tr>\n",
       "      <th>1</th>\n",
       "      <td>Gradient Boosting</td>\n",
       "      <td>0.933892</td>\n",
       "      <td>0.888658</td>\n",
       "      <td>16022.136369</td>\n",
       "      <td>15151.464916</td>\n",
       "      <td>accepted</td>\n",
       "    </tr>\n",
       "    <tr>\n",
       "      <th>0</th>\n",
       "      <td>Random Forest</td>\n",
       "      <td>0.899374</td>\n",
       "      <td>0.876260</td>\n",
       "      <td>19767.426062</td>\n",
       "      <td>15972.804963</td>\n",
       "      <td>accepted</td>\n",
       "    </tr>\n",
       "    <tr>\n",
       "      <th>2</th>\n",
       "      <td>Ridge</td>\n",
       "      <td>0.785102</td>\n",
       "      <td>0.800733</td>\n",
       "      <td>28887.544923</td>\n",
       "      <td>20269.527848</td>\n",
       "      <td>accepted</td>\n",
       "    </tr>\n",
       "  </tbody>\n",
       "</table>\n",
       "</div>"
      ],
      "text/plain": [
       "          Model Name  train_accuracy  test_accuracy    train_rmse  \\\n",
       "1  Gradient Boosting        0.933892       0.888658  16022.136369   \n",
       "0      Random Forest        0.899374       0.876260  19767.426062   \n",
       "2              Ridge        0.785102       0.800733  28887.544923   \n",
       "\n",
       "      test_rmse retraining  \n",
       "1  15151.464916   accepted  \n",
       "0  15972.804963   accepted  \n",
       "2  20269.527848   accepted  "
      ]
     },
     "execution_count": 131,
     "metadata": {},
     "output_type": "execute_result"
    }
   ],
   "source": [
    "report_mice_new "
   ]
  },
  {
   "cell_type": "markdown",
   "id": "84aa9d80",
   "metadata": {},
   "source": [
    "### Experiment: 4 = Simple Imputer with Strategy Constant "
   ]
  },
  {
   "cell_type": "markdown",
   "id": "92a6ae6e",
   "metadata": {},
   "source": [
    "- Another strategy which can be used is replacing missing values with a fixed (constant) value.\n",
    "- To do this, specify “constant” for strategy and specify the fill value using the fill_value parameter"
   ]
  },
  {
   "cell_type": "code",
   "execution_count": 135,
   "id": "1f4f1927",
   "metadata": {},
   "outputs": [],
   "source": [
    "# Create a pipeline with simple imputer with strategy constant and fill value 0\n",
    "constant_pipeline = Pipeline(steps=[\n",
    "    ('Imputer', SimpleImputer(strategy='constant', fill_value=0)),\n",
    "    ('RobustScaler', RobustScaler())\n",
    "])"
   ]
  },
  {
   "cell_type": "code",
   "execution_count": 136,
   "id": "ea10b6b5",
   "metadata": {},
   "outputs": [],
   "source": [
    "X_const =constant_pipeline.fit_transform(X)"
   ]
  },
  {
   "cell_type": "code",
   "execution_count": 137,
   "id": "e70c4b2a",
   "metadata": {},
   "outputs": [
    {
     "name": "stdout",
     "output_type": "stream",
     "text": [
      "Linear Regression\n",
      "Model performance for Training set\n",
      "- Accuracy: 0.7796416399237913\n",
      "- RMSE: 29252.23749439379\n",
      "----------------------------------\n",
      "Model performance for Test set\n",
      "- Accuracy: 0.748881702307556\n",
      "- RMSE: 22754.369184239207\n",
      "===================================\n",
      "\n",
      "\n",
      "Lasso Regression\n",
      "Model performance for Training set\n",
      "- Accuracy: 0.7796384274140871\n",
      "- RMSE: 29252.45072150778\n",
      "----------------------------------\n",
      "Model performance for Test set\n",
      "- Accuracy: 0.7486212833538652\n",
      "- RMSE: 22766.164687754754\n",
      "===================================\n",
      "\n",
      "\n",
      "Ridge Regression\n",
      "Model performance for Training set\n",
      "- Accuracy: 0.7789092119046508\n",
      "- RMSE: 29300.811518598563\n",
      "----------------------------------\n",
      "Model performance for Test set\n",
      "- Accuracy: 0.7486212867923914\n",
      "- RMSE: 22766.164532049337\n",
      "===================================\n",
      "\n",
      "\n",
      "Decision Tree\n",
      "Model performance for Training set\n",
      "- Accuracy: 0.989443086986404\n",
      "- RMSE: 6402.694738582287\n",
      "----------------------------------\n",
      "Model performance for Test set\n",
      "- Accuracy: 0.7502879798191555\n",
      "- RMSE: 22690.566819241794\n",
      "===================================\n",
      "\n",
      "\n",
      "Random Forest\n",
      "Model performance for Training set\n",
      "- Accuracy: 0.9610366501832655\n",
      "- RMSE: 12300.49159938678\n",
      "----------------------------------\n",
      "Model performance for Test set\n",
      "- Accuracy: 0.8358027818756858\n",
      "- RMSE: 18399.60578443535\n",
      "===================================\n",
      "\n",
      "\n",
      "Gradient Boosting\n",
      "Model performance for Training set\n",
      "- Accuracy: 0.9186260742308642\n",
      "- RMSE: 17776.119416652302\n",
      "----------------------------------\n",
      "Model performance for Test set\n",
      "- Accuracy: 0.8613090323808873\n",
      "- RMSE: 16910.23760446131\n",
      "===================================\n",
      "\n",
      "\n",
      "K-Neighbors Regressor\n",
      "Model performance for Training set\n",
      "- Accuracy: 0.8293799457134626\n",
      "- RMSE: 25740.048614350122\n",
      "----------------------------------\n",
      "Model performance for Test set\n",
      "- Accuracy: 0.7389684743498335\n",
      "- RMSE: 23199.151533391927\n",
      "===================================\n",
      "\n",
      "\n",
      "XGBRegressor\n",
      "Model performance for Training set\n",
      "- Accuracy: 0.9868956549811464\n",
      "- RMSE: 7133.488810809896\n",
      "----------------------------------\n",
      "Model performance for Test set\n",
      "- Accuracy: 0.8325783630127447\n",
      "- RMSE: 18579.3883612493\n",
      "===================================\n",
      "\n",
      "\n",
      "AdaBoost Regressor\n",
      "Model performance for Training set\n",
      "- Accuracy: 0.7204207935455129\n",
      "- RMSE: 32949.34296397493\n",
      "----------------------------------\n",
      "Model performance for Test set\n",
      "- Accuracy: 0.5307527014219933\n",
      "- RMSE: 31104.735406395866\n",
      "===================================\n",
      "\n",
      "\n",
      "SVR\n",
      "Model performance for Training set\n",
      "- Accuracy: -0.0826011243683511\n",
      "- RMSE: 64837.84349725459\n",
      "----------------------------------\n",
      "Model performance for Test set\n",
      "- Accuracy: -0.05692480282385093\n",
      "- RMSE: 46681.80773664844\n",
      "===================================\n",
      "\n",
      "\n"
     ]
    }
   ],
   "source": [
    "# training the models\n",
    "report_const = evaluate_models(X_const, y, models)"
   ]
  },
  {
   "cell_type": "markdown",
   "id": "de81a5c0",
   "metadata": {},
   "source": [
    "### Report for Simple Imputer with Constant strategy"
   ]
  },
  {
   "cell_type": "code",
   "execution_count": 138,
   "id": "1705f98f",
   "metadata": {},
   "outputs": [
    {
     "data": {
      "text/html": [
       "<div>\n",
       "<style scoped>\n",
       "    .dataframe tbody tr th:only-of-type {\n",
       "        vertical-align: middle;\n",
       "    }\n",
       "\n",
       "    .dataframe tbody tr th {\n",
       "        vertical-align: top;\n",
       "    }\n",
       "\n",
       "    .dataframe thead th {\n",
       "        text-align: right;\n",
       "    }\n",
       "</style>\n",
       "<table border=\"1\" class=\"dataframe\">\n",
       "  <thead>\n",
       "    <tr style=\"text-align: right;\">\n",
       "      <th></th>\n",
       "      <th>Model Name</th>\n",
       "      <th>train_accuracy</th>\n",
       "      <th>test_accuracy</th>\n",
       "      <th>train_rmse</th>\n",
       "      <th>test_rmse</th>\n",
       "      <th>retraining</th>\n",
       "    </tr>\n",
       "  </thead>\n",
       "  <tbody>\n",
       "    <tr>\n",
       "      <th>5</th>\n",
       "      <td>Gradient Boosting</td>\n",
       "      <td>0.918626</td>\n",
       "      <td>0.861309</td>\n",
       "      <td>17776.119417</td>\n",
       "      <td>16910.237604</td>\n",
       "      <td>accepted</td>\n",
       "    </tr>\n",
       "    <tr>\n",
       "      <th>4</th>\n",
       "      <td>Random Forest</td>\n",
       "      <td>0.961037</td>\n",
       "      <td>0.835803</td>\n",
       "      <td>12300.491599</td>\n",
       "      <td>18399.605784</td>\n",
       "      <td>Overfitting</td>\n",
       "    </tr>\n",
       "    <tr>\n",
       "      <th>7</th>\n",
       "      <td>XGBRegressor</td>\n",
       "      <td>0.986896</td>\n",
       "      <td>0.832578</td>\n",
       "      <td>7133.488811</td>\n",
       "      <td>18579.388361</td>\n",
       "      <td>Overfitting</td>\n",
       "    </tr>\n",
       "    <tr>\n",
       "      <th>3</th>\n",
       "      <td>Decision Tree</td>\n",
       "      <td>0.989443</td>\n",
       "      <td>0.750288</td>\n",
       "      <td>6402.694739</td>\n",
       "      <td>22690.566819</td>\n",
       "      <td>Overfitting</td>\n",
       "    </tr>\n",
       "    <tr>\n",
       "      <th>0</th>\n",
       "      <td>Linear Regression</td>\n",
       "      <td>0.779642</td>\n",
       "      <td>0.748882</td>\n",
       "      <td>29252.237494</td>\n",
       "      <td>22754.369184</td>\n",
       "      <td>accepted</td>\n",
       "    </tr>\n",
       "    <tr>\n",
       "      <th>2</th>\n",
       "      <td>Ridge Regression</td>\n",
       "      <td>0.778909</td>\n",
       "      <td>0.748621</td>\n",
       "      <td>29300.811519</td>\n",
       "      <td>22766.164532</td>\n",
       "      <td>accepted</td>\n",
       "    </tr>\n",
       "    <tr>\n",
       "      <th>1</th>\n",
       "      <td>Lasso Regression</td>\n",
       "      <td>0.779638</td>\n",
       "      <td>0.748621</td>\n",
       "      <td>29252.450722</td>\n",
       "      <td>22766.164688</td>\n",
       "      <td>accepted</td>\n",
       "    </tr>\n",
       "    <tr>\n",
       "      <th>6</th>\n",
       "      <td>K-Neighbors Regressor</td>\n",
       "      <td>0.829380</td>\n",
       "      <td>0.738968</td>\n",
       "      <td>25740.048614</td>\n",
       "      <td>23199.151533</td>\n",
       "      <td>accepted</td>\n",
       "    </tr>\n",
       "    <tr>\n",
       "      <th>8</th>\n",
       "      <td>AdaBoost Regressor</td>\n",
       "      <td>0.720421</td>\n",
       "      <td>0.530753</td>\n",
       "      <td>32949.342964</td>\n",
       "      <td>31104.735406</td>\n",
       "      <td>Overfitting</td>\n",
       "    </tr>\n",
       "    <tr>\n",
       "      <th>9</th>\n",
       "      <td>SVR</td>\n",
       "      <td>-0.082601</td>\n",
       "      <td>-0.056925</td>\n",
       "      <td>64837.843497</td>\n",
       "      <td>46681.807737</td>\n",
       "      <td>accepted</td>\n",
       "    </tr>\n",
       "  </tbody>\n",
       "</table>\n",
       "</div>"
      ],
      "text/plain": [
       "              Model Name  train_accuracy  test_accuracy    train_rmse  \\\n",
       "5      Gradient Boosting        0.918626       0.861309  17776.119417   \n",
       "4          Random Forest        0.961037       0.835803  12300.491599   \n",
       "7           XGBRegressor        0.986896       0.832578   7133.488811   \n",
       "3          Decision Tree        0.989443       0.750288   6402.694739   \n",
       "0      Linear Regression        0.779642       0.748882  29252.237494   \n",
       "2       Ridge Regression        0.778909       0.748621  29300.811519   \n",
       "1       Lasso Regression        0.779638       0.748621  29252.450722   \n",
       "6  K-Neighbors Regressor        0.829380       0.738968  25740.048614   \n",
       "8     AdaBoost Regressor        0.720421       0.530753  32949.342964   \n",
       "9                    SVR       -0.082601      -0.056925  64837.843497   \n",
       "\n",
       "      test_rmse   retraining  \n",
       "5  16910.237604     accepted  \n",
       "4  18399.605784  Overfitting  \n",
       "7  18579.388361  Overfitting  \n",
       "3  22690.566819  Overfitting  \n",
       "0  22754.369184     accepted  \n",
       "2  22766.164532     accepted  \n",
       "1  22766.164688     accepted  \n",
       "6  23199.151533     accepted  \n",
       "8  31104.735406  Overfitting  \n",
       "9  46681.807737     accepted  "
      ]
     },
     "execution_count": 138,
     "metadata": {},
     "output_type": "execute_result"
    }
   ],
   "source": [
    "report_const"
   ]
  },
  {
   "cell_type": "markdown",
   "id": "670f174b",
   "metadata": {},
   "source": [
    "### Hyperparameter tuning"
   ]
  },
  {
   "cell_type": "code",
   "execution_count": 139,
   "id": "98d644dc",
   "metadata": {},
   "outputs": [],
   "source": [
    "# splitting dataset into train and test\n",
    "X_train, X_test, y_train, y_test = train_test_split(X_const,y,test_size=0.15,random_state=10)"
   ]
  },
  {
   "cell_type": "code",
   "execution_count": null,
   "id": "3f7ec0df",
   "metadata": {},
   "outputs": [],
   "source": [
    "# Gradient Boosting"
   ]
  },
  {
   "cell_type": "code",
   "execution_count": 140,
   "id": "b1b177fe",
   "metadata": {},
   "outputs": [
    {
     "data": {
      "text/plain": [
       "GridSearchCV(cv=5, estimator=GradientBoostingRegressor(),\n",
       "             param_grid={'learning_rate': [0.1, 0.5, 1],\n",
       "                         'max_depth': [2, 5, 10],\n",
       "                         'max_features': ['auto', 'sqrt', 'log2'],\n",
       "                         'n_estimators': [50, 75, 100],\n",
       "                         'random_state': [1, 5, 10]})"
      ]
     },
     "execution_count": 140,
     "metadata": {},
     "output_type": "execute_result"
    }
   ],
   "source": [
    "gb = GradientBoostingRegressor()\n",
    "grid_param_gb = {\n",
    "                    \"learning_rate\":[0.1,0.5,1],\n",
    "                    \"n_estimators\":[50,75,100],\n",
    "                    \"max_depth\":[2,5,10],\n",
    "                    \"random_state\":[1,5,10],\n",
    "                    \"max_features\":['auto', 'sqrt', 'log2']\n",
    "                }\n",
    "\n",
    "grid_search_gb=GridSearchCV(estimator=gb,param_grid=grid_param_gb,cv=5)\n",
    "grid_search_gb.fit(X_train,y_train)"
   ]
  },
  {
   "cell_type": "code",
   "execution_count": 141,
   "id": "4ae91ef0",
   "metadata": {},
   "outputs": [
    {
     "data": {
      "text/plain": [
       "{'learning_rate': 0.1,\n",
       " 'max_depth': 5,\n",
       " 'max_features': 'log2',\n",
       " 'n_estimators': 100,\n",
       " 'random_state': 5}"
      ]
     },
     "execution_count": 141,
     "metadata": {},
     "output_type": "execute_result"
    }
   ],
   "source": [
    "grid_search_gb.best_params_"
   ]
  },
  {
   "cell_type": "code",
   "execution_count": 142,
   "id": "6e08658d",
   "metadata": {},
   "outputs": [],
   "source": [
    "# RF"
   ]
  },
  {
   "cell_type": "code",
   "execution_count": 143,
   "id": "c45dba98",
   "metadata": {},
   "outputs": [
    {
     "data": {
      "text/plain": [
       "GridSearchCV(cv=5, estimator=RandomForestRegressor(),\n",
       "             param_grid={'max_depth': [5, 10, 15],\n",
       "                         'max_features': [0.25, 0.5, 0.75, 1],\n",
       "                         'max_samples': [0.1, 0.2, 0.5, 1],\n",
       "                         'n_estimators': [20, 40, 75, 100],\n",
       "                         'random_state': [1, 5, 10]})"
      ]
     },
     "execution_count": 143,
     "metadata": {},
     "output_type": "execute_result"
    }
   ],
   "source": [
    "rf = RandomForestRegressor()\n",
    "grid_param_rf = {\n",
    "                    \"n_estimators\":[20,40,75,100],\n",
    "                    \"random_state\":[1,5,10],\n",
    "                    \"max_samples\":[0.1,0.2,0.5,1],\n",
    "                    \"max_features\":[0.25,0.50,0.75,1],\n",
    "                    \"max_depth\":[5,10,15]\n",
    "                }\n",
    "grid_search_rf=GridSearchCV(estimator=rf,param_grid=grid_param_rf,cv=5)\n",
    "grid_search_rf.fit(X_train,y_train)"
   ]
  },
  {
   "cell_type": "code",
   "execution_count": 144,
   "id": "e3ea97c8",
   "metadata": {},
   "outputs": [
    {
     "data": {
      "text/plain": [
       "{'max_depth': 15,\n",
       " 'max_features': 0.25,\n",
       " 'max_samples': 0.5,\n",
       " 'n_estimators': 75,\n",
       " 'random_state': 5}"
      ]
     },
     "execution_count": 144,
     "metadata": {},
     "output_type": "execute_result"
    }
   ],
   "source": [
    "grid_search_rf.best_params_"
   ]
  },
  {
   "cell_type": "code",
   "execution_count": 145,
   "id": "bc51c564",
   "metadata": {},
   "outputs": [],
   "source": [
    "# XGB"
   ]
  },
  {
   "cell_type": "code",
   "execution_count": 146,
   "id": "c9a02355",
   "metadata": {},
   "outputs": [
    {
     "data": {
      "text/plain": [
       "GridSearchCV(cv=5,\n",
       "             estimator=XGBRegressor(base_score=None, booster=None,\n",
       "                                    callbacks=None, colsample_bylevel=None,\n",
       "                                    colsample_bynode=None,\n",
       "                                    colsample_bytree=None,\n",
       "                                    early_stopping_rounds=None,\n",
       "                                    enable_categorical=False, eval_metric=None,\n",
       "                                    feature_types=None, gamma=None, gpu_id=None,\n",
       "                                    grow_policy=None, importance_type=None,\n",
       "                                    interaction_constraints=None,\n",
       "                                    learning_rate=None, max_bin=None,\n",
       "                                    max_cat_threshold=None,\n",
       "                                    max_cat_to_onehot=None, max_delta_step=None,\n",
       "                                    max_depth=None, max_leaves=None,\n",
       "                                    min_child_weight=None, missing=nan,\n",
       "                                    monotone_constraints=None, n_estimators=100,\n",
       "                                    n_jobs=None, num_parallel_tree=None,\n",
       "                                    predictor=None, random_state=None, ...),\n",
       "             param_grid={'max_depth': [2, 4, 10],\n",
       "                         'n_estimators': [30, 50, 75, 100]})"
      ]
     },
     "execution_count": 146,
     "metadata": {},
     "output_type": "execute_result"
    }
   ],
   "source": [
    "xgb = XGBRegressor()\n",
    "grid_param_xgb = {\n",
    "                    \"n_estimators\":[30,50,75,100],\n",
    "                    \"max_depth\":[2,4,10]\n",
    "                }\n",
    "grid_search_xgb=GridSearchCV(estimator=xgb,param_grid=grid_param_xgb,cv=5)\n",
    "grid_search_xgb.fit(X_train,y_train)"
   ]
  },
  {
   "cell_type": "code",
   "execution_count": 147,
   "id": "8dbda1a3",
   "metadata": {},
   "outputs": [
    {
     "data": {
      "text/plain": [
       "{'max_depth': 2, 'n_estimators': 100}"
      ]
     },
     "execution_count": 147,
     "metadata": {},
     "output_type": "execute_result"
    }
   ],
   "source": [
    "grid_search_xgb.best_params_"
   ]
  },
  {
   "cell_type": "code",
   "execution_count": 148,
   "id": "476dd7ce",
   "metadata": {},
   "outputs": [],
   "source": [
    "# Dictionary which contains models for experiment\n",
    "models_new = {\n",
    "                \"Random Forest\": RandomForestRegressor(n_estimators = 75,\n",
    "                                                random_state = 5,\n",
    "                                                max_samples = 0.5,\n",
    "                                                max_features = 0.25,\n",
    "                                                max_depth =15),\n",
    "                \"Gradient Boosting\": GradientBoostingRegressor(learning_rate=0.1,\n",
    "                                                     max_depth=5,\n",
    "                                                     max_features='log2',\n",
    "                                                     n_estimators=100,\n",
    "                                                     random_state= 5 ),\n",
    "                \"XGBRegressor\": XGBRegressor(max_depth=2,\n",
    "                                       n_estimators=100)\n",
    "             }"
   ]
  },
  {
   "cell_type": "code",
   "execution_count": 149,
   "id": "6a287fc2",
   "metadata": {},
   "outputs": [
    {
     "name": "stdout",
     "output_type": "stream",
     "text": [
      "Random Forest\n",
      "Model performance for Training set\n",
      "- Accuracy: 0.9193179246300148\n",
      "- RMSE: 17700.390812255428\n",
      "----------------------------------\n",
      "Model performance for Test set\n",
      "- Accuracy: 0.8890296363156254\n",
      "- RMSE: 15126.17517018933\n",
      "===================================\n",
      "\n",
      "\n",
      "Gradient Boosting\n",
      "Model performance for Training set\n",
      "- Accuracy: 0.9576445424626011\n",
      "- RMSE: 12824.75312222429\n",
      "----------------------------------\n",
      "Model performance for Test set\n",
      "- Accuracy: 0.8751988751212149\n",
      "- RMSE: 16041.126760099272\n",
      "===================================\n",
      "\n",
      "\n",
      "XGBRegressor\n",
      "Model performance for Training set\n",
      "- Accuracy: 0.9090728634854361\n",
      "- RMSE: 18790.618796013365\n",
      "----------------------------------\n",
      "Model performance for Test set\n",
      "- Accuracy: 0.8381750651418305\n",
      "- RMSE: 18266.205582442457\n",
      "===================================\n",
      "\n",
      "\n"
     ]
    }
   ],
   "source": [
    "report_const_new = evaluate_models(X_const, y, models_new)"
   ]
  },
  {
   "cell_type": "code",
   "execution_count": 150,
   "id": "3cc21809",
   "metadata": {},
   "outputs": [
    {
     "data": {
      "text/html": [
       "<div>\n",
       "<style scoped>\n",
       "    .dataframe tbody tr th:only-of-type {\n",
       "        vertical-align: middle;\n",
       "    }\n",
       "\n",
       "    .dataframe tbody tr th {\n",
       "        vertical-align: top;\n",
       "    }\n",
       "\n",
       "    .dataframe thead th {\n",
       "        text-align: right;\n",
       "    }\n",
       "</style>\n",
       "<table border=\"1\" class=\"dataframe\">\n",
       "  <thead>\n",
       "    <tr style=\"text-align: right;\">\n",
       "      <th></th>\n",
       "      <th>Model Name</th>\n",
       "      <th>train_accuracy</th>\n",
       "      <th>test_accuracy</th>\n",
       "      <th>train_rmse</th>\n",
       "      <th>test_rmse</th>\n",
       "      <th>retraining</th>\n",
       "    </tr>\n",
       "  </thead>\n",
       "  <tbody>\n",
       "    <tr>\n",
       "      <th>0</th>\n",
       "      <td>Random Forest</td>\n",
       "      <td>0.919318</td>\n",
       "      <td>0.889030</td>\n",
       "      <td>17700.390812</td>\n",
       "      <td>15126.175170</td>\n",
       "      <td>accepted</td>\n",
       "    </tr>\n",
       "    <tr>\n",
       "      <th>1</th>\n",
       "      <td>Gradient Boosting</td>\n",
       "      <td>0.957645</td>\n",
       "      <td>0.875199</td>\n",
       "      <td>12824.753122</td>\n",
       "      <td>16041.126760</td>\n",
       "      <td>accepted</td>\n",
       "    </tr>\n",
       "    <tr>\n",
       "      <th>2</th>\n",
       "      <td>XGBRegressor</td>\n",
       "      <td>0.909073</td>\n",
       "      <td>0.838175</td>\n",
       "      <td>18790.618796</td>\n",
       "      <td>18266.205582</td>\n",
       "      <td>accepted</td>\n",
       "    </tr>\n",
       "  </tbody>\n",
       "</table>\n",
       "</div>"
      ],
      "text/plain": [
       "          Model Name  train_accuracy  test_accuracy    train_rmse  \\\n",
       "0      Random Forest        0.919318       0.889030  17700.390812   \n",
       "1  Gradient Boosting        0.957645       0.875199  12824.753122   \n",
       "2       XGBRegressor        0.909073       0.838175  18790.618796   \n",
       "\n",
       "      test_rmse retraining  \n",
       "0  15126.175170   accepted  \n",
       "1  16041.126760   accepted  \n",
       "2  18266.205582   accepted  "
      ]
     },
     "execution_count": 150,
     "metadata": {},
     "output_type": "execute_result"
    }
   ],
   "source": [
    "report_const_new"
   ]
  },
  {
   "cell_type": "markdown",
   "id": "20bfb6a4",
   "metadata": {},
   "source": [
    "### Experiment: 5 = Simple Imputer with Strategy Mean \n",
    "\n",
    "- Another strategy which can be used is replacing missing values with mean\n",
    "- Here we replace the missing values with the mean of the column"
   ]
  },
  {
   "cell_type": "code",
   "execution_count": 152,
   "id": "c6e62ec9",
   "metadata": {},
   "outputs": [],
   "source": [
    "# Create a pipeline with Simple imputer with strategy mean\n",
    "mean_pipeline = Pipeline(steps=[\n",
    "    ('Imputer', SimpleImputer(strategy='mean')),\n",
    "    ('RobustScaler', RobustScaler())\n",
    "])"
   ]
  },
  {
   "cell_type": "code",
   "execution_count": 153,
   "id": "2a39ec20",
   "metadata": {},
   "outputs": [],
   "source": [
    "X_mean = mean_pipeline.fit_transform(X)"
   ]
  },
  {
   "cell_type": "code",
   "execution_count": 154,
   "id": "a63ba9f5",
   "metadata": {},
   "outputs": [
    {
     "name": "stdout",
     "output_type": "stream",
     "text": [
      "Linear Regression\n",
      "Model performance for Training set\n",
      "- Accuracy: 0.790157398109992\n",
      "- RMSE: 28545.730162855074\n",
      "----------------------------------\n",
      "Model performance for Test set\n",
      "- Accuracy: 0.7885414630926125\n",
      "- RMSE: 20880.37202875999\n",
      "===================================\n",
      "\n",
      "\n",
      "Lasso Regression\n",
      "Model performance for Training set\n",
      "- Accuracy: 0.7901547674253628\n",
      "- RMSE: 28545.9090935811\n",
      "----------------------------------\n",
      "Model performance for Test set\n",
      "- Accuracy: 0.7885044190909967\n",
      "- RMSE: 20882.20089477247\n",
      "===================================\n",
      "\n",
      "\n",
      "Ridge Regression\n",
      "Model performance for Training set\n",
      "- Accuracy: 0.7897290420550817\n",
      "- RMSE: 28574.850804767302\n",
      "----------------------------------\n",
      "Model performance for Test set\n",
      "- Accuracy: 0.7916876203450008\n",
      "- RMSE: 20724.45701921228\n",
      "===================================\n",
      "\n",
      "\n",
      "Decision Tree\n",
      "Model performance for Training set\n",
      "- Accuracy: 0.989443086986404\n",
      "- RMSE: 6402.694738582287\n",
      "----------------------------------\n",
      "Model performance for Test set\n",
      "- Accuracy: 0.7886404706959885\n",
      "- RMSE: 20875.483227236527\n",
      "===================================\n",
      "\n",
      "\n",
      "Random Forest\n",
      "Model performance for Training set\n",
      "- Accuracy: 0.9634346960684693\n",
      "- RMSE: 11915.956763430697\n",
      "----------------------------------\n",
      "Model performance for Test set\n",
      "- Accuracy: 0.8599213069083204\n",
      "- RMSE: 16994.627951941926\n",
      "===================================\n",
      "\n",
      "\n",
      "Gradient Boosting\n",
      "Model performance for Training set\n",
      "- Accuracy: 0.9110838657746744\n",
      "- RMSE: 18581.66436549151\n",
      "----------------------------------\n",
      "Model performance for Test set\n",
      "- Accuracy: 0.8597803450100657\n",
      "- RMSE: 17003.176691909346\n",
      "===================================\n",
      "\n",
      "\n",
      "K-Neighbors Regressor\n",
      "Model performance for Training set\n",
      "- Accuracy: 0.8135424513045\n",
      "- RMSE: 26908.179126216037\n",
      "----------------------------------\n",
      "Model performance for Test set\n",
      "- Accuracy: 0.7565898353650673\n",
      "- RMSE: 22402.422101420107\n",
      "===================================\n",
      "\n",
      "\n",
      "XGBRegressor\n",
      "Model performance for Training set\n",
      "- Accuracy: 0.9869462101305485\n",
      "- RMSE: 7119.715398748458\n",
      "----------------------------------\n",
      "Model performance for Test set\n",
      "- Accuracy: 0.8616727925414456\n",
      "- RMSE: 16888.046867910045\n",
      "===================================\n",
      "\n",
      "\n",
      "AdaBoost Regressor\n",
      "Model performance for Training set\n",
      "- Accuracy: 0.6967563120914542\n",
      "- RMSE: 34315.49040077802\n",
      "----------------------------------\n",
      "Model performance for Test set\n",
      "- Accuracy: 0.5395653441428576\n",
      "- RMSE: 30811.27165563341\n",
      "===================================\n",
      "\n",
      "\n",
      "SVR\n",
      "Model performance for Training set\n",
      "- Accuracy: -0.08259235347466864\n",
      "- RMSE: 64837.58084881883\n",
      "----------------------------------\n",
      "Model performance for Test set\n",
      "- Accuracy: -0.05690644999440475\n",
      "- RMSE: 46681.40243488403\n",
      "===================================\n",
      "\n",
      "\n"
     ]
    }
   ],
   "source": [
    "# Training all models\n",
    "report_mean = evaluate_models(X_mean, y, models)"
   ]
  },
  {
   "cell_type": "code",
   "execution_count": 155,
   "id": "4f503dad",
   "metadata": {
    "scrolled": true
   },
   "outputs": [
    {
     "data": {
      "text/html": [
       "<div>\n",
       "<style scoped>\n",
       "    .dataframe tbody tr th:only-of-type {\n",
       "        vertical-align: middle;\n",
       "    }\n",
       "\n",
       "    .dataframe tbody tr th {\n",
       "        vertical-align: top;\n",
       "    }\n",
       "\n",
       "    .dataframe thead th {\n",
       "        text-align: right;\n",
       "    }\n",
       "</style>\n",
       "<table border=\"1\" class=\"dataframe\">\n",
       "  <thead>\n",
       "    <tr style=\"text-align: right;\">\n",
       "      <th></th>\n",
       "      <th>Model Name</th>\n",
       "      <th>train_accuracy</th>\n",
       "      <th>test_accuracy</th>\n",
       "      <th>train_rmse</th>\n",
       "      <th>test_rmse</th>\n",
       "      <th>retraining</th>\n",
       "    </tr>\n",
       "  </thead>\n",
       "  <tbody>\n",
       "    <tr>\n",
       "      <th>7</th>\n",
       "      <td>XGBRegressor</td>\n",
       "      <td>0.986946</td>\n",
       "      <td>0.861673</td>\n",
       "      <td>7119.715399</td>\n",
       "      <td>16888.046868</td>\n",
       "      <td>Overfitting</td>\n",
       "    </tr>\n",
       "    <tr>\n",
       "      <th>4</th>\n",
       "      <td>Random Forest</td>\n",
       "      <td>0.963435</td>\n",
       "      <td>0.859921</td>\n",
       "      <td>11915.956763</td>\n",
       "      <td>16994.627952</td>\n",
       "      <td>Overfitting</td>\n",
       "    </tr>\n",
       "    <tr>\n",
       "      <th>5</th>\n",
       "      <td>Gradient Boosting</td>\n",
       "      <td>0.911084</td>\n",
       "      <td>0.859780</td>\n",
       "      <td>18581.664365</td>\n",
       "      <td>17003.176692</td>\n",
       "      <td>accepted</td>\n",
       "    </tr>\n",
       "    <tr>\n",
       "      <th>2</th>\n",
       "      <td>Ridge Regression</td>\n",
       "      <td>0.789729</td>\n",
       "      <td>0.791688</td>\n",
       "      <td>28574.850805</td>\n",
       "      <td>20724.457019</td>\n",
       "      <td>accepted</td>\n",
       "    </tr>\n",
       "    <tr>\n",
       "      <th>3</th>\n",
       "      <td>Decision Tree</td>\n",
       "      <td>0.989443</td>\n",
       "      <td>0.788640</td>\n",
       "      <td>6402.694739</td>\n",
       "      <td>20875.483227</td>\n",
       "      <td>Overfitting</td>\n",
       "    </tr>\n",
       "    <tr>\n",
       "      <th>0</th>\n",
       "      <td>Linear Regression</td>\n",
       "      <td>0.790157</td>\n",
       "      <td>0.788541</td>\n",
       "      <td>28545.730163</td>\n",
       "      <td>20880.372029</td>\n",
       "      <td>accepted</td>\n",
       "    </tr>\n",
       "    <tr>\n",
       "      <th>1</th>\n",
       "      <td>Lasso Regression</td>\n",
       "      <td>0.790155</td>\n",
       "      <td>0.788504</td>\n",
       "      <td>28545.909094</td>\n",
       "      <td>20882.200895</td>\n",
       "      <td>accepted</td>\n",
       "    </tr>\n",
       "    <tr>\n",
       "      <th>6</th>\n",
       "      <td>K-Neighbors Regressor</td>\n",
       "      <td>0.813542</td>\n",
       "      <td>0.756590</td>\n",
       "      <td>26908.179126</td>\n",
       "      <td>22402.422101</td>\n",
       "      <td>accepted</td>\n",
       "    </tr>\n",
       "    <tr>\n",
       "      <th>8</th>\n",
       "      <td>AdaBoost Regressor</td>\n",
       "      <td>0.696756</td>\n",
       "      <td>0.539565</td>\n",
       "      <td>34315.490401</td>\n",
       "      <td>30811.271656</td>\n",
       "      <td>Overfitting</td>\n",
       "    </tr>\n",
       "    <tr>\n",
       "      <th>9</th>\n",
       "      <td>SVR</td>\n",
       "      <td>-0.082592</td>\n",
       "      <td>-0.056906</td>\n",
       "      <td>64837.580849</td>\n",
       "      <td>46681.402435</td>\n",
       "      <td>accepted</td>\n",
       "    </tr>\n",
       "  </tbody>\n",
       "</table>\n",
       "</div>"
      ],
      "text/plain": [
       "              Model Name  train_accuracy  test_accuracy    train_rmse  \\\n",
       "7           XGBRegressor        0.986946       0.861673   7119.715399   \n",
       "4          Random Forest        0.963435       0.859921  11915.956763   \n",
       "5      Gradient Boosting        0.911084       0.859780  18581.664365   \n",
       "2       Ridge Regression        0.789729       0.791688  28574.850805   \n",
       "3          Decision Tree        0.989443       0.788640   6402.694739   \n",
       "0      Linear Regression        0.790157       0.788541  28545.730163   \n",
       "1       Lasso Regression        0.790155       0.788504  28545.909094   \n",
       "6  K-Neighbors Regressor        0.813542       0.756590  26908.179126   \n",
       "8     AdaBoost Regressor        0.696756       0.539565  34315.490401   \n",
       "9                    SVR       -0.082592      -0.056906  64837.580849   \n",
       "\n",
       "      test_rmse   retraining  \n",
       "7  16888.046868  Overfitting  \n",
       "4  16994.627952  Overfitting  \n",
       "5  17003.176692     accepted  \n",
       "2  20724.457019     accepted  \n",
       "3  20875.483227  Overfitting  \n",
       "0  20880.372029     accepted  \n",
       "1  20882.200895     accepted  \n",
       "6  22402.422101     accepted  \n",
       "8  30811.271656  Overfitting  \n",
       "9  46681.402435     accepted  "
      ]
     },
     "execution_count": 155,
     "metadata": {},
     "output_type": "execute_result"
    }
   ],
   "source": [
    "report_mean"
   ]
  },
  {
   "cell_type": "markdown",
   "id": "40dd5f8e",
   "metadata": {},
   "source": [
    "### Hyperparameter tuning"
   ]
  },
  {
   "cell_type": "code",
   "execution_count": 156,
   "id": "c55ba120",
   "metadata": {},
   "outputs": [],
   "source": [
    "# splitting dataset into train and test\n",
    "X_train, X_test, y_train, y_test = train_test_split(X_mean,y,test_size=0.15,random_state=10)"
   ]
  },
  {
   "cell_type": "code",
   "execution_count": null,
   "id": "2f9c1cd8",
   "metadata": {},
   "outputs": [],
   "source": [
    "# Gradient Boosting"
   ]
  },
  {
   "cell_type": "code",
   "execution_count": 157,
   "id": "1d326d07",
   "metadata": {},
   "outputs": [
    {
     "data": {
      "text/plain": [
       "GridSearchCV(cv=5, estimator=GradientBoostingRegressor(),\n",
       "             param_grid={'learning_rate': [0.1, 0.5, 1],\n",
       "                         'max_depth': [2, 5, 10],\n",
       "                         'max_features': ['auto', 'sqrt', 'log2'],\n",
       "                         'n_estimators': [50, 75, 100],\n",
       "                         'random_state': [1, 5, 10]})"
      ]
     },
     "execution_count": 157,
     "metadata": {},
     "output_type": "execute_result"
    }
   ],
   "source": [
    "gb = GradientBoostingRegressor()\n",
    "grid_param_gb = {\n",
    "                    \"learning_rate\":[0.1,0.5,1],\n",
    "                    \"n_estimators\":[50,75,100],\n",
    "                    \"max_depth\":[2,5,10],\n",
    "                    \"random_state\":[1,5,10],\n",
    "                    \"max_features\":['auto', 'sqrt', 'log2']\n",
    "                }\n",
    "\n",
    "grid_search_gb=GridSearchCV(estimator=gb,param_grid=grid_param_gb,cv=5)\n",
    "grid_search_gb.fit(X_train,y_train)"
   ]
  },
  {
   "cell_type": "code",
   "execution_count": 159,
   "id": "468c4070",
   "metadata": {},
   "outputs": [
    {
     "data": {
      "text/plain": [
       "{'learning_rate': 0.1,\n",
       " 'max_depth': 5,\n",
       " 'max_features': 'sqrt',\n",
       " 'n_estimators': 100,\n",
       " 'random_state': 5}"
      ]
     },
     "execution_count": 159,
     "metadata": {},
     "output_type": "execute_result"
    }
   ],
   "source": [
    "grid_search_gb.best_params_"
   ]
  },
  {
   "cell_type": "code",
   "execution_count": 158,
   "id": "fbd8a7e8",
   "metadata": {},
   "outputs": [],
   "source": [
    "# RF"
   ]
  },
  {
   "cell_type": "code",
   "execution_count": 160,
   "id": "72355b9a",
   "metadata": {},
   "outputs": [
    {
     "data": {
      "text/plain": [
       "GridSearchCV(cv=5, estimator=RandomForestRegressor(),\n",
       "             param_grid={'max_depth': [5, 10, 15],\n",
       "                         'max_features': [0.25, 0.5, 0.75, 1],\n",
       "                         'max_samples': [0.1, 0.2, 0.5, 1],\n",
       "                         'n_estimators': [20, 40, 75, 100],\n",
       "                         'random_state': [1, 5, 10]})"
      ]
     },
     "execution_count": 160,
     "metadata": {},
     "output_type": "execute_result"
    }
   ],
   "source": [
    "rf = RandomForestRegressor()\n",
    "grid_param_rf = {\n",
    "                    \"n_estimators\":[20,40,75,100],\n",
    "                    \"random_state\":[1,5,10],\n",
    "                    \"max_samples\":[0.1,0.2,0.5,1],\n",
    "                    \"max_features\":[0.25,0.50,0.75,1],\n",
    "                    \"max_depth\":[5,10,15]\n",
    "                }\n",
    "grid_search_rf=GridSearchCV(estimator=rf,param_grid=grid_param_rf,cv=5)\n",
    "grid_search_rf.fit(X_train,y_train)"
   ]
  },
  {
   "cell_type": "code",
   "execution_count": 161,
   "id": "7ffcca14",
   "metadata": {},
   "outputs": [
    {
     "data": {
      "text/plain": [
       "{'max_depth': 15,\n",
       " 'max_features': 0.25,\n",
       " 'max_samples': 0.5,\n",
       " 'n_estimators': 75,\n",
       " 'random_state': 1}"
      ]
     },
     "execution_count": 161,
     "metadata": {},
     "output_type": "execute_result"
    }
   ],
   "source": [
    "grid_search_rf.best_params_"
   ]
  },
  {
   "cell_type": "code",
   "execution_count": 162,
   "id": "9c45428e",
   "metadata": {},
   "outputs": [],
   "source": [
    "# XGB"
   ]
  },
  {
   "cell_type": "code",
   "execution_count": 163,
   "id": "65145fd0",
   "metadata": {},
   "outputs": [
    {
     "data": {
      "text/plain": [
       "GridSearchCV(cv=5,\n",
       "             estimator=XGBRegressor(base_score=None, booster=None,\n",
       "                                    callbacks=None, colsample_bylevel=None,\n",
       "                                    colsample_bynode=None,\n",
       "                                    colsample_bytree=None,\n",
       "                                    early_stopping_rounds=None,\n",
       "                                    enable_categorical=False, eval_metric=None,\n",
       "                                    feature_types=None, gamma=None, gpu_id=None,\n",
       "                                    grow_policy=None, importance_type=None,\n",
       "                                    interaction_constraints=None,\n",
       "                                    learning_rate=None, max_bin=None,\n",
       "                                    max_cat_threshold=None,\n",
       "                                    max_cat_to_onehot=None, max_delta_step=None,\n",
       "                                    max_depth=None, max_leaves=None,\n",
       "                                    min_child_weight=None, missing=nan,\n",
       "                                    monotone_constraints=None, n_estimators=100,\n",
       "                                    n_jobs=None, num_parallel_tree=None,\n",
       "                                    predictor=None, random_state=None, ...),\n",
       "             param_grid={'max_depth': [2, 4, 10],\n",
       "                         'n_estimators': [30, 50, 75, 100]})"
      ]
     },
     "execution_count": 163,
     "metadata": {},
     "output_type": "execute_result"
    }
   ],
   "source": [
    "xgb = XGBRegressor()\n",
    "grid_param_xgb = {\n",
    "                    \"n_estimators\":[30,50,75,100],\n",
    "                    \"max_depth\":[2,4,10]\n",
    "                }\n",
    "grid_search_xgb=GridSearchCV(estimator=xgb,param_grid=grid_param_xgb,cv=5)\n",
    "grid_search_xgb.fit(X_train,y_train)"
   ]
  },
  {
   "cell_type": "code",
   "execution_count": 164,
   "id": "3fcaae5a",
   "metadata": {},
   "outputs": [
    {
     "data": {
      "text/plain": [
       "{'max_depth': 2, 'n_estimators': 75}"
      ]
     },
     "execution_count": 164,
     "metadata": {},
     "output_type": "execute_result"
    }
   ],
   "source": [
    "grid_search_xgb.best_params_"
   ]
  },
  {
   "cell_type": "code",
   "execution_count": 216,
   "id": "7705fcab",
   "metadata": {},
   "outputs": [],
   "source": [
    "# Dictionary which contains models for experiment\n",
    "models_new = {\n",
    "                \"Random Forest\": RandomForestRegressor(n_estimators = 15,\n",
    "                                                random_state = 1,\n",
    "                                                max_samples = 0.5,\n",
    "                                                max_features = 0.25,\n",
    "                                                max_depth =15),\n",
    "                \"Gradient Boosting\": GradientBoostingRegressor(learning_rate=0.1,\n",
    "                                                     max_depth=5,\n",
    "                                                     max_features='sqrt',\n",
    "                                                     n_estimators=100,\n",
    "                                                     random_state= 5 ),\n",
    "                \"XGBRegressor\": XGBRegressor(max_depth=2,\n",
    "                                       n_estimators=75)\n",
    "             }"
   ]
  },
  {
   "cell_type": "code",
   "execution_count": 217,
   "id": "9ac62663",
   "metadata": {},
   "outputs": [
    {
     "name": "stdout",
     "output_type": "stream",
     "text": [
      "Random Forest\n",
      "Model performance for Training set\n",
      "- Accuracy: 0.9159008437103681\n",
      "- RMSE: 18071.331153089093\n",
      "----------------------------------\n",
      "Model performance for Test set\n",
      "- Accuracy: 0.8996972452192962\n",
      "- RMSE: 14380.767048143623\n",
      "===================================\n",
      "\n",
      "\n",
      "Gradient Boosting\n",
      "Model performance for Training set\n",
      "- Accuracy: 0.9513080547771462\n",
      "- RMSE: 13750.639213636525\n",
      "----------------------------------\n",
      "Model performance for Test set\n",
      "- Accuracy: 0.8908273879613718\n",
      "- RMSE: 15003.150694720716\n",
      "===================================\n",
      "\n",
      "\n",
      "XGBRegressor\n",
      "Model performance for Training set\n",
      "- Accuracy: 0.8828263062080648\n",
      "- RMSE: 21330.910099067583\n",
      "----------------------------------\n",
      "Model performance for Test set\n",
      "- Accuracy: 0.8399949294569989\n",
      "- RMSE: 18163.20537442156\n",
      "===================================\n",
      "\n",
      "\n"
     ]
    }
   ],
   "source": [
    "report_mean_new = evaluate_models(X_mean, y, models_new)"
   ]
  },
  {
   "cell_type": "code",
   "execution_count": 218,
   "id": "c2f97904",
   "metadata": {},
   "outputs": [
    {
     "data": {
      "text/html": [
       "<div>\n",
       "<style scoped>\n",
       "    .dataframe tbody tr th:only-of-type {\n",
       "        vertical-align: middle;\n",
       "    }\n",
       "\n",
       "    .dataframe tbody tr th {\n",
       "        vertical-align: top;\n",
       "    }\n",
       "\n",
       "    .dataframe thead th {\n",
       "        text-align: right;\n",
       "    }\n",
       "</style>\n",
       "<table border=\"1\" class=\"dataframe\">\n",
       "  <thead>\n",
       "    <tr style=\"text-align: right;\">\n",
       "      <th></th>\n",
       "      <th>Model Name</th>\n",
       "      <th>train_accuracy</th>\n",
       "      <th>test_accuracy</th>\n",
       "      <th>train_rmse</th>\n",
       "      <th>test_rmse</th>\n",
       "      <th>retraining</th>\n",
       "    </tr>\n",
       "  </thead>\n",
       "  <tbody>\n",
       "    <tr>\n",
       "      <th>0</th>\n",
       "      <td>Random Forest</td>\n",
       "      <td>0.915901</td>\n",
       "      <td>0.899697</td>\n",
       "      <td>18071.331153</td>\n",
       "      <td>14380.767048</td>\n",
       "      <td>accepted</td>\n",
       "    </tr>\n",
       "    <tr>\n",
       "      <th>1</th>\n",
       "      <td>Gradient Boosting</td>\n",
       "      <td>0.951308</td>\n",
       "      <td>0.890827</td>\n",
       "      <td>13750.639214</td>\n",
       "      <td>15003.150695</td>\n",
       "      <td>accepted</td>\n",
       "    </tr>\n",
       "    <tr>\n",
       "      <th>2</th>\n",
       "      <td>XGBRegressor</td>\n",
       "      <td>0.882826</td>\n",
       "      <td>0.839995</td>\n",
       "      <td>21330.910099</td>\n",
       "      <td>18163.205374</td>\n",
       "      <td>accepted</td>\n",
       "    </tr>\n",
       "  </tbody>\n",
       "</table>\n",
       "</div>"
      ],
      "text/plain": [
       "          Model Name  train_accuracy  test_accuracy    train_rmse  \\\n",
       "0      Random Forest        0.915901       0.899697  18071.331153   \n",
       "1  Gradient Boosting        0.951308       0.890827  13750.639214   \n",
       "2       XGBRegressor        0.882826       0.839995  21330.910099   \n",
       "\n",
       "      test_rmse retraining  \n",
       "0  14380.767048   accepted  \n",
       "1  15003.150695   accepted  \n",
       "2  18163.205374   accepted  "
      ]
     },
     "execution_count": 218,
     "metadata": {},
     "output_type": "execute_result"
    }
   ],
   "source": [
    "report_mean_new"
   ]
  },
  {
   "cell_type": "markdown",
   "id": "17c5ace1",
   "metadata": {},
   "source": [
    "### Experiment: 6 = Principle component analysis with imputing median"
   ]
  },
  {
   "cell_type": "markdown",
   "id": "3effa356",
   "metadata": {},
   "source": [
    "- Principal component analysis is a technique for feature extraction — so it combines our input variables in a specific way, then we can drop the “least important” variables while still retaining the most valuable parts of all of the variables! \n",
    "- As the dataset has 164 columns we can try PCA and check our metrics Cost"
   ]
  },
  {
   "cell_type": "code",
   "execution_count": 168,
   "id": "88081dd6",
   "metadata": {},
   "outputs": [],
   "source": [
    "pca_pipeline = Pipeline(steps=[\n",
    "    ('Imputer', SimpleImputer(strategy='median', fill_value=np.median)),\n",
    "    ('RobustScaler', RobustScaler())\n",
    "])"
   ]
  },
  {
   "cell_type": "code",
   "execution_count": 169,
   "id": "1b759bbe",
   "metadata": {},
   "outputs": [],
   "source": [
    "X_pca = pca_pipeline.fit_transform(X)"
   ]
  },
  {
   "cell_type": "code",
   "execution_count": 170,
   "id": "2b8e7ca3",
   "metadata": {},
   "outputs": [],
   "source": [
    "#Applying PCA\n",
    "var_ratio={}\n",
    "for n in range(2,44):\n",
    "    pc=PCA(n_components=n)\n",
    "    df_pca=pc.fit(X_pca)\n",
    "    var_ratio[n]=sum(df_pca.explained_variance_ratio_)"
   ]
  },
  {
   "cell_type": "code",
   "execution_count": 171,
   "id": "23413656",
   "metadata": {},
   "outputs": [
    {
     "data": {
      "text/plain": [
       "<AxesSubplot:>"
      ]
     },
     "execution_count": 171,
     "metadata": {},
     "output_type": "execute_result"
    },
    {
     "data": {
      "image/png": "[encoded data removed]",
      "text/plain": [
       "<Figure size 432x288 with 1 Axes>"
      ]
     },
     "metadata": {
      "needs_background": "light"
     },
     "output_type": "display_data"
    }
   ],
   "source": [
    "# plotting variance ratio\n",
    "pd.Series(var_ratio).plot()"
   ]
  },
  {
   "cell_type": "code",
   "execution_count": 172,
   "id": "86db8a0e",
   "metadata": {},
   "outputs": [
    {
     "data": {
      "text/plain": [
       "<Figure size 360x360 with 0 Axes>"
      ]
     },
     "metadata": {},
     "output_type": "display_data"
    },
    {
     "data": {
      "image/png": "[encoded data removed]",
      "text/plain": [
       "<Figure size 432x432 with 1 Axes>"
      ]
     },
     "metadata": {
      "needs_background": "light"
     },
     "output_type": "display_data"
    },
    {
     "name": "stdout",
     "output_type": "stream",
     "text": [
      "Knee Locator k = 7\n"
     ]
    }
   ],
   "source": [
    "\n",
    "i = np.arange(len(var_ratio))\n",
    "variance_ratio= list(var_ratio.values())\n",
    "components=  list(var_ratio.keys())\n",
    "knee = KneeLocator(i, variance_ratio, S=1, curve='concave', interp_method='polynomial')\n",
    "\n",
    "fig = plt.figure(figsize=(5, 5))\n",
    "knee.plot_knee()\n",
    "plt.xlabel(\"Points\")\n",
    "plt.ylabel(\"Distance\")\n",
    "plt.show()\n",
    "k= components[knee.knee]\n",
    "print('Knee Locator k =', k)"
   ]
  },
  {
   "cell_type": "code",
   "execution_count": 173,
   "id": "d46b7401",
   "metadata": {},
   "outputs": [],
   "source": [
    "# Reducing the dimensions of the data \n",
    "pca_final=PCA(n_components=7,random_state=42).fit(X_pca)\n",
    "\n",
    "reduced=pca_final.fit_transform(X_pca)"
   ]
  },
  {
   "cell_type": "code",
   "execution_count": 174,
   "id": "552692e5",
   "metadata": {},
   "outputs": [
    {
     "name": "stdout",
     "output_type": "stream",
     "text": [
      "Linear Regression\n",
      "Model performance for Training set\n",
      "- Accuracy: 0.7897526923879298\n",
      "- RMSE: 28573.243774145565\n",
      "----------------------------------\n",
      "Model performance for Test set\n",
      "- Accuracy: 0.7859191015570722\n",
      "- RMSE: 21009.445010884745\n",
      "===================================\n",
      "\n",
      "\n",
      "Lasso Regression\n",
      "Model performance for Training set\n",
      "- Accuracy: 0.7897499851109545\n",
      "- RMSE: 28573.427737110036\n",
      "----------------------------------\n",
      "Model performance for Test set\n",
      "- Accuracy: 0.785815502090015\n",
      "- RMSE: 21014.527911930676\n",
      "===================================\n",
      "\n",
      "\n",
      "Ridge Regression\n",
      "Model performance for Training set\n",
      "- Accuracy: 0.7893045565410771\n",
      "- RMSE: 28603.679071980023\n",
      "----------------------------------\n",
      "Model performance for Test set\n",
      "- Accuracy: 0.7884229097385996\n",
      "- RMSE: 20886.22445569303\n",
      "===================================\n",
      "\n",
      "\n",
      "Decision Tree\n",
      "Model performance for Training set\n",
      "- Accuracy: 0.9890930247487971\n",
      "- RMSE: 6507.984182892419\n",
      "----------------------------------\n",
      "Model performance for Test set\n",
      "- Accuracy: 0.7890813635248684\n",
      "- RMSE: 20853.698887369726\n",
      "===================================\n",
      "\n",
      "\n",
      "Random Forest\n",
      "Model performance for Training set\n",
      "- Accuracy: 0.9616630750633515\n",
      "- RMSE: 12201.21169002683\n",
      "----------------------------------\n",
      "Model performance for Test set\n",
      "- Accuracy: 0.8433252263231887\n",
      "- RMSE: 17973.18972762386\n",
      "===================================\n",
      "\n",
      "\n",
      "Gradient Boosting\n",
      "Model performance for Training set\n",
      "- Accuracy: 0.9048358026405303\n",
      "- RMSE: 19223.44057104972\n",
      "----------------------------------\n",
      "Model performance for Test set\n",
      "- Accuracy: 0.8589503177985681\n",
      "- RMSE: 17053.42740525881\n",
      "===================================\n",
      "\n",
      "\n",
      "K-Neighbors Regressor\n",
      "Model performance for Training set\n",
      "- Accuracy: 0.8150886545867084\n",
      "- RMSE: 26796.378535870033\n",
      "----------------------------------\n",
      "Model performance for Test set\n",
      "- Accuracy: 0.7799091439567177\n",
      "- RMSE: 21302.306084731335\n",
      "===================================\n",
      "\n",
      "\n",
      "XGBRegressor\n",
      "Model performance for Training set\n",
      "- Accuracy: 0.9864887746841251\n",
      "- RMSE: 7243.3870632515\n",
      "----------------------------------\n",
      "Model performance for Test set\n",
      "- Accuracy: 0.8774047801492417\n",
      "- RMSE: 15898.728359833518\n",
      "===================================\n",
      "\n",
      "\n",
      "AdaBoost Regressor\n",
      "Model performance for Training set\n",
      "- Accuracy: 0.6963627015015043\n",
      "- RMSE: 34337.753947879595\n",
      "----------------------------------\n",
      "Model performance for Test set\n",
      "- Accuracy: 0.5222177935431296\n",
      "- RMSE: 31386.335059446308\n",
      "===================================\n",
      "\n",
      "\n",
      "SVR\n",
      "Model performance for Training set\n",
      "- Accuracy: -0.0825851466465628\n",
      "- RMSE: 64837.36503624813\n",
      "----------------------------------\n",
      "Model performance for Test set\n",
      "- Accuracy: -0.056900143539012404\n",
      "- RMSE: 46681.26316303965\n",
      "===================================\n",
      "\n",
      "\n"
     ]
    }
   ],
   "source": [
    "# Training all models\n",
    "report_pca = evaluate_models(X_pca,y, models)"
   ]
  },
  {
   "cell_type": "markdown",
   "id": "24ec4be0",
   "metadata": {},
   "source": [
    "### Report for PCA and Mean imputed data"
   ]
  },
  {
   "cell_type": "code",
   "execution_count": 175,
   "id": "4e6e1d7b",
   "metadata": {},
   "outputs": [
    {
     "data": {
      "text/html": [
       "<div>\n",
       "<style scoped>\n",
       "    .dataframe tbody tr th:only-of-type {\n",
       "        vertical-align: middle;\n",
       "    }\n",
       "\n",
       "    .dataframe tbody tr th {\n",
       "        vertical-align: top;\n",
       "    }\n",
       "\n",
       "    .dataframe thead th {\n",
       "        text-align: right;\n",
       "    }\n",
       "</style>\n",
       "<table border=\"1\" class=\"dataframe\">\n",
       "  <thead>\n",
       "    <tr style=\"text-align: right;\">\n",
       "      <th></th>\n",
       "      <th>Model Name</th>\n",
       "      <th>train_accuracy</th>\n",
       "      <th>test_accuracy</th>\n",
       "      <th>train_rmse</th>\n",
       "      <th>test_rmse</th>\n",
       "      <th>retraining</th>\n",
       "    </tr>\n",
       "  </thead>\n",
       "  <tbody>\n",
       "    <tr>\n",
       "      <th>7</th>\n",
       "      <td>XGBRegressor</td>\n",
       "      <td>0.986489</td>\n",
       "      <td>0.877405</td>\n",
       "      <td>7243.387063</td>\n",
       "      <td>15898.728360</td>\n",
       "      <td>Overfitting</td>\n",
       "    </tr>\n",
       "    <tr>\n",
       "      <th>5</th>\n",
       "      <td>Gradient Boosting</td>\n",
       "      <td>0.904836</td>\n",
       "      <td>0.858950</td>\n",
       "      <td>19223.440571</td>\n",
       "      <td>17053.427405</td>\n",
       "      <td>accepted</td>\n",
       "    </tr>\n",
       "    <tr>\n",
       "      <th>4</th>\n",
       "      <td>Random Forest</td>\n",
       "      <td>0.961663</td>\n",
       "      <td>0.843325</td>\n",
       "      <td>12201.211690</td>\n",
       "      <td>17973.189728</td>\n",
       "      <td>Overfitting</td>\n",
       "    </tr>\n",
       "    <tr>\n",
       "      <th>3</th>\n",
       "      <td>Decision Tree</td>\n",
       "      <td>0.989093</td>\n",
       "      <td>0.789081</td>\n",
       "      <td>6507.984183</td>\n",
       "      <td>20853.698887</td>\n",
       "      <td>Overfitting</td>\n",
       "    </tr>\n",
       "    <tr>\n",
       "      <th>2</th>\n",
       "      <td>Ridge Regression</td>\n",
       "      <td>0.789305</td>\n",
       "      <td>0.788423</td>\n",
       "      <td>28603.679072</td>\n",
       "      <td>20886.224456</td>\n",
       "      <td>accepted</td>\n",
       "    </tr>\n",
       "    <tr>\n",
       "      <th>0</th>\n",
       "      <td>Linear Regression</td>\n",
       "      <td>0.789753</td>\n",
       "      <td>0.785919</td>\n",
       "      <td>28573.243774</td>\n",
       "      <td>21009.445011</td>\n",
       "      <td>accepted</td>\n",
       "    </tr>\n",
       "    <tr>\n",
       "      <th>1</th>\n",
       "      <td>Lasso Regression</td>\n",
       "      <td>0.789750</td>\n",
       "      <td>0.785816</td>\n",
       "      <td>28573.427737</td>\n",
       "      <td>21014.527912</td>\n",
       "      <td>accepted</td>\n",
       "    </tr>\n",
       "    <tr>\n",
       "      <th>6</th>\n",
       "      <td>K-Neighbors Regressor</td>\n",
       "      <td>0.815089</td>\n",
       "      <td>0.779909</td>\n",
       "      <td>26796.378536</td>\n",
       "      <td>21302.306085</td>\n",
       "      <td>accepted</td>\n",
       "    </tr>\n",
       "    <tr>\n",
       "      <th>8</th>\n",
       "      <td>AdaBoost Regressor</td>\n",
       "      <td>0.696363</td>\n",
       "      <td>0.522218</td>\n",
       "      <td>34337.753948</td>\n",
       "      <td>31386.335059</td>\n",
       "      <td>Overfitting</td>\n",
       "    </tr>\n",
       "    <tr>\n",
       "      <th>9</th>\n",
       "      <td>SVR</td>\n",
       "      <td>-0.082585</td>\n",
       "      <td>-0.056900</td>\n",
       "      <td>64837.365036</td>\n",
       "      <td>46681.263163</td>\n",
       "      <td>accepted</td>\n",
       "    </tr>\n",
       "  </tbody>\n",
       "</table>\n",
       "</div>"
      ],
      "text/plain": [
       "              Model Name  train_accuracy  test_accuracy    train_rmse  \\\n",
       "7           XGBRegressor        0.986489       0.877405   7243.387063   \n",
       "5      Gradient Boosting        0.904836       0.858950  19223.440571   \n",
       "4          Random Forest        0.961663       0.843325  12201.211690   \n",
       "3          Decision Tree        0.989093       0.789081   6507.984183   \n",
       "2       Ridge Regression        0.789305       0.788423  28603.679072   \n",
       "0      Linear Regression        0.789753       0.785919  28573.243774   \n",
       "1       Lasso Regression        0.789750       0.785816  28573.427737   \n",
       "6  K-Neighbors Regressor        0.815089       0.779909  26796.378536   \n",
       "8     AdaBoost Regressor        0.696363       0.522218  34337.753948   \n",
       "9                    SVR       -0.082585      -0.056900  64837.365036   \n",
       "\n",
       "      test_rmse   retraining  \n",
       "7  15898.728360  Overfitting  \n",
       "5  17053.427405     accepted  \n",
       "4  17973.189728  Overfitting  \n",
       "3  20853.698887  Overfitting  \n",
       "2  20886.224456     accepted  \n",
       "0  21009.445011     accepted  \n",
       "1  21014.527912     accepted  \n",
       "6  21302.306085     accepted  \n",
       "8  31386.335059  Overfitting  \n",
       "9  46681.263163     accepted  "
      ]
     },
     "execution_count": 175,
     "metadata": {},
     "output_type": "execute_result"
    }
   ],
   "source": [
    "report_pca"
   ]
  },
  {
   "cell_type": "markdown",
   "id": "29bc6331",
   "metadata": {},
   "source": [
    "### Hyperparameter tuning"
   ]
  },
  {
   "cell_type": "code",
   "execution_count": 176,
   "id": "92d80db6",
   "metadata": {},
   "outputs": [],
   "source": [
    "# splitting dataset into train and test\n",
    "X_train, X_test, y_train, y_test = train_test_split(X_pca,y,test_size=0.15,random_state=10)"
   ]
  },
  {
   "cell_type": "code",
   "execution_count": 177,
   "id": "5241bd50",
   "metadata": {},
   "outputs": [],
   "source": [
    "# Gradient Boosting"
   ]
  },
  {
   "cell_type": "code",
   "execution_count": 178,
   "id": "528e8243",
   "metadata": {},
   "outputs": [
    {
     "data": {
      "text/plain": [
       "GridSearchCV(cv=5, estimator=GradientBoostingRegressor(),\n",
       "             param_grid={'learning_rate': [0.1, 0.5, 1],\n",
       "                         'max_depth': [2, 5, 10],\n",
       "                         'max_features': ['auto', 'sqrt', 'log2'],\n",
       "                         'n_estimators': [50, 75, 100],\n",
       "                         'random_state': [1, 5, 10]})"
      ]
     },
     "execution_count": 178,
     "metadata": {},
     "output_type": "execute_result"
    }
   ],
   "source": [
    "gb = GradientBoostingRegressor()\n",
    "grid_param_gb = {\n",
    "                    \"learning_rate\":[0.1,0.5,1],\n",
    "                    \"n_estimators\":[50,75,100],\n",
    "                    \"max_depth\":[2,5,10],\n",
    "                    \"random_state\":[1,5,10],\n",
    "                    \"max_features\":['auto', 'sqrt', 'log2']\n",
    "                }\n",
    "\n",
    "grid_search_gb=GridSearchCV(estimator=gb,param_grid=grid_param_gb,cv=5)\n",
    "grid_search_gb.fit(X_train,y_train)"
   ]
  },
  {
   "cell_type": "code",
   "execution_count": 179,
   "id": "e093cf33",
   "metadata": {},
   "outputs": [
    {
     "data": {
      "text/plain": [
       "{'learning_rate': 0.1,\n",
       " 'max_depth': 5,\n",
       " 'max_features': 'log2',\n",
       " 'n_estimators': 100,\n",
       " 'random_state': 10}"
      ]
     },
     "execution_count": 179,
     "metadata": {},
     "output_type": "execute_result"
    }
   ],
   "source": [
    "grid_search_gb.best_params_"
   ]
  },
  {
   "cell_type": "code",
   "execution_count": 180,
   "id": "abdef615",
   "metadata": {},
   "outputs": [],
   "source": [
    "# RF"
   ]
  },
  {
   "cell_type": "code",
   "execution_count": 181,
   "id": "ae29f53b",
   "metadata": {},
   "outputs": [
    {
     "data": {
      "text/plain": [
       "GridSearchCV(cv=5, estimator=RandomForestRegressor(),\n",
       "             param_grid={'max_depth': [5, 10, 15],\n",
       "                         'max_features': [0.25, 0.5, 0.75, 1],\n",
       "                         'max_samples': [0.1, 0.2, 0.5, 1],\n",
       "                         'n_estimators': [20, 40, 75, 100],\n",
       "                         'random_state': [1, 5, 10]})"
      ]
     },
     "execution_count": 181,
     "metadata": {},
     "output_type": "execute_result"
    }
   ],
   "source": [
    "rf = RandomForestRegressor()\n",
    "grid_param_rf = {\n",
    "                    \"n_estimators\":[20,40,75,100],\n",
    "                    \"random_state\":[1,5,10],\n",
    "                    \"max_samples\":[0.1,0.2,0.5,1],\n",
    "                    \"max_features\":[0.25,0.50,0.75,1],\n",
    "                    \"max_depth\":[5,10,15]\n",
    "                }\n",
    "grid_search_rf=GridSearchCV(estimator=rf,param_grid=grid_param_rf,cv=5)\n",
    "grid_search_rf.fit(X_train,y_train)"
   ]
  },
  {
   "cell_type": "code",
   "execution_count": 182,
   "id": "cdb45b66",
   "metadata": {},
   "outputs": [
    {
     "data": {
      "text/plain": [
       "{'max_depth': 15,\n",
       " 'max_features': 0.75,\n",
       " 'max_samples': 0.5,\n",
       " 'n_estimators': 20,\n",
       " 'random_state': 5}"
      ]
     },
     "execution_count": 182,
     "metadata": {},
     "output_type": "execute_result"
    }
   ],
   "source": [
    "grid_search_rf.best_params_"
   ]
  },
  {
   "cell_type": "code",
   "execution_count": 183,
   "id": "cc22eac6",
   "metadata": {},
   "outputs": [],
   "source": [
    "# XGB"
   ]
  },
  {
   "cell_type": "code",
   "execution_count": 184,
   "id": "29e8f7f1",
   "metadata": {},
   "outputs": [
    {
     "data": {
      "text/plain": [
       "GridSearchCV(cv=5,\n",
       "             estimator=XGBRegressor(base_score=None, booster=None,\n",
       "                                    callbacks=None, colsample_bylevel=None,\n",
       "                                    colsample_bynode=None,\n",
       "                                    colsample_bytree=None,\n",
       "                                    early_stopping_rounds=None,\n",
       "                                    enable_categorical=False, eval_metric=None,\n",
       "                                    feature_types=None, gamma=None, gpu_id=None,\n",
       "                                    grow_policy=None, importance_type=None,\n",
       "                                    interaction_constraints=None,\n",
       "                                    learning_rate=None, max_bin=None,\n",
       "                                    max_cat_threshold=None,\n",
       "                                    max_cat_to_onehot=None, max_delta_step=None,\n",
       "                                    max_depth=None, max_leaves=None,\n",
       "                                    min_child_weight=None, missing=nan,\n",
       "                                    monotone_constraints=None, n_estimators=100,\n",
       "                                    n_jobs=None, num_parallel_tree=None,\n",
       "                                    predictor=None, random_state=None, ...),\n",
       "             param_grid={'max_depth': [2, 4, 10],\n",
       "                         'n_estimators': [30, 50, 75, 100]})"
      ]
     },
     "execution_count": 184,
     "metadata": {},
     "output_type": "execute_result"
    }
   ],
   "source": [
    "xgb = XGBRegressor()\n",
    "grid_param_xgb = {\n",
    "                    \"n_estimators\":[30,50,75,100],\n",
    "                    \"max_depth\":[2,4,10]\n",
    "                }\n",
    "grid_search_xgb=GridSearchCV(estimator=xgb,param_grid=grid_param_xgb,cv=5)\n",
    "grid_search_xgb.fit(X_train,y_train)"
   ]
  },
  {
   "cell_type": "code",
   "execution_count": 185,
   "id": "fee923e2",
   "metadata": {},
   "outputs": [
    {
     "data": {
      "text/plain": [
       "{'max_depth': 2, 'n_estimators': 75}"
      ]
     },
     "execution_count": 185,
     "metadata": {},
     "output_type": "execute_result"
    }
   ],
   "source": [
    "grid_search_xgb.best_params_"
   ]
  },
  {
   "cell_type": "code",
   "execution_count": 186,
   "id": "76564414",
   "metadata": {},
   "outputs": [],
   "source": [
    "# Dictionary which contains models for experiment\n",
    "models_new = {\n",
    "                \"Random Forest\": RandomForestRegressor(n_estimators = 20,\n",
    "                                                random_state = 5,\n",
    "                                                max_samples = 0.5,\n",
    "                                                max_features = 0.75,\n",
    "                                                max_depth =15),\n",
    "                \"Gradient Boosting\": GradientBoostingRegressor(learning_rate=0.1,\n",
    "                                                     max_depth=5,\n",
    "                                                     max_features='log2',\n",
    "                                                     n_estimators=100,\n",
    "                                                     random_state= 10 ),\n",
    "                \"XGBRegressor\": XGBRegressor(max_depth=2,\n",
    "                                       n_estimators=75)\n",
    "             }"
   ]
  },
  {
   "cell_type": "code",
   "execution_count": 187,
   "id": "3c416cab",
   "metadata": {},
   "outputs": [
    {
     "name": "stdout",
     "output_type": "stream",
     "text": [
      "Random Forest\n",
      "Model performance for Training set\n",
      "- Accuracy: 0.909549441183816\n",
      "- RMSE: 18741.310331597277\n",
      "----------------------------------\n",
      "Model performance for Test set\n",
      "- Accuracy: 0.8445217157551723\n",
      "- RMSE: 17904.42962902975\n",
      "===================================\n",
      "\n",
      "\n",
      "Gradient Boosting\n",
      "Model performance for Training set\n",
      "- Accuracy: 0.9443276018618366\n",
      "- RMSE: 14703.282093301372\n",
      "----------------------------------\n",
      "Model performance for Test set\n",
      "- Accuracy: 0.8845526339012396\n",
      "- RMSE: 15428.284379277711\n",
      "===================================\n",
      "\n",
      "\n",
      "XGBRegressor\n",
      "Model performance for Training set\n",
      "- Accuracy: 0.8821101284566252\n",
      "- RMSE: 21395.999158631283\n",
      "----------------------------------\n",
      "Model performance for Test set\n",
      "- Accuracy: 0.8487630021761299\n",
      "- RMSE: 17658.533949175093\n",
      "===================================\n",
      "\n",
      "\n"
     ]
    }
   ],
   "source": [
    "report_pca_new = evaluate_models(X_pca, y, models_new)"
   ]
  },
  {
   "cell_type": "code",
   "execution_count": 188,
   "id": "3c42f979",
   "metadata": {},
   "outputs": [
    {
     "data": {
      "text/html": [
       "<div>\n",
       "<style scoped>\n",
       "    .dataframe tbody tr th:only-of-type {\n",
       "        vertical-align: middle;\n",
       "    }\n",
       "\n",
       "    .dataframe tbody tr th {\n",
       "        vertical-align: top;\n",
       "    }\n",
       "\n",
       "    .dataframe thead th {\n",
       "        text-align: right;\n",
       "    }\n",
       "</style>\n",
       "<table border=\"1\" class=\"dataframe\">\n",
       "  <thead>\n",
       "    <tr style=\"text-align: right;\">\n",
       "      <th></th>\n",
       "      <th>Model Name</th>\n",
       "      <th>train_accuracy</th>\n",
       "      <th>test_accuracy</th>\n",
       "      <th>train_rmse</th>\n",
       "      <th>test_rmse</th>\n",
       "      <th>retraining</th>\n",
       "    </tr>\n",
       "  </thead>\n",
       "  <tbody>\n",
       "    <tr>\n",
       "      <th>1</th>\n",
       "      <td>Gradient Boosting</td>\n",
       "      <td>0.944328</td>\n",
       "      <td>0.884553</td>\n",
       "      <td>14703.282093</td>\n",
       "      <td>15428.284379</td>\n",
       "      <td>accepted</td>\n",
       "    </tr>\n",
       "    <tr>\n",
       "      <th>2</th>\n",
       "      <td>XGBRegressor</td>\n",
       "      <td>0.882110</td>\n",
       "      <td>0.848763</td>\n",
       "      <td>21395.999159</td>\n",
       "      <td>17658.533949</td>\n",
       "      <td>accepted</td>\n",
       "    </tr>\n",
       "    <tr>\n",
       "      <th>0</th>\n",
       "      <td>Random Forest</td>\n",
       "      <td>0.909549</td>\n",
       "      <td>0.844522</td>\n",
       "      <td>18741.310332</td>\n",
       "      <td>17904.429629</td>\n",
       "      <td>accepted</td>\n",
       "    </tr>\n",
       "  </tbody>\n",
       "</table>\n",
       "</div>"
      ],
      "text/plain": [
       "          Model Name  train_accuracy  test_accuracy    train_rmse  \\\n",
       "1  Gradient Boosting        0.944328       0.884553  14703.282093   \n",
       "2       XGBRegressor        0.882110       0.848763  21395.999159   \n",
       "0      Random Forest        0.909549       0.844522  18741.310332   \n",
       "\n",
       "      test_rmse retraining  \n",
       "1  15428.284379   accepted  \n",
       "2  17658.533949   accepted  \n",
       "0  17904.429629   accepted  "
      ]
     },
     "execution_count": 188,
     "metadata": {},
     "output_type": "execute_result"
    }
   ],
   "source": [
    "report_pca_new"
   ]
  },
  {
   "cell_type": "code",
   "execution_count": null,
   "id": "8aa91dce",
   "metadata": {},
   "outputs": [],
   "source": []
  }
 ],
 "metadata": {
  "kernelspec": {
   "display_name": "Python 3 (ipykernel)",
   "language": "python",
   "name": "python3"
  },
  "language_info": {
   "codemirror_mode": {
    "name": "ipython",
    "version": 3
   },
   "file_extension": ".py",
   "mimetype": "text/x-python",
   "name": "python",
   "nbconvert_exporter": "python",
   "pygments_lexer": "ipython3",
   "version": "3.9.12"
  },
  "vscode": {
   "interpreter": {
    "hash": "b962e8d4314148b39f3e0193c2981739a3b76c8cc15f8b0c9b04d48481a26909"
   }
  }
 },
 "nbformat": 4,
 "nbformat_minor": 5
}
