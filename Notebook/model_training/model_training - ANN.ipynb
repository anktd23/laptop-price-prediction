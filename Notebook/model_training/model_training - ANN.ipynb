{
 "cells": [
  {
   "cell_type": "markdown",
   "id": "5490313b",
   "metadata": {},
   "source": [
    "## Model training and Evaluation"
   ]
  },
  {
   "cell_type": "code",
   "execution_count": 1,
   "id": "d9c9cb37",
   "metadata": {},
   "outputs": [],
   "source": [
    "# import necessory packages\n",
    "import pandas as pd\n",
    "import numpy as np\n",
    "import tensorflow\n",
    "import keras_tuner\n",
    "from keras.models import Sequential\n",
    "from keras.layers import Dense\n",
    "from sklearn.model_selection import train_test_split\n",
    "from sklearn.preprocessing import StandardScaler\n",
    "from sklearn.metrics import mean_squared_error, mean_absolute_error, r2_score\n",
    "\n",
    "import warnings\n",
    "warnings.filterwarnings(\"ignore\")\n",
    "%matplotlib inline"
   ]
  },
  {
   "cell_type": "code",
   "execution_count": 2,
   "id": "784d86c1",
   "metadata": {},
   "outputs": [],
   "source": [
    "# import cleaned data\n",
    "data = pd.read_csv('cleaned_data.csv')"
   ]
  },
  {
   "cell_type": "code",
   "execution_count": 3,
   "id": "8de923e5",
   "metadata": {},
   "outputs": [],
   "source": [
    "df = data.copy()"
   ]
  },
  {
   "cell_type": "code",
   "execution_count": 4,
   "id": "61270bb2",
   "metadata": {},
   "outputs": [],
   "source": [
    "#pd.set_option('display.max_columns',None)\n",
    "#pd.set_option('display.max_rows',None)"
   ]
  },
  {
   "cell_type": "code",
   "execution_count": 5,
   "id": "e34c4246",
   "metadata": {},
   "outputs": [
    {
     "data": {
      "text/html": [
       "<div>\n",
       "<style scoped>\n",
       "    .dataframe tbody tr th:only-of-type {\n",
       "        vertical-align: middle;\n",
       "    }\n",
       "\n",
       "    .dataframe tbody tr th {\n",
       "        vertical-align: top;\n",
       "    }\n",
       "\n",
       "    .dataframe thead th {\n",
       "        text-align: right;\n",
       "    }\n",
       "</style>\n",
       "<table border=\"1\" class=\"dataframe\">\n",
       "  <thead>\n",
       "    <tr style=\"text-align: right;\">\n",
       "      <th></th>\n",
       "      <th>brand_names</th>\n",
       "      <th>price</th>\n",
       "      <th>score</th>\n",
       "      <th>processor brand</th>\n",
       "      <th>processor type</th>\n",
       "      <th>processor gen</th>\n",
       "      <th>type of core</th>\n",
       "      <th>no of threads</th>\n",
       "      <th>Ram</th>\n",
       "      <th>ram type</th>\n",
       "      <th>storage type</th>\n",
       "      <th>storage capacity</th>\n",
       "      <th>ppi</th>\n",
       "      <th>OS</th>\n",
       "      <th>Warranty</th>\n",
       "    </tr>\n",
       "  </thead>\n",
       "  <tbody>\n",
       "    <tr>\n",
       "      <th>0</th>\n",
       "      <td>others</td>\n",
       "      <td>84490</td>\n",
       "      <td>65.0</td>\n",
       "      <td>Intel</td>\n",
       "      <td>i9</td>\n",
       "      <td>12.0</td>\n",
       "      <td>14.0</td>\n",
       "      <td>32.0</td>\n",
       "      <td>32</td>\n",
       "      <td>lpddr5</td>\n",
       "      <td>SSD</td>\n",
       "      <td>1024.0</td>\n",
       "      <td>NaN</td>\n",
       "      <td>Windows 11</td>\n",
       "      <td>NaN</td>\n",
       "    </tr>\n",
       "  </tbody>\n",
       "</table>\n",
       "</div>"
      ],
      "text/plain": [
       "  brand_names  price  score processor brand processor type  processor gen  \\\n",
       "0      others  84490   65.0           Intel             i9           12.0   \n",
       "\n",
       "   type of core  no of threads  Ram ram type storage type  storage capacity  \\\n",
       "0          14.0           32.0   32   lpddr5          SSD            1024.0   \n",
       "\n",
       "   ppi          OS  Warranty  \n",
       "0  NaN  Windows 11       NaN  "
      ]
     },
     "execution_count": 5,
     "metadata": {},
     "output_type": "execute_result"
    }
   ],
   "source": [
    "df.head(1)"
   ]
  },
  {
   "cell_type": "code",
   "execution_count": 6,
   "id": "a91fe534",
   "metadata": {},
   "outputs": [
    {
     "data": {
      "text/plain": [
       "(1016, 15)"
      ]
     },
     "execution_count": 6,
     "metadata": {},
     "output_type": "execute_result"
    }
   ],
   "source": [
    "# checking shape of dataset\n",
    "df.shape"
   ]
  },
  {
   "cell_type": "code",
   "execution_count": 7,
   "id": "3cc10eb0",
   "metadata": {},
   "outputs": [],
   "source": [
    "# Encoding\n",
    "df = pd.get_dummies(df, columns = ['brand_names', 'processor brand', 'processor type','ram type', 'storage type', 'OS'],drop_first=True)\n"
   ]
  },
  {
   "cell_type": "code",
   "execution_count": 8,
   "id": "4c547478",
   "metadata": {},
   "outputs": [
    {
     "data": {
      "text/html": [
       "<div>\n",
       "<style scoped>\n",
       "    .dataframe tbody tr th:only-of-type {\n",
       "        vertical-align: middle;\n",
       "    }\n",
       "\n",
       "    .dataframe tbody tr th {\n",
       "        vertical-align: top;\n",
       "    }\n",
       "\n",
       "    .dataframe thead th {\n",
       "        text-align: right;\n",
       "    }\n",
       "</style>\n",
       "<table border=\"1\" class=\"dataframe\">\n",
       "  <thead>\n",
       "    <tr style=\"text-align: right;\">\n",
       "      <th></th>\n",
       "      <th>price</th>\n",
       "      <th>score</th>\n",
       "      <th>processor gen</th>\n",
       "      <th>type of core</th>\n",
       "      <th>no of threads</th>\n",
       "      <th>Ram</th>\n",
       "      <th>storage capacity</th>\n",
       "      <th>ppi</th>\n",
       "      <th>Warranty</th>\n",
       "      <th>brand_names_apple</th>\n",
       "      <th>...</th>\n",
       "      <th>ram type_lpddr5</th>\n",
       "      <th>ram type_ram</th>\n",
       "      <th>ram type_unified</th>\n",
       "      <th>storage type_SSD</th>\n",
       "      <th>OS_DOS</th>\n",
       "      <th>OS_Mac</th>\n",
       "      <th>OS_Windows</th>\n",
       "      <th>OS_Windows 10</th>\n",
       "      <th>OS_Windows 11</th>\n",
       "      <th>OS_others</th>\n",
       "    </tr>\n",
       "  </thead>\n",
       "  <tbody>\n",
       "    <tr>\n",
       "      <th>0</th>\n",
       "      <td>84490</td>\n",
       "      <td>65.0</td>\n",
       "      <td>12.0</td>\n",
       "      <td>14.0</td>\n",
       "      <td>32.0</td>\n",
       "      <td>32</td>\n",
       "      <td>1024.0</td>\n",
       "      <td>NaN</td>\n",
       "      <td>NaN</td>\n",
       "      <td>0</td>\n",
       "      <td>...</td>\n",
       "      <td>1</td>\n",
       "      <td>0</td>\n",
       "      <td>0</td>\n",
       "      <td>1</td>\n",
       "      <td>0</td>\n",
       "      <td>0</td>\n",
       "      <td>0</td>\n",
       "      <td>0</td>\n",
       "      <td>1</td>\n",
       "      <td>0</td>\n",
       "    </tr>\n",
       "  </tbody>\n",
       "</table>\n",
       "<p>1 rows × 44 columns</p>\n",
       "</div>"
      ],
      "text/plain": [
       "   price  score  processor gen  type of core  no of threads  Ram  \\\n",
       "0  84490   65.0           12.0          14.0           32.0   32   \n",
       "\n",
       "   storage capacity  ppi  Warranty  brand_names_apple  ...  ram type_lpddr5  \\\n",
       "0            1024.0  NaN       NaN                  0  ...                1   \n",
       "\n",
       "   ram type_ram  ram type_unified  storage type_SSD  OS_DOS  OS_Mac  \\\n",
       "0             0                 0                 1       0       0   \n",
       "\n",
       "   OS_Windows  OS_Windows 10  OS_Windows 11  OS_others  \n",
       "0           0              0              1          0  \n",
       "\n",
       "[1 rows x 44 columns]"
      ]
     },
     "execution_count": 8,
     "metadata": {},
     "output_type": "execute_result"
    }
   ],
   "source": [
    "df.head(1)"
   ]
  },
  {
   "cell_type": "code",
   "execution_count": 9,
   "id": "47ee28ce",
   "metadata": {},
   "outputs": [],
   "source": [
    "df.fillna(0,inplace=True)"
   ]
  },
  {
   "cell_type": "code",
   "execution_count": 10,
   "id": "95f779c1",
   "metadata": {},
   "outputs": [],
   "source": [
    "# Splitting X and y for all Experiments\n",
    "X= df.drop('price', axis=1)\n",
    "y = df['price']"
   ]
  },
  {
   "cell_type": "code",
   "execution_count": 11,
   "id": "806e2ba4",
   "metadata": {},
   "outputs": [],
   "source": [
    "\n",
    "# Split the dataset into training and test sets\n",
    "X_train, X_test, y_train, y_test = train_test_split(X, y, test_size=0.2, random_state=42)"
   ]
  },
  {
   "cell_type": "code",
   "execution_count": 12,
   "id": "8d675e95",
   "metadata": {},
   "outputs": [
    {
     "data": {
      "text/plain": [
       "(812, 43)"
      ]
     },
     "execution_count": 12,
     "metadata": {},
     "output_type": "execute_result"
    }
   ],
   "source": [
    "X_train.shape"
   ]
  },
  {
   "cell_type": "code",
   "execution_count": 13,
   "id": "be632f1d",
   "metadata": {},
   "outputs": [],
   "source": [
    "# Scale the data\n",
    "scaler = StandardScaler()\n",
    "X_train = scaler.fit_transform(X_train)\n",
    "X_test = scaler.transform(X_test)"
   ]
  },
  {
   "cell_type": "code",
   "execution_count": 14,
   "id": "ac738717",
   "metadata": {},
   "outputs": [],
   "source": [
    "# model training\n",
    "regressor=Sequential()\n",
    "\n",
    "regressor.add(Dense(units=128,activation='relu',input_dim= 43))\n",
    "\n",
    "regressor.add(Dense(units=128,activation='relu'))\n",
    "\n",
    "regressor.add(Dense(units=64,activation='relu'))\n",
    " \n",
    "regressor.add(Dense(units=1,activation = 'linear'))\n"
   ]
  },
  {
   "cell_type": "code",
   "execution_count": 15,
   "id": "acb3142b",
   "metadata": {},
   "outputs": [],
   "source": [
    "# Compile the model\n",
    "regressor.compile(loss='mean_squared_error', optimizer='adam')"
   ]
  },
  {
   "cell_type": "code",
   "execution_count": 16,
   "id": "1fb76ef6",
   "metadata": {},
   "outputs": [
    {
     "name": "stdout",
     "output_type": "stream",
     "text": [
      "Epoch 1/100\n",
      "21/21 [==============================] - 2s 18ms/step - loss: 10770046976.0000 - val_loss: 8451402752.0000\n",
      "Epoch 2/100\n",
      "21/21 [==============================] - 0s 5ms/step - loss: 10765648896.0000 - val_loss: 8443726336.0000\n",
      "Epoch 3/100\n",
      "21/21 [==============================] - 0s 5ms/step - loss: 10745909248.0000 - val_loss: 8414517760.0000\n",
      "Epoch 4/100\n",
      "21/21 [==============================] - 0s 6ms/step - loss: 10678270976.0000 - val_loss: 8327322624.0000\n",
      "Epoch 5/100\n",
      "21/21 [==============================] - 0s 5ms/step - loss: 10480132096.0000 - val_loss: 8109327360.0000\n",
      "Epoch 6/100\n",
      "21/21 [==============================] - 0s 5ms/step - loss: 10058860544.0000 - val_loss: 7648606208.0000\n",
      "Epoch 7/100\n",
      "21/21 [==============================] - 0s 5ms/step - loss: 9203578880.0000 - val_loss: 6856557056.0000\n",
      "Epoch 8/100\n",
      "21/21 [==============================] - 0s 5ms/step - loss: 7865483264.0000 - val_loss: 5659500544.0000\n",
      "Epoch 9/100\n",
      "21/21 [==============================] - 0s 6ms/step - loss: 5933947904.0000 - val_loss: 4223793920.0000\n",
      "Epoch 10/100\n",
      "21/21 [==============================] - 0s 5ms/step - loss: 3864487680.0000 - val_loss: 2914896640.0000\n",
      "Epoch 11/100\n",
      "21/21 [==============================] - 0s 6ms/step - loss: 2350110464.0000 - val_loss: 2180900864.0000\n",
      "Epoch 12/100\n",
      "21/21 [==============================] - 0s 5ms/step - loss: 1673991040.0000 - val_loss: 1936948992.0000\n",
      "Epoch 13/100\n",
      "21/21 [==============================] - 0s 5ms/step - loss: 1428958208.0000 - val_loss: 1790235264.0000\n",
      "Epoch 14/100\n",
      "21/21 [==============================] - 0s 6ms/step - loss: 1250656128.0000 - val_loss: 1665924864.0000\n",
      "Epoch 15/100\n",
      "21/21 [==============================] - 0s 6ms/step - loss: 1095298432.0000 - val_loss: 1565556992.0000\n",
      "Epoch 16/100\n",
      "21/21 [==============================] - 0s 5ms/step - loss: 985632384.0000 - val_loss: 1478582400.0000\n",
      "Epoch 17/100\n",
      "21/21 [==============================] - 0s 6ms/step - loss: 882724608.0000 - val_loss: 1428910720.0000\n",
      "Epoch 18/100\n",
      "21/21 [==============================] - 0s 5ms/step - loss: 814062336.0000 - val_loss: 1383919232.0000\n",
      "Epoch 19/100\n",
      "21/21 [==============================] - 0s 6ms/step - loss: 759756416.0000 - val_loss: 1349467008.0000\n",
      "Epoch 20/100\n",
      "21/21 [==============================] - 0s 5ms/step - loss: 722914112.0000 - val_loss: 1332742016.0000\n",
      "Epoch 21/100\n",
      "21/21 [==============================] - 0s 5ms/step - loss: 696249792.0000 - val_loss: 1318260224.0000\n",
      "Epoch 22/100\n",
      "21/21 [==============================] - 0s 5ms/step - loss: 677727616.0000 - val_loss: 1308344064.0000\n",
      "Epoch 23/100\n",
      "21/21 [==============================] - 0s 5ms/step - loss: 655504512.0000 - val_loss: 1318584320.0000\n",
      "Epoch 24/100\n",
      "21/21 [==============================] - 0s 5ms/step - loss: 646225216.0000 - val_loss: 1305948288.0000\n",
      "Epoch 25/100\n",
      "21/21 [==============================] - 0s 6ms/step - loss: 636936256.0000 - val_loss: 1289304960.0000\n",
      "Epoch 26/100\n",
      "21/21 [==============================] - 0s 5ms/step - loss: 622906816.0000 - val_loss: 1286774272.0000\n",
      "Epoch 27/100\n",
      "21/21 [==============================] - 0s 6ms/step - loss: 617065792.0000 - val_loss: 1285986176.0000\n",
      "Epoch 28/100\n",
      "21/21 [==============================] - 0s 5ms/step - loss: 606071744.0000 - val_loss: 1292854656.0000\n",
      "Epoch 29/100\n",
      "21/21 [==============================] - 0s 5ms/step - loss: 597735552.0000 - val_loss: 1285924096.0000\n",
      "Epoch 30/100\n",
      "21/21 [==============================] - 0s 6ms/step - loss: 592174080.0000 - val_loss: 1281335680.0000\n",
      "Epoch 31/100\n",
      "21/21 [==============================] - 0s 5ms/step - loss: 587431104.0000 - val_loss: 1283546368.0000\n",
      "Epoch 32/100\n",
      "21/21 [==============================] - 0s 5ms/step - loss: 578899520.0000 - val_loss: 1280820736.0000\n",
      "Epoch 33/100\n",
      "21/21 [==============================] - 0s 6ms/step - loss: 573880000.0000 - val_loss: 1276153472.0000\n",
      "Epoch 34/100\n",
      "21/21 [==============================] - 0s 6ms/step - loss: 570701312.0000 - val_loss: 1277202816.0000\n",
      "Epoch 35/100\n",
      "21/21 [==============================] - 0s 6ms/step - loss: 566635840.0000 - val_loss: 1277235584.0000\n",
      "Epoch 36/100\n",
      "21/21 [==============================] - 0s 5ms/step - loss: 563827392.0000 - val_loss: 1273525888.0000\n",
      "Epoch 37/100\n",
      "21/21 [==============================] - 0s 5ms/step - loss: 557230336.0000 - val_loss: 1267523328.0000\n",
      "Epoch 38/100\n",
      "21/21 [==============================] - 0s 6ms/step - loss: 549290816.0000 - val_loss: 1275756672.0000\n",
      "Epoch 39/100\n",
      "21/21 [==============================] - 0s 5ms/step - loss: 550448768.0000 - val_loss: 1282219776.0000\n",
      "Epoch 40/100\n",
      "21/21 [==============================] - 0s 5ms/step - loss: 543293440.0000 - val_loss: 1265665792.0000\n",
      "Epoch 41/100\n",
      "21/21 [==============================] - 0s 6ms/step - loss: 542560640.0000 - val_loss: 1296549248.0000\n",
      "Epoch 42/100\n",
      "21/21 [==============================] - 0s 5ms/step - loss: 540845312.0000 - val_loss: 1279637376.0000\n",
      "Epoch 43/100\n",
      "21/21 [==============================] - 0s 5ms/step - loss: 538975104.0000 - val_loss: 1288634112.0000\n",
      "Epoch 44/100\n",
      "21/21 [==============================] - 0s 6ms/step - loss: 527556064.0000 - val_loss: 1278603776.0000\n",
      "Epoch 45/100\n",
      "21/21 [==============================] - 0s 6ms/step - loss: 525027232.0000 - val_loss: 1282702080.0000\n",
      "Epoch 46/100\n",
      "21/21 [==============================] - 0s 5ms/step - loss: 521295456.0000 - val_loss: 1279433600.0000\n",
      "Epoch 47/100\n",
      "21/21 [==============================] - 0s 6ms/step - loss: 518022048.0000 - val_loss: 1283665152.0000\n",
      "Epoch 48/100\n",
      "21/21 [==============================] - 0s 5ms/step - loss: 518878048.0000 - val_loss: 1273242496.0000\n",
      "Epoch 49/100\n",
      "21/21 [==============================] - 0s 5ms/step - loss: 518332192.0000 - val_loss: 1283372288.0000\n",
      "Epoch 50/100\n",
      "21/21 [==============================] - 0s 5ms/step - loss: 508438784.0000 - val_loss: 1270336128.0000\n",
      "Epoch 51/100\n",
      "21/21 [==============================] - 0s 6ms/step - loss: 509428352.0000 - val_loss: 1274905344.0000\n",
      "Epoch 52/100\n",
      "21/21 [==============================] - 0s 5ms/step - loss: 509524576.0000 - val_loss: 1272061824.0000\n",
      "Epoch 53/100\n",
      "21/21 [==============================] - 0s 5ms/step - loss: 501741440.0000 - val_loss: 1278713856.0000\n",
      "Epoch 54/100\n",
      "21/21 [==============================] - 0s 5ms/step - loss: 501765376.0000 - val_loss: 1280592128.0000\n",
      "Epoch 55/100\n",
      "21/21 [==============================] - 0s 5ms/step - loss: 499808992.0000 - val_loss: 1270844032.0000\n",
      "Epoch 56/100\n",
      "21/21 [==============================] - 0s 5ms/step - loss: 496591168.0000 - val_loss: 1280778240.0000\n",
      "Epoch 57/100\n",
      "21/21 [==============================] - 0s 5ms/step - loss: 494019872.0000 - val_loss: 1274638976.0000\n",
      "Epoch 58/100\n",
      "21/21 [==============================] - 0s 6ms/step - loss: 491153856.0000 - val_loss: 1273476992.0000\n",
      "Epoch 59/100\n",
      "21/21 [==============================] - 0s 5ms/step - loss: 489734976.0000 - val_loss: 1274592128.0000\n",
      "Epoch 60/100\n",
      "21/21 [==============================] - 0s 5ms/step - loss: 487364320.0000 - val_loss: 1274285952.0000\n",
      "Epoch 61/100\n",
      "21/21 [==============================] - 0s 6ms/step - loss: 487405536.0000 - val_loss: 1276591616.0000\n",
      "Epoch 62/100\n",
      "21/21 [==============================] - 0s 5ms/step - loss: 487542208.0000 - val_loss: 1269198464.0000\n",
      "Epoch 63/100\n",
      "21/21 [==============================] - 0s 6ms/step - loss: 481594080.0000 - val_loss: 1274627584.0000\n",
      "Epoch 64/100\n",
      "21/21 [==============================] - 0s 5ms/step - loss: 478843680.0000 - val_loss: 1275708416.0000\n",
      "Epoch 65/100\n",
      "21/21 [==============================] - 0s 5ms/step - loss: 478311616.0000 - val_loss: 1275148672.0000\n",
      "Epoch 66/100\n",
      "21/21 [==============================] - 0s 6ms/step - loss: 473321728.0000 - val_loss: 1265536512.0000\n",
      "Epoch 67/100\n",
      "21/21 [==============================] - 0s 6ms/step - loss: 476730176.0000 - val_loss: 1275592064.0000\n",
      "Epoch 68/100\n",
      "21/21 [==============================] - 0s 5ms/step - loss: 471964480.0000 - val_loss: 1269512576.0000\n",
      "Epoch 69/100\n",
      "21/21 [==============================] - 0s 6ms/step - loss: 468909184.0000 - val_loss: 1275248512.0000\n",
      "Epoch 70/100\n",
      "21/21 [==============================] - 0s 6ms/step - loss: 467798048.0000 - val_loss: 1278383744.0000\n"
     ]
    },
    {
     "name": "stdout",
     "output_type": "stream",
     "text": [
      "Epoch 71/100\n",
      "21/21 [==============================] - 0s 5ms/step - loss: 466135104.0000 - val_loss: 1276610688.0000\n",
      "Epoch 72/100\n",
      "21/21 [==============================] - 0s 5ms/step - loss: 463710528.0000 - val_loss: 1271776896.0000\n",
      "Epoch 73/100\n",
      "21/21 [==============================] - 0s 5ms/step - loss: 464511328.0000 - val_loss: 1271462016.0000\n",
      "Epoch 74/100\n",
      "21/21 [==============================] - 0s 5ms/step - loss: 461185152.0000 - val_loss: 1269666560.0000\n",
      "Epoch 75/100\n",
      "21/21 [==============================] - 0s 4ms/step - loss: 461040256.0000 - val_loss: 1267544320.0000\n",
      "Epoch 76/100\n",
      "21/21 [==============================] - 0s 6ms/step - loss: 462829824.0000 - val_loss: 1257484800.0000\n",
      "Epoch 77/100\n",
      "21/21 [==============================] - 0s 4ms/step - loss: 454986496.0000 - val_loss: 1268821504.0000\n",
      "Epoch 78/100\n",
      "21/21 [==============================] - 0s 5ms/step - loss: 452899488.0000 - val_loss: 1269438976.0000\n",
      "Epoch 79/100\n",
      "21/21 [==============================] - 0s 5ms/step - loss: 453235328.0000 - val_loss: 1260772224.0000\n",
      "Epoch 80/100\n",
      "21/21 [==============================] - 0s 6ms/step - loss: 450540800.0000 - val_loss: 1271631104.0000\n",
      "Epoch 81/100\n",
      "21/21 [==============================] - 0s 5ms/step - loss: 449779008.0000 - val_loss: 1269413376.0000\n",
      "Epoch 82/100\n",
      "21/21 [==============================] - 0s 5ms/step - loss: 448712416.0000 - val_loss: 1262736640.0000\n",
      "Epoch 83/100\n",
      "21/21 [==============================] - 0s 5ms/step - loss: 446416544.0000 - val_loss: 1259257856.0000\n",
      "Epoch 84/100\n",
      "21/21 [==============================] - 0s 5ms/step - loss: 450875968.0000 - val_loss: 1272301184.0000\n",
      "Epoch 85/100\n",
      "21/21 [==============================] - 0s 5ms/step - loss: 446596384.0000 - val_loss: 1255292288.0000\n",
      "Epoch 86/100\n",
      "21/21 [==============================] - 0s 6ms/step - loss: 446391040.0000 - val_loss: 1269122816.0000\n",
      "Epoch 87/100\n",
      "21/21 [==============================] - 0s 5ms/step - loss: 440896672.0000 - val_loss: 1260221440.0000\n",
      "Epoch 88/100\n",
      "21/21 [==============================] - 0s 5ms/step - loss: 443749312.0000 - val_loss: 1282427392.0000\n",
      "Epoch 89/100\n",
      "21/21 [==============================] - 0s 5ms/step - loss: 437457632.0000 - val_loss: 1260778752.0000\n",
      "Epoch 90/100\n",
      "21/21 [==============================] - 0s 5ms/step - loss: 433646496.0000 - val_loss: 1262458624.0000\n",
      "Epoch 91/100\n",
      "21/21 [==============================] - 0s 5ms/step - loss: 439056832.0000 - val_loss: 1268964480.0000\n",
      "Epoch 92/100\n",
      "21/21 [==============================] - 0s 5ms/step - loss: 434967648.0000 - val_loss: 1258177536.0000\n",
      "Epoch 93/100\n",
      "21/21 [==============================] - 0s 5ms/step - loss: 429433984.0000 - val_loss: 1261092608.0000\n",
      "Epoch 94/100\n",
      "21/21 [==============================] - 0s 5ms/step - loss: 428299232.0000 - val_loss: 1258911232.0000\n",
      "Epoch 95/100\n",
      "21/21 [==============================] - 0s 5ms/step - loss: 430658656.0000 - val_loss: 1267537664.0000\n",
      "Epoch 96/100\n",
      "21/21 [==============================] - 0s 6ms/step - loss: 428519520.0000 - val_loss: 1261928704.0000\n",
      "Epoch 97/100\n",
      "21/21 [==============================] - 0s 6ms/step - loss: 426919520.0000 - val_loss: 1272460800.0000\n",
      "Epoch 98/100\n",
      "21/21 [==============================] - 0s 5ms/step - loss: 422459232.0000 - val_loss: 1266272896.0000\n",
      "Epoch 99/100\n",
      "21/21 [==============================] - 0s 5ms/step - loss: 424271840.0000 - val_loss: 1269717376.0000\n",
      "Epoch 100/100\n",
      "21/21 [==============================] - 0s 6ms/step - loss: 419882016.0000 - val_loss: 1261942272.0000\n"
     ]
    }
   ],
   "source": [
    "# Train the model\n",
    "model_history=regressor.fit(X_train,y_train,epochs=100,validation_split=0.2,batch_size = 32)"
   ]
  },
  {
   "cell_type": "code",
   "execution_count": 17,
   "id": "411f52a4",
   "metadata": {},
   "outputs": [
    {
     "name": "stdout",
     "output_type": "stream",
     "text": [
      "Model: \"sequential\"\n",
      "_________________________________________________________________\n",
      " Layer (type)                Output Shape              Param #   \n",
      "=================================================================\n",
      " dense (Dense)               (None, 128)               5632      \n",
      "                                                                 \n",
      " dense_1 (Dense)             (None, 128)               16512     \n",
      "                                                                 \n",
      " dense_2 (Dense)             (None, 64)                8256      \n",
      "                                                                 \n",
      " dense_3 (Dense)             (None, 1)                 65        \n",
      "                                                                 \n",
      "=================================================================\n",
      "Total params: 30,465\n",
      "Trainable params: 30,465\n",
      "Non-trainable params: 0\n",
      "_________________________________________________________________\n"
     ]
    }
   ],
   "source": [
    "regressor.summary()"
   ]
  },
  {
   "cell_type": "code",
   "execution_count": 18,
   "id": "a81cb375",
   "metadata": {},
   "outputs": [
    {
     "name": "stdout",
     "output_type": "stream",
     "text": [
      "7/7 [==============================] - 0s 2ms/step\n"
     ]
    }
   ],
   "source": [
    "# Predict the test set\n",
    "y_pred = regressor.predict(X_test)"
   ]
  },
  {
   "cell_type": "code",
   "execution_count": 19,
   "id": "a1bf1931",
   "metadata": {},
   "outputs": [
    {
     "name": "stdout",
     "output_type": "stream",
     "text": [
      "RMSE:  25859.21191965068\n",
      "R2:  0.7778273981745054\n"
     ]
    }
   ],
   "source": [
    "# Calculate the metrics\n",
    "rmse = np.sqrt(mean_squared_error(y_test, y_pred))\n",
    "\n",
    "r2 = r2_score(y_test, y_pred)\n",
    "\n",
    "# Print the metrics\n",
    "print(\"RMSE: \", rmse)\n",
    "print(\"R2: \", r2)"
   ]
  },
  {
   "cell_type": "code",
   "execution_count": null,
   "id": "939f79f2",
   "metadata": {},
   "outputs": [],
   "source": []
  }
 ],
 "metadata": {
  "kernelspec": {
   "display_name": "Python 3 (ipykernel)",
   "language": "python",
   "name": "python3"
  },
  "language_info": {
   "codemirror_mode": {
    "name": "ipython",
    "version": 3
   },
   "file_extension": ".py",
   "mimetype": "text/x-python",
   "name": "python",
   "nbconvert_exporter": "python",
   "pygments_lexer": "ipython3",
   "version": "3.7.16"
  },
  "vscode": {
   "interpreter": {
    "hash": "b962e8d4314148b39f3e0193c2981739a3b76c8cc15f8b0c9b04d48481a26909"
   }
  }
 },
 "nbformat": 4,
 "nbformat_minor": 5
}
