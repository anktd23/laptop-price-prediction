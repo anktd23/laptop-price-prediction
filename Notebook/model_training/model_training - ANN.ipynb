{
 "cells": [
  {
   "cell_type": "markdown",
   "id": "5490313b",
   "metadata": {},
   "source": [
    "## Model training and Evaluation"
   ]
  },
  {
   "cell_type": "code",
   "execution_count": 1,
   "id": "d9c9cb37",
   "metadata": {},
   "outputs": [],
   "source": [
    "# import necessory packages\n",
    "import pandas as pd\n",
    "import numpy as np\n",
    "import os\n",
    "import time\n",
    "from sklearn.pipeline import Pipeline\n",
    "from sklearn.impute import SimpleImputer\n",
    "from sklearn.preprocessing import OneHotEncoder,RobustScaler\n",
    "from sklearn.compose import ColumnTransformer\n",
    "from keras.models import Sequential\n",
    "from keras.layers import Dense\n",
    "from sklearn.model_selection import train_test_split\n",
    "from sklearn.metrics import mean_squared_error, r2_score\n",
    "\n",
    "import warnings\n",
    "warnings.filterwarnings(\"ignore\")\n",
    "%matplotlib inline"
   ]
  },
  {
   "cell_type": "code",
   "execution_count": 2,
   "id": "784d86c1",
   "metadata": {},
   "outputs": [],
   "source": [
    "# import cleaned data\n",
    "data = pd.read_csv('cleaned_data.csv')"
   ]
  },
  {
   "cell_type": "code",
   "execution_count": 3,
   "id": "8de923e5",
   "metadata": {},
   "outputs": [],
   "source": [
    "df = data.copy()"
   ]
  },
  {
   "cell_type": "code",
   "execution_count": 4,
   "id": "61270bb2",
   "metadata": {},
   "outputs": [],
   "source": [
    "#pd.set_option('display.max_columns',None)\n",
    "#pd.set_option('display.max_rows',None)"
   ]
  },
  {
   "cell_type": "code",
   "execution_count": 5,
   "id": "a91fe534",
   "metadata": {},
   "outputs": [
    {
     "data": {
      "text/plain": [
       "(1016, 15)"
      ]
     },
     "execution_count": 5,
     "metadata": {},
     "output_type": "execute_result"
    }
   ],
   "source": [
    "# checking shape of dataset\n",
    "df.shape"
   ]
  },
  {
   "cell_type": "code",
   "execution_count": 6,
   "id": "9f544d4c",
   "metadata": {},
   "outputs": [
    {
     "data": {
      "text/plain": [
       "brand_names           0\n",
       "price                 0\n",
       "score               420\n",
       "processor brand       0\n",
       "processor type        4\n",
       "processor gen       101\n",
       "type of core         23\n",
       "no of threads         0\n",
       "Ram                   0\n",
       "ram type              1\n",
       "storage type          0\n",
       "storage capacity      8\n",
       "ppi                  34\n",
       "OS                    0\n",
       "Warranty             86\n",
       "dtype: int64"
      ]
     },
     "execution_count": 6,
     "metadata": {},
     "output_type": "execute_result"
    }
   ],
   "source": [
    "df.isnull().sum()"
   ]
  },
  {
   "cell_type": "code",
   "execution_count": 7,
   "id": "a9f27082",
   "metadata": {},
   "outputs": [
    {
     "name": "stdout",
     "output_type": "stream",
     "text": [
      "<class 'pandas.core.frame.DataFrame'>\n",
      "RangeIndex: 1016 entries, 0 to 1015\n",
      "Data columns (total 15 columns):\n",
      " #   Column            Non-Null Count  Dtype  \n",
      "---  ------            --------------  -----  \n",
      " 0   brand_names       1016 non-null   object \n",
      " 1   price             1016 non-null   int64  \n",
      " 2   score             596 non-null    float64\n",
      " 3   processor brand   1016 non-null   object \n",
      " 4   processor type    1012 non-null   object \n",
      " 5   processor gen     915 non-null    float64\n",
      " 6   type of core      993 non-null    float64\n",
      " 7   no of threads     1016 non-null   float64\n",
      " 8   Ram               1016 non-null   int64  \n",
      " 9   ram type          1015 non-null   object \n",
      " 10  storage type      1016 non-null   object \n",
      " 11  storage capacity  1008 non-null   float64\n",
      " 12  ppi               982 non-null    float64\n",
      " 13  OS                1016 non-null   object \n",
      " 14  Warranty          930 non-null    float64\n",
      "dtypes: float64(7), int64(2), object(6)\n",
      "memory usage: 119.2+ KB\n"
     ]
    }
   ],
   "source": [
    "df.info()"
   ]
  },
  {
   "cell_type": "code",
   "execution_count": 8,
   "id": "456443ee",
   "metadata": {},
   "outputs": [],
   "source": [
    "num_col = [col for col in df if df[col].dtypes!='O']\n",
    "cat_col = [col for col in df if df[col].dtypes=='O']"
   ]
  },
  {
   "cell_type": "code",
   "execution_count": 9,
   "id": "8846ac9b",
   "metadata": {},
   "outputs": [
    {
     "data": {
      "text/plain": [
       "['price',\n",
       " 'score',\n",
       " 'processor gen',\n",
       " 'type of core',\n",
       " 'no of threads',\n",
       " 'Ram',\n",
       " 'storage capacity',\n",
       " 'ppi',\n",
       " 'Warranty']"
      ]
     },
     "execution_count": 9,
     "metadata": {},
     "output_type": "execute_result"
    }
   ],
   "source": [
    "num_col"
   ]
  },
  {
   "cell_type": "code",
   "execution_count": 10,
   "id": "3a029401",
   "metadata": {},
   "outputs": [
    {
     "data": {
      "text/plain": [
       "['score',\n",
       " 'processor gen',\n",
       " 'type of core',\n",
       " 'no of threads',\n",
       " 'Ram',\n",
       " 'storage capacity',\n",
       " 'ppi',\n",
       " 'Warranty']"
      ]
     },
     "execution_count": 10,
     "metadata": {},
     "output_type": "execute_result"
    }
   ],
   "source": [
    "num_col[1:]"
   ]
  },
  {
   "cell_type": "code",
   "execution_count": 11,
   "id": "b927d68a",
   "metadata": {},
   "outputs": [
    {
     "data": {
      "text/plain": [
       "['brand_names',\n",
       " 'processor brand',\n",
       " 'processor type',\n",
       " 'ram type',\n",
       " 'storage type',\n",
       " 'OS']"
      ]
     },
     "execution_count": 11,
     "metadata": {},
     "output_type": "execute_result"
    }
   ],
   "source": [
    "cat_col"
   ]
  },
  {
   "cell_type": "code",
   "execution_count": 12,
   "id": "8d675e95",
   "metadata": {},
   "outputs": [],
   "source": [
    "X = df.drop('price',axis=1)\n",
    "y = df['price']"
   ]
  },
  {
   "cell_type": "code",
   "execution_count": 13,
   "id": "8e37e2b0",
   "metadata": {},
   "outputs": [],
   "source": [
    "numeric_preprocessor = Pipeline(steps=[\n",
    "                                        (\"scaler\", RobustScaler()),\n",
    "                                        (\"imputation_mean\",SimpleImputer(missing_values=np.nan, strategy=\"mean\"))\n",
    "                                      ])\n",
    "\n",
    "categorical_preprocessor = Pipeline(steps=[\n",
    "                                            (\"imputer\",SimpleImputer(strategy=\"constant\")),\n",
    "                                            (\"encoder\", OneHotEncoder(sparse=False,drop='first',handle_unknown=\"ignore\")),\n",
    "                                        ])\n",
    "\n",
    "preprocessor = ColumnTransformer([\n",
    "                                    (\"categorical\", categorical_preprocessor, cat_col),\n",
    "                                    (\"numerical\", numeric_preprocessor,  num_col[1:]),\n",
    "                                ])"
   ]
  },
  {
   "cell_type": "code",
   "execution_count": 14,
   "id": "13fce4be",
   "metadata": {},
   "outputs": [],
   "source": [
    "# Split the dataset into training and test sets\n",
    "X_train, X_test, y_train, y_test = train_test_split(X, y, test_size=0.20, random_state = 10)"
   ]
  },
  {
   "cell_type": "code",
   "execution_count": 15,
   "id": "f6366689",
   "metadata": {},
   "outputs": [
    {
     "data": {
      "text/plain": [
       "(812, 14)"
      ]
     },
     "execution_count": 15,
     "metadata": {},
     "output_type": "execute_result"
    }
   ],
   "source": [
    "X_train.shape"
   ]
  },
  {
   "cell_type": "code",
   "execution_count": 16,
   "id": "3aa551cd",
   "metadata": {},
   "outputs": [],
   "source": [
    "# Transformed the preprocessed data\n",
    "X_train = preprocessor.fit_transform(X_train)\n",
    "X_test = preprocessor.transform(X_test)"
   ]
  },
  {
   "cell_type": "code",
   "execution_count": 17,
   "id": "99c437b1",
   "metadata": {},
   "outputs": [
    {
     "data": {
      "text/plain": [
       "(812, 44)"
      ]
     },
     "execution_count": 17,
     "metadata": {},
     "output_type": "execute_result"
    }
   ],
   "source": [
    "X_train.shape"
   ]
  },
  {
   "cell_type": "code",
   "execution_count": 18,
   "id": "ac738717",
   "metadata": {},
   "outputs": [],
   "source": [
    "# model training\n",
    "model = Sequential([\n",
    "                    Dense(256,kernel_initializer = 'he_uniform',activation='relu',input_dim = 44),\n",
    "                    Dense(128,kernel_initializer = 'he_uniform',activation='relu'),\n",
    "                    Dense(128,kernel_initializer = 'he_uniform',activation='relu'),\n",
    "                    Dense(96,kernel_initializer = 'he_uniform',activation='relu'),\n",
    "                    Dense(1,activation = 'linear')\n",
    "                    ])"
   ]
  },
  {
   "cell_type": "code",
   "execution_count": 19,
   "id": "bcfd9179",
   "metadata": {},
   "outputs": [],
   "source": [
    "# Compile the model\n",
    "model.compile(loss='mean_squared_error', optimizer='adam')"
   ]
  },
  {
   "cell_type": "code",
   "execution_count": 20,
   "id": "53ab2fbf",
   "metadata": {},
   "outputs": [],
   "source": [
    "# Combine the preprocessor and model into a single pipeline\n",
    "regressor = Pipeline(steps=[('model', model)])"
   ]
  },
  {
   "cell_type": "code",
   "execution_count": 29,
   "id": "cc64e8a6",
   "metadata": {},
   "outputs": [],
   "source": [
    "# Fit the pipeline to the training data\n",
    "model_history = regressor.fit(X_train, y_train, model__epochs=500, model__batch_size=32,model__validation_split=0.15,model__verbose=0)"
   ]
  },
  {
   "cell_type": "code",
   "execution_count": 30,
   "id": "d850517c",
   "metadata": {},
   "outputs": [
    {
     "name": "stdout",
     "output_type": "stream",
     "text": [
      "Model: \"sequential\"\n",
      "_________________________________________________________________\n",
      " Layer (type)                Output Shape              Param #   \n",
      "=================================================================\n",
      " dense (Dense)               (None, 256)               11520     \n",
      "                                                                 \n",
      " dense_1 (Dense)             (None, 128)               32896     \n",
      "                                                                 \n",
      " dense_2 (Dense)             (None, 128)               16512     \n",
      "                                                                 \n",
      " dense_3 (Dense)             (None, 96)                12384     \n",
      "                                                                 \n",
      " dense_4 (Dense)             (None, 1)                 97        \n",
      "                                                                 \n",
      "=================================================================\n",
      "Total params: 73,409\n",
      "Trainable params: 73,409\n",
      "Non-trainable params: 0\n",
      "_________________________________________________________________\n"
     ]
    }
   ],
   "source": [
    "model.summary()"
   ]
  },
  {
   "cell_type": "code",
   "execution_count": 31,
   "id": "51a452c0",
   "metadata": {},
   "outputs": [
    {
     "name": "stdout",
     "output_type": "stream",
     "text": [
      "7/7 [==============================] - 0s 4ms/step - loss: 500195168.0000\n"
     ]
    },
    {
     "data": {
      "text/plain": [
       "500195168.0"
      ]
     },
     "execution_count": 31,
     "metadata": {},
     "output_type": "execute_result"
    }
   ],
   "source": [
    "# Evaluate the model on the test data\n",
    "loss= model.evaluate(X_test, y_test)\n",
    "loss"
   ]
  },
  {
   "cell_type": "code",
   "execution_count": 32,
   "id": "056a3163",
   "metadata": {},
   "outputs": [
    {
     "name": "stdout",
     "output_type": "stream",
     "text": [
      "26/26 [==============================] - 0s 2ms/step\n",
      "7/7 [==============================] - 0s 2ms/step\n"
     ]
    }
   ],
   "source": [
    "# Make predictions on the test data\n",
    "y_pred_train = model.predict(X_train)\n",
    "y_pred_test = model.predict(X_test)"
   ]
  },
  {
   "cell_type": "code",
   "execution_count": 33,
   "id": "1fab1d0f",
   "metadata": {},
   "outputs": [
    {
     "name": "stdout",
     "output_type": "stream",
     "text": [
      "RMSE_train:  24131.024769798823\n",
      "R2_train:  0.8479778688933461\n",
      "**************************\n",
      "RMSE_test:  22365.044196159924\n",
      "R2_test:  0.8175589933275735\n"
     ]
    }
   ],
   "source": [
    "# Calculate the metrics\n",
    "rmse_train = np.sqrt(mean_squared_error(y_train, y_pred_train))\n",
    "rmse_test = np.sqrt(mean_squared_error(y_test, y_pred_test))\n",
    "\n",
    "r2_train = r2_score(y_train, y_pred_train)\n",
    "r2_test = r2_score(y_test, y_pred_test)\n",
    "\n",
    "# Print the metrics\n",
    "print(\"RMSE_train: \", rmse_train)\n",
    "print(\"R2_train: \", r2_train)\n",
    "print('**************************')\n",
    "print(\"RMSE_test: \", rmse_test)\n",
    "print(\"R2_test: \", r2_test)"
   ]
  },
  {
   "cell_type": "code",
   "execution_count": 34,
   "id": "9e5f6730",
   "metadata": {},
   "outputs": [
    {
     "data": {
      "text/plain": [
       "array([[ 48620.605],\n",
       "       [ 74108.97 ],\n",
       "       [ 55578.715],\n",
       "       [233764.84 ],\n",
       "       [ 98010.234],\n",
       "       [ 18446.457]], dtype=float32)"
      ]
     },
     "execution_count": 34,
     "metadata": {},
     "output_type": "execute_result"
    }
   ],
   "source": [
    "y_pred_test[0:6]"
   ]
  },
  {
   "cell_type": "code",
   "execution_count": 35,
   "id": "b0b733e5",
   "metadata": {},
   "outputs": [
    {
     "data": {
      "text/plain": [
       "998     56990\n",
       "304     63350\n",
       "271     51018\n",
       "625    159990\n",
       "951     68999\n",
       "353     21833\n",
       "Name: price, dtype: int64"
      ]
     },
     "execution_count": 35,
     "metadata": {},
     "output_type": "execute_result"
    }
   ],
   "source": [
    "y_test[0:6]"
   ]
  },
  {
   "cell_type": "code",
   "execution_count": 36,
   "id": "d9239920",
   "metadata": {},
   "outputs": [],
   "source": [
    "def saveModel_path(model_dir=\"SAVED_MODELS\"):\n",
    "    os.makedirs(model_dir, exist_ok=True)\n",
    "    fileName = time.strftime(\"Model_%Y_%m_%d_%H_%M_%S_.h5\")    \n",
    "    model_path = os.path.join(model_dir, fileName)\n",
    "    print(f\"your model will be saved at the following location\\n{model_path}\")\n",
    "    return model_path"
   ]
  },
  {
   "cell_type": "code",
   "execution_count": 37,
   "id": "3ba7bd59",
   "metadata": {},
   "outputs": [
    {
     "name": "stdout",
     "output_type": "stream",
     "text": [
      "your model will be saved at the following location\n",
      "SAVED_MODELS\\Model_2023_02_18_10_23_40_.h5\n"
     ]
    }
   ],
   "source": [
    "model.save(saveModel_path())"
   ]
  },
  {
   "cell_type": "code",
   "execution_count": null,
   "id": "2e3e52a3",
   "metadata": {},
   "outputs": [],
   "source": []
  }
 ],
 "metadata": {
  "kernelspec": {
   "display_name": "Python 3 (ipykernel)",
   "language": "python",
   "name": "python3"
  },
  "language_info": {
   "codemirror_mode": {
    "name": "ipython",
    "version": 3
   },
   "file_extension": ".py",
   "mimetype": "text/x-python",
   "name": "python",
   "nbconvert_exporter": "python",
   "pygments_lexer": "ipython3",
   "version": "3.7.16"
  },
  "vscode": {
   "interpreter": {
    "hash": "b962e8d4314148b39f3e0193c2981739a3b76c8cc15f8b0c9b04d48481a26909"
   }
  }
 },
 "nbformat": 4,
 "nbformat_minor": 5
}
