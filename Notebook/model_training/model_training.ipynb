{
 "cells": [
  {
   "cell_type": "markdown",
   "id": "777426cd",
   "metadata": {},
   "source": [
    "# ML Approach"
   ]
  },
  {
   "cell_type": "markdown",
   "id": "5490313b",
   "metadata": {},
   "source": [
    "## Model training and Evaluation"
   ]
  },
  {
   "cell_type": "code",
   "execution_count": 1,
   "id": "d9c9cb37",
   "metadata": {},
   "outputs": [],
   "source": [
    "# import necessory packages\n",
    "import pandas as pd\n",
    "import numpy as np\n",
    "import matplotlib.pyplot as plt\n",
    "import seaborn as sns\n",
    "import scipy\n",
    "from scipy import stats\n",
    "\n",
    "\n",
    "from sklearn.linear_model import LinearRegression,Lasso,Ridge\n",
    "from sklearn.ensemble import RandomForestRegressor, AdaBoostRegressor, GradientBoostingRegressor\n",
    "from sklearn.neighbors import KNeighborsRegressor\n",
    "from sklearn.tree import DecisionTreeRegressor\n",
    "from sklearn.svm import SVR\n",
    "from xgboost import XGBRegressor\n",
    "from sklearn import metrics\n",
    "from sklearn.metrics import r2_score,mean_absolute_error,mean_squared_error,accuracy_score\n",
    "from sklearn.decomposition import PCA\n",
    "\n",
    " \n",
    "from sklearn.model_selection import  train_test_split, cross_val_score,RepeatedStratifiedKFold\n",
    "from sklearn.preprocessing import OneHotEncoder, StandardScaler, MinMaxScaler,RobustScaler\n",
    "from sklearn.impute import SimpleImputer, KNNImputer\n",
    "from sklearn.pipeline import Pipeline\n",
    "from kneed import KneeLocator\n",
    "from sklearn.model_selection import GridSearchCV\n",
    "\n",
    "import warnings\n",
    "warnings.filterwarnings(\"ignore\")\n",
    "%matplotlib inline"
   ]
  },
  {
   "cell_type": "code",
   "execution_count": 2,
   "id": "784d86c1",
   "metadata": {},
   "outputs": [],
   "source": [
    "# import cleaned data\n",
    "df = pd.read_csv('cleaned_data.csv')"
   ]
  },
  {
   "cell_type": "code",
   "execution_count": 3,
   "id": "61270bb2",
   "metadata": {},
   "outputs": [],
   "source": [
    "pd.set_option('display.max_columns',None)\n",
    "pd.set_option('display.max_rows',None)"
   ]
  },
  {
   "cell_type": "code",
   "execution_count": 4,
   "id": "e34c4246",
   "metadata": {},
   "outputs": [
    {
     "data": {
      "text/html": [
       "<div>\n",
       "<style scoped>\n",
       "    .dataframe tbody tr th:only-of-type {\n",
       "        vertical-align: middle;\n",
       "    }\n",
       "\n",
       "    .dataframe tbody tr th {\n",
       "        vertical-align: top;\n",
       "    }\n",
       "\n",
       "    .dataframe thead th {\n",
       "        text-align: right;\n",
       "    }\n",
       "</style>\n",
       "<table border=\"1\" class=\"dataframe\">\n",
       "  <thead>\n",
       "    <tr style=\"text-align: right;\">\n",
       "      <th></th>\n",
       "      <th>brand_names</th>\n",
       "      <th>price</th>\n",
       "      <th>score</th>\n",
       "      <th>processor brand</th>\n",
       "      <th>processor type</th>\n",
       "      <th>processor gen</th>\n",
       "      <th>type of core</th>\n",
       "      <th>no of threads</th>\n",
       "      <th>Ram</th>\n",
       "      <th>ram type</th>\n",
       "      <th>storage type</th>\n",
       "      <th>storage capacity</th>\n",
       "      <th>ppi</th>\n",
       "      <th>OS</th>\n",
       "      <th>Warranty</th>\n",
       "    </tr>\n",
       "  </thead>\n",
       "  <tbody>\n",
       "    <tr>\n",
       "      <th>0</th>\n",
       "      <td>others</td>\n",
       "      <td>84490</td>\n",
       "      <td>65.0</td>\n",
       "      <td>Intel</td>\n",
       "      <td>i9</td>\n",
       "      <td>12.0</td>\n",
       "      <td>14.0</td>\n",
       "      <td>32.0</td>\n",
       "      <td>32</td>\n",
       "      <td>lpddr5</td>\n",
       "      <td>SSD</td>\n",
       "      <td>1024.0</td>\n",
       "      <td>NaN</td>\n",
       "      <td>Windows 11</td>\n",
       "      <td>NaN</td>\n",
       "    </tr>\n",
       "  </tbody>\n",
       "</table>\n",
       "</div>"
      ],
      "text/plain": [
       "  brand_names  price  score processor brand processor type  processor gen  \\\n",
       "0      others  84490   65.0           Intel             i9           12.0   \n",
       "\n",
       "   type of core  no of threads  Ram ram type storage type  storage capacity  \\\n",
       "0          14.0           32.0   32   lpddr5          SSD            1024.0   \n",
       "\n",
       "   ppi          OS  Warranty  \n",
       "0  NaN  Windows 11       NaN  "
      ]
     },
     "execution_count": 4,
     "metadata": {},
     "output_type": "execute_result"
    }
   ],
   "source": [
    "df.head(1)"
   ]
  },
  {
   "cell_type": "code",
   "execution_count": 5,
   "id": "a91fe534",
   "metadata": {},
   "outputs": [
    {
     "data": {
      "text/plain": [
       "(1016, 15)"
      ]
     },
     "execution_count": 5,
     "metadata": {},
     "output_type": "execute_result"
    }
   ],
   "source": [
    "# checking shape of dataset\n",
    "df.shape"
   ]
  },
  {
   "cell_type": "code",
   "execution_count": 6,
   "id": "44dcf145",
   "metadata": {},
   "outputs": [],
   "source": [
    "data = df.copy() "
   ]
  },
  {
   "cell_type": "code",
   "execution_count": 7,
   "id": "a2d06a47",
   "metadata": {},
   "outputs": [],
   "source": [
    "# Encoding\n",
    "data = pd.get_dummies(data, columns = ['brand_names', 'processor brand', 'processor type','ram type', 'storage type', 'OS'],drop_first=True)"
   ]
  },
  {
   "cell_type": "code",
   "execution_count": 8,
   "id": "4c547478",
   "metadata": {},
   "outputs": [
    {
     "data": {
      "text/html": [
       "<div>\n",
       "<style scoped>\n",
       "    .dataframe tbody tr th:only-of-type {\n",
       "        vertical-align: middle;\n",
       "    }\n",
       "\n",
       "    .dataframe tbody tr th {\n",
       "        vertical-align: top;\n",
       "    }\n",
       "\n",
       "    .dataframe thead th {\n",
       "        text-align: right;\n",
       "    }\n",
       "</style>\n",
       "<table border=\"1\" class=\"dataframe\">\n",
       "  <thead>\n",
       "    <tr style=\"text-align: right;\">\n",
       "      <th></th>\n",
       "      <th>price</th>\n",
       "      <th>score</th>\n",
       "      <th>processor gen</th>\n",
       "      <th>type of core</th>\n",
       "      <th>no of threads</th>\n",
       "      <th>Ram</th>\n",
       "      <th>storage capacity</th>\n",
       "      <th>ppi</th>\n",
       "      <th>Warranty</th>\n",
       "      <th>brand_names_apple</th>\n",
       "      <th>brand_names_asus</th>\n",
       "      <th>brand_names_dell</th>\n",
       "      <th>brand_names_hp</th>\n",
       "      <th>brand_names_lenovo</th>\n",
       "      <th>brand_names_msi</th>\n",
       "      <th>brand_names_others</th>\n",
       "      <th>processor brand_Apple</th>\n",
       "      <th>processor brand_Intel</th>\n",
       "      <th>processor brand_others</th>\n",
       "      <th>processor type_celeron</th>\n",
       "      <th>processor type_i3</th>\n",
       "      <th>processor type_i5</th>\n",
       "      <th>processor type_i7</th>\n",
       "      <th>processor type_i9</th>\n",
       "      <th>processor type_m1</th>\n",
       "      <th>processor type_m2</th>\n",
       "      <th>processor type_others</th>\n",
       "      <th>processor type_pentium</th>\n",
       "      <th>processor type_ryzen</th>\n",
       "      <th>ram type_ddr4</th>\n",
       "      <th>ram type_ddr5</th>\n",
       "      <th>ram type_lpddr3</th>\n",
       "      <th>ram type_lpddr4</th>\n",
       "      <th>ram type_lpddr4x</th>\n",
       "      <th>ram type_lpddr5</th>\n",
       "      <th>ram type_ram</th>\n",
       "      <th>ram type_unified</th>\n",
       "      <th>storage type_SSD</th>\n",
       "      <th>OS_DOS</th>\n",
       "      <th>OS_Mac</th>\n",
       "      <th>OS_Windows</th>\n",
       "      <th>OS_Windows 10</th>\n",
       "      <th>OS_Windows 11</th>\n",
       "      <th>OS_others</th>\n",
       "    </tr>\n",
       "  </thead>\n",
       "  <tbody>\n",
       "    <tr>\n",
       "      <th>0</th>\n",
       "      <td>84490</td>\n",
       "      <td>65.0</td>\n",
       "      <td>12.0</td>\n",
       "      <td>14.0</td>\n",
       "      <td>32.0</td>\n",
       "      <td>32</td>\n",
       "      <td>1024.0</td>\n",
       "      <td>NaN</td>\n",
       "      <td>NaN</td>\n",
       "      <td>0</td>\n",
       "      <td>0</td>\n",
       "      <td>0</td>\n",
       "      <td>0</td>\n",
       "      <td>0</td>\n",
       "      <td>0</td>\n",
       "      <td>1</td>\n",
       "      <td>0</td>\n",
       "      <td>1</td>\n",
       "      <td>0</td>\n",
       "      <td>0</td>\n",
       "      <td>0</td>\n",
       "      <td>0</td>\n",
       "      <td>0</td>\n",
       "      <td>1</td>\n",
       "      <td>0</td>\n",
       "      <td>0</td>\n",
       "      <td>0</td>\n",
       "      <td>0</td>\n",
       "      <td>0</td>\n",
       "      <td>0</td>\n",
       "      <td>0</td>\n",
       "      <td>0</td>\n",
       "      <td>0</td>\n",
       "      <td>0</td>\n",
       "      <td>1</td>\n",
       "      <td>0</td>\n",
       "      <td>0</td>\n",
       "      <td>1</td>\n",
       "      <td>0</td>\n",
       "      <td>0</td>\n",
       "      <td>0</td>\n",
       "      <td>0</td>\n",
       "      <td>1</td>\n",
       "      <td>0</td>\n",
       "    </tr>\n",
       "  </tbody>\n",
       "</table>\n",
       "</div>"
      ],
      "text/plain": [
       "   price  score  processor gen  type of core  no of threads  Ram  \\\n",
       "0  84490   65.0           12.0          14.0           32.0   32   \n",
       "\n",
       "   storage capacity  ppi  Warranty  brand_names_apple  brand_names_asus  \\\n",
       "0            1024.0  NaN       NaN                  0                 0   \n",
       "\n",
       "   brand_names_dell  brand_names_hp  brand_names_lenovo  brand_names_msi  \\\n",
       "0                 0               0                   0                0   \n",
       "\n",
       "   brand_names_others  processor brand_Apple  processor brand_Intel  \\\n",
       "0                   1                      0                      1   \n",
       "\n",
       "   processor brand_others  processor type_celeron  processor type_i3  \\\n",
       "0                       0                       0                  0   \n",
       "\n",
       "   processor type_i5  processor type_i7  processor type_i9  processor type_m1  \\\n",
       "0                  0                  0                  1                  0   \n",
       "\n",
       "   processor type_m2  processor type_others  processor type_pentium  \\\n",
       "0                  0                      0                       0   \n",
       "\n",
       "   processor type_ryzen  ram type_ddr4  ram type_ddr5  ram type_lpddr3  \\\n",
       "0                     0              0              0                0   \n",
       "\n",
       "   ram type_lpddr4  ram type_lpddr4x  ram type_lpddr5  ram type_ram  \\\n",
       "0                0                 0                1             0   \n",
       "\n",
       "   ram type_unified  storage type_SSD  OS_DOS  OS_Mac  OS_Windows  \\\n",
       "0                 0                 1       0       0           0   \n",
       "\n",
       "   OS_Windows 10  OS_Windows 11  OS_others  \n",
       "0              0              1          0  "
      ]
     },
     "execution_count": 8,
     "metadata": {},
     "output_type": "execute_result"
    }
   ],
   "source": [
    "data.head(1)"
   ]
  },
  {
   "cell_type": "code",
   "execution_count": 10,
   "id": "3e2ca9eb",
   "metadata": {},
   "outputs": [
    {
     "data": {
      "text/plain": [
       "(1016, 44)"
      ]
     },
     "execution_count": 10,
     "metadata": {},
     "output_type": "execute_result"
    }
   ],
   "source": [
    "data.shape"
   ]
  },
  {
   "cell_type": "code",
   "execution_count": null,
   "id": "95f779c1",
   "metadata": {},
   "outputs": [],
   "source": [
    "# Splitting X and y for all Experiments\n",
    "X= data.drop('price', axis=1)\n",
    "y = data['price']"
   ]
  },
  {
   "cell_type": "markdown",
   "id": "6a7733eb",
   "metadata": {},
   "source": [
    "### Create function for model training and model evaluation"
   ]
  },
  {
   "cell_type": "code",
   "execution_count": null,
   "id": "0ea07b5c",
   "metadata": {},
   "outputs": [],
   "source": [
    "def evaluate_reg(y_true, y_pred):\n",
    "    '''\n",
    "    This function takes in true values and predicted values\n",
    "    Returns: r2_score,RMSE\n",
    "    '''\n",
    "    score = r2_score(y_true, y_pred) # Calculate Accuracy\n",
    "    rmse = mean_squared_error(y_true, y_pred, squared=False) #Calculate Root mean sqaured error\n",
    "    return score,rmse"
   ]
  },
  {
   "cell_type": "code",
   "execution_count": null,
   "id": "b8b5f2e6",
   "metadata": {},
   "outputs": [],
   "source": [
    "# Create a function which can evaluate models and return a report \n",
    "def evaluate_models(X, y, models):\n",
    "    '''\n",
    "    This function takes in X and y and models dictionary as input\n",
    "    It splits the data into Train Test split\n",
    "    Iterates through the given model dictionary and evaluates the metrics\n",
    "    Returns: Dataframe which contains report of all models metrics with cost\n",
    "    '''\n",
    "    # separate dataset into train and test\n",
    "    X_train, X_test, y_train, y_test = train_test_split(X,y,test_size=0.15,random_state=10)\n",
    "    \n",
    "    models_list = []\n",
    "    accuracy_list_train = []\n",
    "    accuracy_list_test = []\n",
    "    train_rmse = []\n",
    "    test_rmse = []\n",
    "    retraining = []\n",
    "\n",
    "    \n",
    "    for i in range(len(list(models))):\n",
    "        model = list(models.values())[i]\n",
    "        # Train model\n",
    "        model.fit(X_train, y_train) \n",
    "\n",
    "        # Make predictions\n",
    "        y_train_pred = model.predict(X_train)\n",
    "        y_test_pred = model.predict(X_test)\n",
    "\n",
    "        # Training set performance\n",
    "        model_train_accuracy,model_train_rmse=evaluate_reg(y_train ,y_train_pred)\n",
    "\n",
    "        # Test set performance\n",
    "        model_test_accuracy,model_test_rmse=evaluate_reg(y_test ,y_test_pred)\n",
    "        \n",
    "        # Accuracy Threshold 0.1\n",
    "        diff = model_train_accuracy - model_test_accuracy\n",
    "    \n",
    "        print(list(models.keys())[i])\n",
    "        \n",
    "        models_list.append(list(models.keys())[i])\n",
    "        accuracy_list_train.append(model_train_accuracy)\n",
    "        accuracy_list_test.append(model_test_accuracy)\n",
    "        train_rmse.append(model_train_rmse)\n",
    "        test_rmse.append(model_test_rmse)\n",
    "        \n",
    "        if (diff <=0.1 ) or (diff <= -0.1):\n",
    "            retraining.append('accepted')\n",
    "        elif diff > 0.1:\n",
    "            retraining.append('Overfitting')\n",
    "        else:\n",
    "            retraining.append('Underfitting')\n",
    "            \n",
    "\n",
    "        print('Model performance for Training set')\n",
    "        print(\"- Accuracy: {}\".format(model_train_accuracy))\n",
    "        print(\"- RMSE: {}\".format(model_train_rmse)) \n",
    "\n",
    "        print('----------------------------------')\n",
    "\n",
    "        print('Model performance for Test set')\n",
    "        print(\"- Accuracy: {}\".format(model_test_accuracy))\n",
    "        print(\"- RMSE: {}\".format(model_test_rmse))\n",
    "        \n",
    "        print('='*35)\n",
    "        print('\\n')\n",
    "        \n",
    "    report=pd.DataFrame(list(zip(models_list, accuracy_list_train,accuracy_list_test,train_rmse,test_rmse,retraining)), columns=['Model Name', 'train_accuracy','test_accuracy','train_rmse','test_rmse','retraining']).sort_values(by=[\"test_accuracy\"],ascending=False)\n",
    "        \n",
    "    return report"
   ]
  },
  {
   "cell_type": "markdown",
   "id": "dee72b90",
   "metadata": {},
   "source": [
    "### Experiment: 1 = KNN Imputer for Null values"
   ]
  },
  {
   "cell_type": "markdown",
   "id": "f08bad42",
   "metadata": {},
   "source": [
    "**Why Robust scaler and not Standard scaler?**\n",
    "- Scaling the data using Robust scaler\n",
    "- Since most of the independent variables are not normally distributed we cannot use Standardscaler"
   ]
  },
  {
   "cell_type": "markdown",
   "id": "24b40187",
   "metadata": {},
   "source": [
    "**Why Robust Scaler and not Minmax?** \n",
    "- because most of the feature has outliers. So Minmax will scale data according to Max values which is outlier.\n",
    "- This Scaler removes the median and scales the data according to the quantile range (defaults to IQR: Interquartile Range). The IQR is the range between the 1st quartile (25th quantile) and the 3rd quartile (75th quantile)."
   ]
  },
  {
   "cell_type": "code",
   "execution_count": null,
   "id": "66a8d580",
   "metadata": {},
   "outputs": [],
   "source": [
    "# Fit with robust scaler for KNN best K-selection experminet\n",
    "#robustscaler = RobustScaler()\n",
    "#X1 = robustscaler.fit_transform(X)"
   ]
  },
  {
   "cell_type": "markdown",
   "id": "123f7ef2",
   "metadata": {},
   "source": [
    "**Why KNN Imputer**?\n",
    "- KNNImputer by scikit-learn is a widely used method to impute missing values. It is widely being observed as a replacement for traditional imputation techniques.\n",
    "- KNNImputer helps to impute missing values present in the observations by finding the nearest neighbors with the Euclidean distance matrix.\n",
    "- Here we Iterates through different K values and get accuracy and choose best K values."
   ]
  },
  {
   "cell_type": "markdown",
   "id": "0a8c935c",
   "metadata": {},
   "source": [
    "**Finding the optimal n_neighbour value for KNN imputer**"
   ]
  },
  {
   "cell_type": "raw",
   "id": "0fc0ba73",
   "metadata": {},
   "source": [
    "results=[]\n",
    "# define imputer\n",
    "imputer = KNNImputer(n_neighbors=5, weights='uniform', metric='nan_euclidean')\n",
    "strategies = [str(i) for i in [1,3,5,7,9]]\n",
    "for s in strategies:\n",
    "    pipeline = Pipeline(steps=[('i', KNNImputer(n_neighbors=int(s))), ('m', LinearRegression())])\n",
    "    scores = cross_val_score(pipeline, X1, y, scoring='accuracy', cv=2, n_jobs=-1)\n",
    "    results.append(scores)\n",
    "    print('n_neighbors= %s || accuracy (%.4f)' % (s , mean(scores)))"
   ]
  },
  {
   "cell_type": "markdown",
   "id": "20324fc5",
   "metadata": {},
   "source": [
    "#### Pipeline for KNN imputer"
   ]
  },
  {
   "cell_type": "code",
   "execution_count": null,
   "id": "1b4d795f",
   "metadata": {},
   "outputs": [],
   "source": [
    "num_features = X.select_dtypes(exclude=\"object\").columns\n",
    "\n",
    "# Fit the KNN imputer with selected K-value\n",
    "knn_pipeline = Pipeline(steps=[\n",
    "    ('imputer', KNNImputer(n_neighbors=3)),\n",
    "    ('RobustScaler', RobustScaler())\n",
    "])"
   ]
  },
  {
   "cell_type": "code",
   "execution_count": null,
   "id": "e60fc86c",
   "metadata": {},
   "outputs": [],
   "source": [
    "X_knn =knn_pipeline.fit_transform(X)"
   ]
  },
  {
   "cell_type": "markdown",
   "id": "1a5f6bae",
   "metadata": {},
   "source": [
    "#### Initialize Default Models in a dictionary"
   ]
  },
  {
   "cell_type": "code",
   "execution_count": null,
   "id": "563d0581",
   "metadata": {},
   "outputs": [],
   "source": [
    "# Dictionary which contains models for experiment\n",
    "models = {\n",
    "    \"Linear Regression\":LinearRegression(),\n",
    "    \"Lasso Regression\" :Lasso(),\n",
    "    \"Ridge Regression\" : Ridge(),\n",
    "    \"Decision Tree\": DecisionTreeRegressor(),\n",
    "    \"Random Forest\": RandomForestRegressor(),\n",
    "    \"Gradient Boosting\": GradientBoostingRegressor(),\n",
    "    \"K-Neighbors Regressor\": KNeighborsRegressor(),\n",
    "    \"XGBRegressor\": XGBRegressor(), \n",
    "    \"AdaBoost Regressor\": AdaBoostRegressor(),\n",
    "    \"SVR\" : SVR()\n",
    "}"
   ]
  },
  {
   "cell_type": "markdown",
   "id": "7b0a5f69",
   "metadata": {},
   "source": [
    "#### Fit KNN imputed data for models in dictionary"
   ]
  },
  {
   "cell_type": "code",
   "execution_count": null,
   "id": "6a0a6cf0",
   "metadata": {},
   "outputs": [],
   "source": [
    "report_knn = evaluate_models(X_knn, y, models)"
   ]
  },
  {
   "cell_type": "markdown",
   "id": "cadea18f",
   "metadata": {},
   "source": [
    "### Report for KNN imputed data"
   ]
  },
  {
   "cell_type": "code",
   "execution_count": null,
   "id": "9e3864c8",
   "metadata": {},
   "outputs": [],
   "source": [
    "report_knn"
   ]
  },
  {
   "cell_type": "markdown",
   "id": "a0b8c7d3",
   "metadata": {},
   "source": [
    "### Hyperparameter tuning"
   ]
  },
  {
   "cell_type": "code",
   "execution_count": null,
   "id": "775db703",
   "metadata": {},
   "outputs": [],
   "source": [
    "# splitting dataset into train and test\n",
    "X_train, X_test, y_train, y_test = train_test_split(X_knn,y,test_size=0.15,random_state=10)"
   ]
  },
  {
   "cell_type": "code",
   "execution_count": null,
   "id": "cf8d15bd",
   "metadata": {},
   "outputs": [],
   "source": [
    "# Random Forest"
   ]
  },
  {
   "cell_type": "code",
   "execution_count": null,
   "id": "2acfdd22",
   "metadata": {},
   "outputs": [],
   "source": [
    "rf = RandomForestRegressor()\n",
    "grid_param_rf = {\n",
    "                    \"n_estimators\":[20,40,75,100],\n",
    "                    \"random_state\":[1,5,10],\n",
    "                    \"max_samples\":[0.1,0.2,0.5,1],\n",
    "                    \"max_features\":[0.25,0.50,0.75,1],\n",
    "                    \"max_depth\":[5,10,15]\n",
    "                }\n",
    "grid_search_rf=GridSearchCV(estimator=rf,param_grid=grid_param_rf,cv=5)\n",
    "grid_search_rf.fit(X_train,y_train)"
   ]
  },
  {
   "cell_type": "code",
   "execution_count": null,
   "id": "09ed58f7",
   "metadata": {},
   "outputs": [],
   "source": [
    "grid_search_rf.best_params_"
   ]
  },
  {
   "cell_type": "code",
   "execution_count": null,
   "id": "01fcc95c",
   "metadata": {},
   "outputs": [],
   "source": [
    "# Gradient Boosting"
   ]
  },
  {
   "cell_type": "code",
   "execution_count": null,
   "id": "1da3da71",
   "metadata": {},
   "outputs": [],
   "source": [
    "gb = GradientBoostingRegressor()\n",
    "grid_param_gb = {\n",
    "                    \"learning_rate\":[0.1,0.5,1],\n",
    "                    \"n_estimators\":[50,75,100],\n",
    "                    \"max_depth\":[2,5,10],\n",
    "                    \"random_state\":[1,5,10],\n",
    "                    \"max_features\":['auto', 'sqrt', 'log2']\n",
    "                }\n",
    "\n",
    "grid_search_gb=GridSearchCV(estimator=gb,param_grid=grid_param_gb,cv=5)\n",
    "grid_search_gb.fit(X_train,y_train)"
   ]
  },
  {
   "cell_type": "code",
   "execution_count": null,
   "id": "65b50d1c",
   "metadata": {},
   "outputs": [],
   "source": [
    "grid_search_gb.best_params_"
   ]
  },
  {
   "cell_type": "code",
   "execution_count": null,
   "id": "9800885f",
   "metadata": {},
   "outputs": [],
   "source": [
    "# XGB"
   ]
  },
  {
   "cell_type": "code",
   "execution_count": null,
   "id": "89dbc1d9",
   "metadata": {},
   "outputs": [],
   "source": [
    "xgb = XGBRegressor()\n",
    "grid_param_xgb = {\n",
    "                    \"n_estimators\":[30,50,75,100],\n",
    "                    \"max_depth\":[2,4,10]\n",
    "                }\n",
    "grid_search_xgb=GridSearchCV(estimator=xgb,param_grid=grid_param_xgb,cv=5)\n",
    "grid_search_xgb.fit(X_train,y_train)"
   ]
  },
  {
   "cell_type": "code",
   "execution_count": null,
   "id": "3f53a1ce",
   "metadata": {},
   "outputs": [],
   "source": [
    "grid_search_xgb.best_params_"
   ]
  },
  {
   "cell_type": "code",
   "execution_count": null,
   "id": "56e07adf",
   "metadata": {},
   "outputs": [],
   "source": [
    "# Dictionary which contains models for experiment\n",
    "models_new = {\n",
    "                \"Random Forest\": RandomForestRegressor(n_estimators = 75,\n",
    "                                                random_state = 1,\n",
    "                                                max_samples = 0.5,\n",
    "                                                max_features = 0.25,\n",
    "                                                max_depth =15),\n",
    "                \"Gradient Boosting\": GradientBoostingRegressor(learning_rate=0.1,\n",
    "                                                     max_depth=8,\n",
    "                                                     max_features='log2',\n",
    "                                                     n_estimators=100,\n",
    "                                                     random_state= 5 ),\n",
    "                \"XGBRegressor\": XGBRegressor(max_depth=2,\n",
    "                                       n_estimators=100)\n",
    "             }"
   ]
  },
  {
   "cell_type": "code",
   "execution_count": null,
   "id": "3e8ce68f",
   "metadata": {},
   "outputs": [],
   "source": [
    "report_knn_new = evaluate_models(X_knn, y, models_new)"
   ]
  },
  {
   "cell_type": "code",
   "execution_count": null,
   "id": "8aeb02dc",
   "metadata": {},
   "outputs": [],
   "source": [
    "report_knn_new"
   ]
  },
  {
   "cell_type": "markdown",
   "id": "b97e7b7d",
   "metadata": {},
   "source": [
    "### Experiment: 2 = Simple Imputer with Strategy Median "
   ]
  },
  {
   "cell_type": "markdown",
   "id": "05368559",
   "metadata": {},
   "source": [
    "- SimpleImputer is a class in the `sklearn.impute` module that can be used to replace missing values in a dataset, using a variety of input strategies.\n",
    "- Here we use SimpleImputer can also be used to impute multiple columns at once by passing in a list of column names. SimpleImputer will then replace missing values in all of the specified columns."
   ]
  },
  {
   "cell_type": "code",
   "execution_count": null,
   "id": "6f6c8e00",
   "metadata": {},
   "outputs": [],
   "source": [
    "num_features = X.select_dtypes(exclude=\"object\").columns\n",
    "\n",
    "# Fit the Simple imputer with strategy median\n",
    "median_pipeline = Pipeline(steps=[\n",
    "    ('imputer', SimpleImputer(strategy='median')),\n",
    "    ('RobustScaler', RobustScaler())\n",
    "])"
   ]
  },
  {
   "cell_type": "code",
   "execution_count": null,
   "id": "94f4ce1d",
   "metadata": {},
   "outputs": [],
   "source": [
    "# Fit X with median_pipeline\n",
    "X_median = median_pipeline.fit_transform(X)"
   ]
  },
  {
   "cell_type": "code",
   "execution_count": null,
   "id": "8494e5e5",
   "metadata": {},
   "outputs": [],
   "source": [
    "# Training the models\n",
    "report_median = evaluate_models(X_median, y, models)"
   ]
  },
  {
   "cell_type": "markdown",
   "id": "860929fb",
   "metadata": {},
   "source": [
    "### Report for Simple Imputer with median strategy"
   ]
  },
  {
   "cell_type": "code",
   "execution_count": null,
   "id": "bd320efa",
   "metadata": {},
   "outputs": [],
   "source": [
    "report_median"
   ]
  },
  {
   "cell_type": "markdown",
   "id": "2934784b",
   "metadata": {},
   "source": [
    "### Hyper parameter tuning"
   ]
  },
  {
   "cell_type": "code",
   "execution_count": null,
   "id": "e27f6de2",
   "metadata": {},
   "outputs": [],
   "source": [
    "# splitting dataset into train and test\n",
    "X_train, X_test, y_train, y_test = train_test_split(X_median,y,test_size=0.15,random_state=10)"
   ]
  },
  {
   "cell_type": "code",
   "execution_count": null,
   "id": "7ed83460",
   "metadata": {},
   "outputs": [],
   "source": [
    "# Gradient Boosting"
   ]
  },
  {
   "cell_type": "code",
   "execution_count": null,
   "id": "03c3e084",
   "metadata": {},
   "outputs": [],
   "source": [
    "gb = GradientBoostingRegressor()\n",
    "grid_param_gb = {\n",
    "                    \"learning_rate\":[0.1,0.5,1],\n",
    "                    \"n_estimators\":[50,75,100],\n",
    "                    \"max_depth\":[2,5,10],\n",
    "                    \"random_state\":[1,5,10],\n",
    "                    \"max_features\":['auto', 'sqrt', 'log2']\n",
    "                }\n",
    "\n",
    "grid_search_gb=GridSearchCV(estimator=gb,param_grid=grid_param_gb,cv=5)\n",
    "grid_search_gb.fit(X_train,y_train)"
   ]
  },
  {
   "cell_type": "code",
   "execution_count": null,
   "id": "97a60211",
   "metadata": {},
   "outputs": [],
   "source": [
    "grid_search_gb.best_params_"
   ]
  },
  {
   "cell_type": "code",
   "execution_count": null,
   "id": "f79119c9",
   "metadata": {},
   "outputs": [],
   "source": [
    "# XGB"
   ]
  },
  {
   "cell_type": "code",
   "execution_count": null,
   "id": "8eb977a7",
   "metadata": {},
   "outputs": [],
   "source": [
    "xgb = XGBRegressor()\n",
    "grid_param_xgb = {\n",
    "                    \"n_estimators\":[30,50,75,100],\n",
    "                    \"max_depth\":[2,4,10]\n",
    "                }\n",
    "grid_search_xgb=GridSearchCV(estimator=xgb,param_grid=grid_param_xgb,cv=5)\n",
    "grid_search_xgb.fit(X_train,y_train)"
   ]
  },
  {
   "cell_type": "code",
   "execution_count": null,
   "id": "80c9ba66",
   "metadata": {},
   "outputs": [],
   "source": [
    "grid_search_xgb.best_params_"
   ]
  },
  {
   "cell_type": "code",
   "execution_count": null,
   "id": "11880b57",
   "metadata": {},
   "outputs": [],
   "source": [
    "# RF"
   ]
  },
  {
   "cell_type": "code",
   "execution_count": null,
   "id": "1a4056a1",
   "metadata": {},
   "outputs": [],
   "source": [
    "rf = RandomForestRegressor()\n",
    "grid_param_rf = {\n",
    "                    \"n_estimators\":[20,40,75,100],\n",
    "                    \"random_state\":[1,5,10],\n",
    "                    \"max_samples\":[0.1,0.2,0.5,1],\n",
    "                    \"max_features\":[0.25,0.50,0.75,1],\n",
    "                    \"max_depth\":[5,10,15]\n",
    "                }\n",
    "grid_search_rf=GridSearchCV(estimator=rf,param_grid=grid_param_rf,cv=5)\n",
    "grid_search_rf.fit(X_train,y_train)"
   ]
  },
  {
   "cell_type": "code",
   "execution_count": null,
   "id": "370a9c3a",
   "metadata": {},
   "outputs": [],
   "source": [
    "grid_search_rf.best_params_"
   ]
  },
  {
   "cell_type": "code",
   "execution_count": null,
   "id": "64afef2f",
   "metadata": {},
   "outputs": [],
   "source": [
    "# Dictionary which contains models for experiment\n",
    "models_new = {\n",
    "                \"Random Forest\": RandomForestRegressor(n_estimators = 20,\n",
    "                                                random_state = 5,\n",
    "                                                max_samples = 0.5,\n",
    "                                                max_features = 0.75,\n",
    "                                                max_depth =15),\n",
    "                \"Gradient Boosting\": GradientBoostingRegressor(learning_rate=0.1,\n",
    "                                                     max_depth=5,\n",
    "                                                     max_features='log2',\n",
    "                                                     n_estimators=100,\n",
    "                                                     random_state= 10 ),\n",
    "                \"XGBRegressor\": XGBRegressor(max_depth=2,\n",
    "                                       n_estimators=75)\n",
    "             }"
   ]
  },
  {
   "cell_type": "code",
   "execution_count": null,
   "id": "ddaf8621",
   "metadata": {},
   "outputs": [],
   "source": [
    "report_median_new = evaluate_models(X_median, y, models_new)"
   ]
  },
  {
   "cell_type": "code",
   "execution_count": null,
   "id": "2a19d7ef",
   "metadata": {},
   "outputs": [],
   "source": [
    "report_median_new"
   ]
  },
  {
   "cell_type": "markdown",
   "id": "7030a4e3",
   "metadata": {},
   "source": [
    "### Experiment: 3 = MICE for Imputing Null values"
   ]
  },
  {
   "cell_type": "markdown",
   "id": "972e6261",
   "metadata": {},
   "source": [
    "- MICE stands for Multivariate Imputation By Chained Equations algorithm\n",
    "- This technique by which we can effortlessly impute missing values in a dataset by looking at data from other columns and trying to estimate the best prediction for each missing value.\n",
    "- `ImputationKernel` Creates a kernel dataset. This dataset can perform MICE on itself, and impute new data from models obtained during MICE."
   ]
  },
  {
   "cell_type": "code",
   "execution_count": null,
   "id": "c8ad8ef4",
   "metadata": {},
   "outputs": [],
   "source": [
    "import miceforest as mf\n",
    "\n",
    "X_mice = X.copy()\n",
    "kernel = mf.ImputationKernel(\n",
    "  X_mice,\n",
    "  save_all_iterations=True,\n",
    "  random_state=1989\n",
    ")# Run the MICE algorithm for 3 iterations kernel.mice(3)"
   ]
  },
  {
   "cell_type": "code",
   "execution_count": null,
   "id": "5ecf8282",
   "metadata": {},
   "outputs": [],
   "source": [
    "X_mice = kernel.complete_data()"
   ]
  },
  {
   "cell_type": "code",
   "execution_count": null,
   "id": "a6383830",
   "metadata": {},
   "outputs": [],
   "source": [
    "# fit robust scaler\n",
    "mice_pipeline = Pipeline(steps=[\n",
    "    ('RobustScaler', RobustScaler())\n",
    "])"
   ]
  },
  {
   "cell_type": "code",
   "execution_count": null,
   "id": "3d400a28",
   "metadata": {},
   "outputs": [],
   "source": [
    "# Fit X with Mice imputer \n",
    "X_mice= mice_pipeline.fit_transform(X_mice)"
   ]
  },
  {
   "cell_type": "code",
   "execution_count": null,
   "id": "06de9822",
   "metadata": {},
   "outputs": [],
   "source": [
    "# Training the models\n",
    "report_mice = evaluate_models(X_mice, y, models)"
   ]
  },
  {
   "cell_type": "markdown",
   "id": "59fe4d8b",
   "metadata": {},
   "source": [
    "### Report for MICE Imputer algorithm"
   ]
  },
  {
   "cell_type": "code",
   "execution_count": null,
   "id": "1c4ea098",
   "metadata": {},
   "outputs": [],
   "source": [
    "report_mice"
   ]
  },
  {
   "cell_type": "code",
   "execution_count": null,
   "id": "1e5519ac",
   "metadata": {},
   "outputs": [],
   "source": [
    "# splitting dataset into train and test\n",
    "X_train, X_test, y_train, y_test = train_test_split(X_mice,y,test_size=0.15,random_state=10)"
   ]
  },
  {
   "cell_type": "code",
   "execution_count": null,
   "id": "ec7c7ce7",
   "metadata": {},
   "outputs": [],
   "source": [
    "# Gradient Boosting"
   ]
  },
  {
   "cell_type": "code",
   "execution_count": null,
   "id": "0d9a99a4",
   "metadata": {},
   "outputs": [],
   "source": [
    "gb = GradientBoostingRegressor()\n",
    "grid_param_gb = {\n",
    "                    \"learning_rate\":[0.1,0.5,1],\n",
    "                    \"n_estimators\":[50,75,100],\n",
    "                    \"max_depth\":[2,5,10],\n",
    "                    \"random_state\":[1,5,10],\n",
    "                    \"max_features\":['auto', 'sqrt', 'log2']\n",
    "                }\n",
    "\n",
    "grid_search_gb=GridSearchCV(estimator=gb,param_grid=grid_param_gb,cv=5)\n",
    "grid_search_gb.fit(X_train,y_train)"
   ]
  },
  {
   "cell_type": "code",
   "execution_count": null,
   "id": "866d515c",
   "metadata": {},
   "outputs": [],
   "source": [
    "grid_search_gb.best_params_"
   ]
  },
  {
   "cell_type": "code",
   "execution_count": null,
   "id": "2390d907",
   "metadata": {},
   "outputs": [],
   "source": [
    "# RF"
   ]
  },
  {
   "cell_type": "code",
   "execution_count": null,
   "id": "640458de",
   "metadata": {},
   "outputs": [],
   "source": [
    "rf = RandomForestRegressor()\n",
    "grid_param_rf = {\n",
    "                    \"n_estimators\":[20,40,75,100],\n",
    "                    \"random_state\":[1,5,10],\n",
    "                    \"max_samples\":[0.1,0.2,0.5,1],\n",
    "                    \"max_features\":[0.25,0.50,0.75,1],\n",
    "                    \"max_depth\":[5,10,15]\n",
    "                }\n",
    "grid_search_rf=GridSearchCV(estimator=rf,param_grid=grid_param_rf,cv=5)\n",
    "grid_search_rf.fit(X_train,y_train)"
   ]
  },
  {
   "cell_type": "code",
   "execution_count": null,
   "id": "1a20ba82",
   "metadata": {},
   "outputs": [],
   "source": [
    "grid_search_rf.best_params_"
   ]
  },
  {
   "cell_type": "code",
   "execution_count": null,
   "id": "de4ccd55",
   "metadata": {},
   "outputs": [],
   "source": [
    "# Ridge"
   ]
  },
  {
   "cell_type": "code",
   "execution_count": null,
   "id": "367898ca",
   "metadata": {},
   "outputs": [],
   "source": [
    "ridge = Ridge()\n",
    "grid_param_ridge = { \"alpha\" : [1,2,5,10],\n",
    "                     \"random_state\": [1,5,10,15]}\n",
    "grid_search_ridge=GridSearchCV(estimator=ridge,param_grid=grid_param_ridge,cv=5)\n",
    "grid_search_ridge.fit(X_train,y_train)"
   ]
  },
  {
   "cell_type": "code",
   "execution_count": null,
   "id": "20716f57",
   "metadata": {},
   "outputs": [],
   "source": [
    "grid_search_ridge.best_params_"
   ]
  },
  {
   "cell_type": "code",
   "execution_count": null,
   "id": "53b7fbe3",
   "metadata": {},
   "outputs": [],
   "source": [
    "# Dictionary which contains models for experiment\n",
    "models_new = {\n",
    "                \"Random Forest\": RandomForestRegressor(n_estimators = 100,\n",
    "                                                random_state = 1,\n",
    "                                                max_samples = 0.5,\n",
    "                                                max_features = 0.25,\n",
    "                                                max_depth =10),\n",
    "                \"Gradient Boosting\": GradientBoostingRegressor(learning_rate=0.1,\n",
    "                                                     max_depth=5,\n",
    "                                                     max_features='log2',\n",
    "                                                     n_estimators=100,\n",
    "                                                     random_state= 5 ),\n",
    "                \"Ridge\": Ridge(alpha=10,random_state=1)\n",
    "             }"
   ]
  },
  {
   "cell_type": "code",
   "execution_count": null,
   "id": "b08fe753",
   "metadata": {},
   "outputs": [],
   "source": [
    "report_mice_new = evaluate_models(X_mice, y, models_new)"
   ]
  },
  {
   "cell_type": "code",
   "execution_count": null,
   "id": "2adc5f95",
   "metadata": {},
   "outputs": [],
   "source": [
    "report_mice_new "
   ]
  },
  {
   "cell_type": "markdown",
   "id": "84aa9d80",
   "metadata": {},
   "source": [
    "### Experiment: 4 = Simple Imputer with Strategy Constant "
   ]
  },
  {
   "cell_type": "markdown",
   "id": "92a6ae6e",
   "metadata": {},
   "source": [
    "- Another strategy which can be used is replacing missing values with a fixed (constant) value.\n",
    "- To do this, specify “constant” for strategy and specify the fill value using the fill_value parameter"
   ]
  },
  {
   "cell_type": "code",
   "execution_count": null,
   "id": "1f4f1927",
   "metadata": {},
   "outputs": [],
   "source": [
    "# Create a pipeline with simple imputer with strategy constant and fill value 0\n",
    "constant_pipeline = Pipeline(steps=[\n",
    "    ('Imputer', SimpleImputer(strategy='constant', fill_value=0)),\n",
    "    ('RobustScaler', RobustScaler())\n",
    "])"
   ]
  },
  {
   "cell_type": "code",
   "execution_count": null,
   "id": "ea10b6b5",
   "metadata": {},
   "outputs": [],
   "source": [
    "X_const =constant_pipeline.fit_transform(X)"
   ]
  },
  {
   "cell_type": "code",
   "execution_count": null,
   "id": "e70c4b2a",
   "metadata": {},
   "outputs": [],
   "source": [
    "# training the models\n",
    "report_const = evaluate_models(X_const, y, models)"
   ]
  },
  {
   "cell_type": "markdown",
   "id": "de81a5c0",
   "metadata": {},
   "source": [
    "### Report for Simple Imputer with Constant strategy"
   ]
  },
  {
   "cell_type": "code",
   "execution_count": null,
   "id": "1705f98f",
   "metadata": {},
   "outputs": [],
   "source": [
    "report_const"
   ]
  },
  {
   "cell_type": "markdown",
   "id": "2716c500",
   "metadata": {},
   "source": [
    "### Hyperparameter tuning"
   ]
  },
  {
   "cell_type": "code",
   "execution_count": null,
   "id": "3a338aad",
   "metadata": {},
   "outputs": [],
   "source": [
    "# splitting dataset into train and test\n",
    "X_train, X_test, y_train, y_test = train_test_split(X_const,y,test_size=0.15,random_state=10)"
   ]
  },
  {
   "cell_type": "code",
   "execution_count": null,
   "id": "84d8e047",
   "metadata": {},
   "outputs": [],
   "source": [
    "# Gradient Boosting"
   ]
  },
  {
   "cell_type": "code",
   "execution_count": null,
   "id": "c486c369",
   "metadata": {},
   "outputs": [],
   "source": [
    "gb = GradientBoostingRegressor()\n",
    "grid_param_gb = {\n",
    "                    \"learning_rate\":[0.1,0.5,1],\n",
    "                    \"n_estimators\":[50,75,100],\n",
    "                    \"max_depth\":[2,5,10],\n",
    "                    \"random_state\":[1,5,10],\n",
    "                    \"max_features\":['auto', 'sqrt', 'log2']\n",
    "                }\n",
    "\n",
    "grid_search_gb=GridSearchCV(estimator=gb,param_grid=grid_param_gb,cv=5)\n",
    "grid_search_gb.fit(X_train,y_train)"
   ]
  },
  {
   "cell_type": "code",
   "execution_count": null,
   "id": "32c803f5",
   "metadata": {},
   "outputs": [],
   "source": [
    "grid_search_gb.best_params_"
   ]
  },
  {
   "cell_type": "code",
   "execution_count": null,
   "id": "0a92b2dc",
   "metadata": {},
   "outputs": [],
   "source": [
    "# RF"
   ]
  },
  {
   "cell_type": "code",
   "execution_count": null,
   "id": "1b50c01f",
   "metadata": {},
   "outputs": [],
   "source": [
    "rf = RandomForestRegressor()\n",
    "grid_param_rf = {\n",
    "                    \"n_estimators\":[20,40,75,100],\n",
    "                    \"random_state\":[1,5,10],\n",
    "                    \"max_samples\":[0.1,0.2,0.5,1],\n",
    "                    \"max_features\":[0.25,0.50,0.75,1],\n",
    "                    \"max_depth\":[5,10,15]\n",
    "                }\n",
    "grid_search_rf=GridSearchCV(estimator=rf,param_grid=grid_param_rf,cv=5)\n",
    "grid_search_rf.fit(X_train,y_train)"
   ]
  },
  {
   "cell_type": "code",
   "execution_count": null,
   "id": "a174dc8c",
   "metadata": {},
   "outputs": [],
   "source": [
    "grid_search_rf.best_params_"
   ]
  },
  {
   "cell_type": "code",
   "execution_count": null,
   "id": "0275e5a6",
   "metadata": {},
   "outputs": [],
   "source": [
    "# XGB"
   ]
  },
  {
   "cell_type": "code",
   "execution_count": null,
   "id": "253ef845",
   "metadata": {},
   "outputs": [],
   "source": [
    "xgb = XGBRegressor()\n",
    "grid_param_xgb = {\n",
    "                    \"n_estimators\":[30,50,75,100],\n",
    "                    \"max_depth\":[2,4,10]\n",
    "                }\n",
    "grid_search_xgb=GridSearchCV(estimator=xgb,param_grid=grid_param_xgb,cv=5)\n",
    "grid_search_xgb.fit(X_train,y_train)"
   ]
  },
  {
   "cell_type": "code",
   "execution_count": null,
   "id": "ea4e81ad",
   "metadata": {},
   "outputs": [],
   "source": [
    "grid_search_xgb.best_params_"
   ]
  },
  {
   "cell_type": "code",
   "execution_count": null,
   "id": "5405d75c",
   "metadata": {},
   "outputs": [],
   "source": [
    "# Dictionary which contains models for experiment\n",
    "models_new = {\n",
    "                \"Random Forest\": RandomForestRegressor(n_estimators = 75,\n",
    "                                                random_state = 5,\n",
    "                                                max_samples = 0.5,\n",
    "                                                max_features = 0.25,\n",
    "                                                max_depth =15),\n",
    "                \"Gradient Boosting\": GradientBoostingRegressor(learning_rate=0.1,\n",
    "                                                     max_depth=5,\n",
    "                                                     max_features='log2',\n",
    "                                                     n_estimators=100,\n",
    "                                                     random_state= 5 ),\n",
    "                \"XGBRegressor\": XGBRegressor(max_depth=2,\n",
    "                                       n_estimators=100)\n",
    "             }"
   ]
  },
  {
   "cell_type": "code",
   "execution_count": null,
   "id": "a5e98ecc",
   "metadata": {},
   "outputs": [],
   "source": [
    "report_const_new = evaluate_models(X_const, y, models_new)"
   ]
  },
  {
   "cell_type": "code",
   "execution_count": null,
   "id": "d7ab23ad",
   "metadata": {},
   "outputs": [],
   "source": [
    "report_const_new"
   ]
  },
  {
   "cell_type": "markdown",
   "id": "20bfb6a4",
   "metadata": {},
   "source": [
    "### Experiment: 5 = Simple Imputer with Strategy Mean \n",
    "\n",
    "- Another strategy which can be used is replacing missing values with mean\n",
    "- Here we replace the missing values with the mean of the column"
   ]
  },
  {
   "cell_type": "code",
   "execution_count": null,
   "id": "c6e62ec9",
   "metadata": {},
   "outputs": [],
   "source": [
    "# Create a pipeline with Simple imputer with strategy mean\n",
    "mean_pipeline = Pipeline(steps=[\n",
    "    ('Imputer', SimpleImputer(strategy='mean')),\n",
    "    ('RobustScaler', RobustScaler())\n",
    "])"
   ]
  },
  {
   "cell_type": "code",
   "execution_count": null,
   "id": "2a39ec20",
   "metadata": {},
   "outputs": [],
   "source": [
    "X_mean = mean_pipeline.fit_transform(X)"
   ]
  },
  {
   "cell_type": "code",
   "execution_count": null,
   "id": "a63ba9f5",
   "metadata": {},
   "outputs": [],
   "source": [
    "# Training all models\n",
    "report_mean = evaluate_models(X_mean, y, models)"
   ]
  },
  {
   "cell_type": "code",
   "execution_count": null,
   "id": "4f503dad",
   "metadata": {
    "scrolled": true
   },
   "outputs": [],
   "source": [
    "report_mean"
   ]
  },
  {
   "cell_type": "markdown",
   "id": "ed8e5b23",
   "metadata": {},
   "source": [
    "### Hyperparameter tuning"
   ]
  },
  {
   "cell_type": "code",
   "execution_count": null,
   "id": "03734572",
   "metadata": {},
   "outputs": [],
   "source": [
    "# splitting dataset into train and test\n",
    "X_train, X_test, y_train, y_test = train_test_split(X_mean,y,test_size=0.15,random_state=10)"
   ]
  },
  {
   "cell_type": "code",
   "execution_count": null,
   "id": "87abed1b",
   "metadata": {},
   "outputs": [],
   "source": [
    "# Gradient Boosting"
   ]
  },
  {
   "cell_type": "code",
   "execution_count": null,
   "id": "e9d3a8ac",
   "metadata": {},
   "outputs": [],
   "source": [
    "gb = GradientBoostingRegressor()\n",
    "grid_param_gb = {\n",
    "                    \"learning_rate\":[0.1,0.5,1],\n",
    "                    \"n_estimators\":[50,75,100],\n",
    "                    \"max_depth\":[2,5,10],\n",
    "                    \"random_state\":[1,5,10],\n",
    "                    \"max_features\":['auto', 'sqrt', 'log2']\n",
    "                }\n",
    "\n",
    "grid_search_gb=GridSearchCV(estimator=gb,param_grid=grid_param_gb,cv=5)\n",
    "grid_search_gb.fit(X_train,y_train)"
   ]
  },
  {
   "cell_type": "code",
   "execution_count": null,
   "id": "7c75210f",
   "metadata": {},
   "outputs": [],
   "source": [
    "grid_search_gb.best_params_"
   ]
  },
  {
   "cell_type": "code",
   "execution_count": null,
   "id": "0a10ba9d",
   "metadata": {},
   "outputs": [],
   "source": [
    "# RF"
   ]
  },
  {
   "cell_type": "code",
   "execution_count": null,
   "id": "95d91423",
   "metadata": {},
   "outputs": [],
   "source": [
    "rf = RandomForestRegressor()\n",
    "grid_param_rf = {\n",
    "                    \"n_estimators\":[20,40,75,100],\n",
    "                    \"random_state\":[1,5,10],\n",
    "                    \"max_samples\":[0.1,0.2,0.5,1],\n",
    "                    \"max_features\":[0.25,0.50,0.75,1],\n",
    "                    \"max_depth\":[5,10,15]\n",
    "                }\n",
    "grid_search_rf=GridSearchCV(estimator=rf,param_grid=grid_param_rf,cv=5)\n",
    "grid_search_rf.fit(X_train,y_train)"
   ]
  },
  {
   "cell_type": "code",
   "execution_count": null,
   "id": "12937d5d",
   "metadata": {},
   "outputs": [],
   "source": [
    "grid_search_rf.best_params_"
   ]
  },
  {
   "cell_type": "code",
   "execution_count": null,
   "id": "719c91c6",
   "metadata": {},
   "outputs": [],
   "source": [
    "# XGB"
   ]
  },
  {
   "cell_type": "code",
   "execution_count": null,
   "id": "84ebc28b",
   "metadata": {},
   "outputs": [],
   "source": [
    "xgb = XGBRegressor()\n",
    "grid_param_xgb = {\n",
    "                    \"n_estimators\":[30,50,75,100],\n",
    "                    \"max_depth\":[2,4,10]\n",
    "                }\n",
    "grid_search_xgb=GridSearchCV(estimator=xgb,param_grid=grid_param_xgb,cv=5)\n",
    "grid_search_xgb.fit(X_train,y_train)"
   ]
  },
  {
   "cell_type": "code",
   "execution_count": null,
   "id": "666dd3e9",
   "metadata": {},
   "outputs": [],
   "source": [
    "grid_search_xgb.best_params_"
   ]
  },
  {
   "cell_type": "code",
   "execution_count": null,
   "id": "2c1a03ac",
   "metadata": {},
   "outputs": [],
   "source": [
    "# Dictionary which contains models for experiment\n",
    "models_new = {\n",
    "                \"Random Forest\": RandomForestRegressor(n_estimators = 15,\n",
    "                                                random_state = 1,\n",
    "                                                max_samples = 0.5,\n",
    "                                                max_features = 0.25,\n",
    "                                                max_depth =15),\n",
    "                \"Gradient Boosting\": GradientBoostingRegressor(learning_rate=0.1,\n",
    "                                                     max_depth=5,\n",
    "                                                     max_features='sqrt',\n",
    "                                                     n_estimators=100,\n",
    "                                                     random_state= 5 ),\n",
    "                \"XGBRegressor\": XGBRegressor(max_depth=2,\n",
    "                                       n_estimators=75)\n",
    "             }"
   ]
  },
  {
   "cell_type": "code",
   "execution_count": null,
   "id": "9509cbe1",
   "metadata": {},
   "outputs": [],
   "source": [
    "report_mean_new = evaluate_models(X_mean, y, models_new)"
   ]
  },
  {
   "cell_type": "code",
   "execution_count": null,
   "id": "754a2a25",
   "metadata": {},
   "outputs": [],
   "source": [
    "report_mean_new"
   ]
  },
  {
   "cell_type": "markdown",
   "id": "17c5ace1",
   "metadata": {},
   "source": [
    "### Experiment: 6 = Principle component analysis with imputing median"
   ]
  },
  {
   "cell_type": "markdown",
   "id": "3effa356",
   "metadata": {},
   "source": [
    "- Principal component analysis is a technique for feature extraction — so it combines our input variables in a specific way, then we can drop the “least important” variables while still retaining the most valuable parts of all of the variables! \n",
    "- As the dataset has 164 columns we can try PCA and check our metrics Cost"
   ]
  },
  {
   "cell_type": "code",
   "execution_count": null,
   "id": "88081dd6",
   "metadata": {},
   "outputs": [],
   "source": [
    "pca_pipeline = Pipeline(steps=[\n",
    "    ('Imputer', SimpleImputer(strategy='median', fill_value=np.median)),\n",
    "    ('RobustScaler', RobustScaler())\n",
    "])"
   ]
  },
  {
   "cell_type": "code",
   "execution_count": null,
   "id": "1b759bbe",
   "metadata": {},
   "outputs": [],
   "source": [
    "X_pca = pca_pipeline.fit_transform(X)"
   ]
  },
  {
   "cell_type": "code",
   "execution_count": null,
   "id": "2b8e7ca3",
   "metadata": {},
   "outputs": [],
   "source": [
    "#Applying PCA\n",
    "var_ratio={}\n",
    "for n in range(2,44):\n",
    "    pc=PCA(n_components=n)\n",
    "    df_pca=pc.fit(X_pca)\n",
    "    var_ratio[n]=sum(df_pca.explained_variance_ratio_)"
   ]
  },
  {
   "cell_type": "code",
   "execution_count": null,
   "id": "23413656",
   "metadata": {},
   "outputs": [],
   "source": [
    "# plotting variance ratio\n",
    "pd.Series(var_ratio).plot()"
   ]
  },
  {
   "cell_type": "code",
   "execution_count": null,
   "id": "86db8a0e",
   "metadata": {},
   "outputs": [],
   "source": [
    "\n",
    "i = np.arange(len(var_ratio))\n",
    "variance_ratio= list(var_ratio.values())\n",
    "components=  list(var_ratio.keys())\n",
    "knee = KneeLocator(i, variance_ratio, S=1, curve='concave', interp_method='polynomial')\n",
    "\n",
    "fig = plt.figure(figsize=(5, 5))\n",
    "knee.plot_knee()\n",
    "plt.xlabel(\"Points\")\n",
    "plt.ylabel(\"Distance\")\n",
    "plt.show()\n",
    "k= components[knee.knee]\n",
    "print('Knee Locator k =', k)"
   ]
  },
  {
   "cell_type": "code",
   "execution_count": null,
   "id": "d46b7401",
   "metadata": {},
   "outputs": [],
   "source": [
    "# Reducing the dimensions of the data \n",
    "pca_final=PCA(n_components=7,random_state=42).fit(X_pca)\n",
    "\n",
    "reduced=pca_final.fit_transform(X_pca)"
   ]
  },
  {
   "cell_type": "code",
   "execution_count": null,
   "id": "552692e5",
   "metadata": {},
   "outputs": [],
   "source": [
    "# Training all models\n",
    "report_pca = evaluate_models(X_pca,y, models)"
   ]
  },
  {
   "cell_type": "markdown",
   "id": "24ec4be0",
   "metadata": {},
   "source": [
    "### Report for PCA and Mean imputed data"
   ]
  },
  {
   "cell_type": "code",
   "execution_count": null,
   "id": "4e6e1d7b",
   "metadata": {},
   "outputs": [],
   "source": [
    "report_pca"
   ]
  },
  {
   "cell_type": "markdown",
   "id": "928a8a7c",
   "metadata": {},
   "source": [
    "### Hyperparameter tuning"
   ]
  },
  {
   "cell_type": "code",
   "execution_count": null,
   "id": "92d80db6",
   "metadata": {},
   "outputs": [],
   "source": [
    "# splitting dataset into train and test\n",
    "X_train, X_test, y_train, y_test = train_test_split(X_pca,y,test_size=0.15,random_state=10)"
   ]
  },
  {
   "cell_type": "code",
   "execution_count": null,
   "id": "a5a70638",
   "metadata": {},
   "outputs": [],
   "source": [
    "# Gradient Boosting"
   ]
  },
  {
   "cell_type": "code",
   "execution_count": null,
   "id": "528e8243",
   "metadata": {},
   "outputs": [],
   "source": [
    "gb = GradientBoostingRegressor()\n",
    "grid_param_gb = {\n",
    "                    \"learning_rate\":[0.1,0.5,1],\n",
    "                    \"n_estimators\":[50,75,100],\n",
    "                    \"max_depth\":[2,5,10],\n",
    "                    \"random_state\":[1,5,10],\n",
    "                    \"max_features\":['auto', 'sqrt', 'log2']\n",
    "                }\n",
    "\n",
    "grid_search_gb=GridSearchCV(estimator=gb,param_grid=grid_param_gb,cv=5)\n",
    "grid_search_gb.fit(X_train,y_train)"
   ]
  },
  {
   "cell_type": "code",
   "execution_count": null,
   "id": "13eb4414",
   "metadata": {},
   "outputs": [],
   "source": [
    "grid_search_gb.best_params_"
   ]
  },
  {
   "cell_type": "code",
   "execution_count": null,
   "id": "f07dce0a",
   "metadata": {},
   "outputs": [],
   "source": [
    "# RF"
   ]
  },
  {
   "cell_type": "code",
   "execution_count": null,
   "id": "2fbea86c",
   "metadata": {},
   "outputs": [],
   "source": [
    "rf = RandomForestRegressor()\n",
    "grid_param_rf = {\n",
    "                    \"n_estimators\":[20,40,75,100],\n",
    "                    \"random_state\":[1,5,10],\n",
    "                    \"max_samples\":[0.1,0.2,0.5,1],\n",
    "                    \"max_features\":[0.25,0.50,0.75,1],\n",
    "                    \"max_depth\":[5,10,15]\n",
    "                }\n",
    "grid_search_rf=GridSearchCV(estimator=rf,param_grid=grid_param_rf,cv=5)\n",
    "grid_search_rf.fit(X_train,y_train)"
   ]
  },
  {
   "cell_type": "code",
   "execution_count": null,
   "id": "27b27875",
   "metadata": {},
   "outputs": [],
   "source": [
    "grid_search_rf.best_params_"
   ]
  },
  {
   "cell_type": "code",
   "execution_count": null,
   "id": "15aa281a",
   "metadata": {},
   "outputs": [],
   "source": [
    "# XGB"
   ]
  },
  {
   "cell_type": "code",
   "execution_count": null,
   "id": "d81d2090",
   "metadata": {},
   "outputs": [],
   "source": [
    "xgb = XGBRegressor()\n",
    "grid_param_xgb = {\n",
    "                    \"n_estimators\":[30,50,75,100],\n",
    "                    \"max_depth\":[2,4,10]\n",
    "                }\n",
    "grid_search_xgb=GridSearchCV(estimator=xgb,param_grid=grid_param_xgb,cv=5)\n",
    "grid_search_xgb.fit(X_train,y_train)"
   ]
  },
  {
   "cell_type": "code",
   "execution_count": null,
   "id": "b499f964",
   "metadata": {},
   "outputs": [],
   "source": [
    "grid_search_xgb.best_params_"
   ]
  },
  {
   "cell_type": "code",
   "execution_count": null,
   "id": "7cae5444",
   "metadata": {},
   "outputs": [],
   "source": [
    "# Dictionary which contains models for experiment\n",
    "models_new = {\n",
    "                \"Random Forest\": RandomForestRegressor(n_estimators = 20,\n",
    "                                                random_state = 5,\n",
    "                                                max_samples = 0.5,\n",
    "                                                max_features = 0.75,\n",
    "                                                max_depth =15),\n",
    "                \"Gradient Boosting\": GradientBoostingRegressor(learning_rate=0.1,\n",
    "                                                     max_depth=5,\n",
    "                                                     max_features='log2',\n",
    "                                                     n_estimators=100,\n",
    "                                                     random_state= 10 ),\n",
    "                \"XGBRegressor\": XGBRegressor(max_depth=2,\n",
    "                                       n_estimators=75)\n",
    "             }"
   ]
  },
  {
   "cell_type": "code",
   "execution_count": null,
   "id": "19a15d34",
   "metadata": {},
   "outputs": [],
   "source": [
    "report_pca_new = evaluate_models(X_pca, y, models_new)"
   ]
  },
  {
   "cell_type": "code",
   "execution_count": null,
   "id": "51459c1c",
   "metadata": {},
   "outputs": [],
   "source": [
    "report_pca_new"
   ]
  }
 ],
 "metadata": {
  "kernelspec": {
   "display_name": "Python 3 (ipykernel)",
   "language": "python",
   "name": "python3"
  },
  "language_info": {
   "codemirror_mode": {
    "name": "ipython",
    "version": 3
   },
   "file_extension": ".py",
   "mimetype": "text/x-python",
   "name": "python",
   "nbconvert_exporter": "python",
   "pygments_lexer": "ipython3",
   "version": "3.9.12"
  },
  "vscode": {
   "interpreter": {
    "hash": "b962e8d4314148b39f3e0193c2981739a3b76c8cc15f8b0c9b04d48481a26909"
   }
  }
 },
 "nbformat": 4,
 "nbformat_minor": 5
}
